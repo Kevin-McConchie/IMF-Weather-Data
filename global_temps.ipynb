{
 "cells": [
  {
   "cell_type": "code",
   "execution_count": 102,
   "metadata": {},
   "outputs": [],
   "source": [
    "\n",
    "# Dependencies\n",
    "import numpy as np\n",
    "import pandas as pd\n",
    "import plotly.express as px\n",
    "import plotly.graph_objects as go"
   ]
  },
  {
   "cell_type": "code",
   "execution_count": 103,
   "metadata": {},
   "outputs": [
    {
     "data": {
      "text/html": [
       "<div>\n",
       "<style scoped>\n",
       "    .dataframe tbody tr th:only-of-type {\n",
       "        vertical-align: middle;\n",
       "    }\n",
       "\n",
       "    .dataframe tbody tr th {\n",
       "        vertical-align: top;\n",
       "    }\n",
       "\n",
       "    .dataframe thead th {\n",
       "        text-align: right;\n",
       "    }\n",
       "</style>\n",
       "<table border=\"1\" class=\"dataframe\">\n",
       "  <thead>\n",
       "    <tr style=\"text-align: right;\">\n",
       "      <th></th>\n",
       "      <th>ObjectId</th>\n",
       "      <th>Country</th>\n",
       "      <th>ISO2</th>\n",
       "      <th>ISO3</th>\n",
       "      <th>Indicator</th>\n",
       "      <th>Unit</th>\n",
       "      <th>Source</th>\n",
       "      <th>CTS_Code</th>\n",
       "      <th>CTS_Name</th>\n",
       "      <th>CTS_Full_Descriptor</th>\n",
       "      <th>...</th>\n",
       "      <th>F2013</th>\n",
       "      <th>F2014</th>\n",
       "      <th>F2015</th>\n",
       "      <th>F2016</th>\n",
       "      <th>F2017</th>\n",
       "      <th>F2018</th>\n",
       "      <th>F2019</th>\n",
       "      <th>F2020</th>\n",
       "      <th>F2021</th>\n",
       "      <th>F2022</th>\n",
       "    </tr>\n",
       "  </thead>\n",
       "  <tbody>\n",
       "    <tr>\n",
       "      <th>0</th>\n",
       "      <td>1</td>\n",
       "      <td>Afghanistan, Islamic Rep. of</td>\n",
       "      <td>AF</td>\n",
       "      <td>AFG</td>\n",
       "      <td>Temperature change with respect to a baseline ...</td>\n",
       "      <td>Degree Celsius</td>\n",
       "      <td>Food and Agriculture Organization of the Unite...</td>\n",
       "      <td>ECCS</td>\n",
       "      <td>Surface Temperature Change</td>\n",
       "      <td>Environment, Climate Change, Climate Indicator...</td>\n",
       "      <td>...</td>\n",
       "      <td>1.281</td>\n",
       "      <td>0.456</td>\n",
       "      <td>1.093</td>\n",
       "      <td>1.555</td>\n",
       "      <td>1.540</td>\n",
       "      <td>1.544</td>\n",
       "      <td>0.910</td>\n",
       "      <td>0.498</td>\n",
       "      <td>1.327</td>\n",
       "      <td>2.012</td>\n",
       "    </tr>\n",
       "    <tr>\n",
       "      <th>1</th>\n",
       "      <td>2</td>\n",
       "      <td>Albania</td>\n",
       "      <td>AL</td>\n",
       "      <td>ALB</td>\n",
       "      <td>Temperature change with respect to a baseline ...</td>\n",
       "      <td>Degree Celsius</td>\n",
       "      <td>Food and Agriculture Organization of the Unite...</td>\n",
       "      <td>ECCS</td>\n",
       "      <td>Surface Temperature Change</td>\n",
       "      <td>Environment, Climate Change, Climate Indicator...</td>\n",
       "      <td>...</td>\n",
       "      <td>1.333</td>\n",
       "      <td>1.198</td>\n",
       "      <td>1.569</td>\n",
       "      <td>1.464</td>\n",
       "      <td>1.121</td>\n",
       "      <td>2.028</td>\n",
       "      <td>1.675</td>\n",
       "      <td>1.498</td>\n",
       "      <td>1.536</td>\n",
       "      <td>1.518</td>\n",
       "    </tr>\n",
       "    <tr>\n",
       "      <th>2</th>\n",
       "      <td>3</td>\n",
       "      <td>Algeria</td>\n",
       "      <td>DZ</td>\n",
       "      <td>DZA</td>\n",
       "      <td>Temperature change with respect to a baseline ...</td>\n",
       "      <td>Degree Celsius</td>\n",
       "      <td>Food and Agriculture Organization of the Unite...</td>\n",
       "      <td>ECCS</td>\n",
       "      <td>Surface Temperature Change</td>\n",
       "      <td>Environment, Climate Change, Climate Indicator...</td>\n",
       "      <td>...</td>\n",
       "      <td>1.192</td>\n",
       "      <td>1.690</td>\n",
       "      <td>1.121</td>\n",
       "      <td>1.757</td>\n",
       "      <td>1.512</td>\n",
       "      <td>1.210</td>\n",
       "      <td>1.115</td>\n",
       "      <td>1.926</td>\n",
       "      <td>2.330</td>\n",
       "      <td>1.688</td>\n",
       "    </tr>\n",
       "    <tr>\n",
       "      <th>3</th>\n",
       "      <td>4</td>\n",
       "      <td>American Samoa</td>\n",
       "      <td>AS</td>\n",
       "      <td>ASM</td>\n",
       "      <td>Temperature change with respect to a baseline ...</td>\n",
       "      <td>Degree Celsius</td>\n",
       "      <td>Food and Agriculture Organization of the Unite...</td>\n",
       "      <td>ECCS</td>\n",
       "      <td>Surface Temperature Change</td>\n",
       "      <td>Environment, Climate Change, Climate Indicator...</td>\n",
       "      <td>...</td>\n",
       "      <td>1.257</td>\n",
       "      <td>1.170</td>\n",
       "      <td>1.009</td>\n",
       "      <td>1.539</td>\n",
       "      <td>1.435</td>\n",
       "      <td>1.189</td>\n",
       "      <td>1.539</td>\n",
       "      <td>1.430</td>\n",
       "      <td>1.268</td>\n",
       "      <td>1.256</td>\n",
       "    </tr>\n",
       "    <tr>\n",
       "      <th>4</th>\n",
       "      <td>5</td>\n",
       "      <td>Andorra, Principality of</td>\n",
       "      <td>AD</td>\n",
       "      <td>AND</td>\n",
       "      <td>Temperature change with respect to a baseline ...</td>\n",
       "      <td>Degree Celsius</td>\n",
       "      <td>Food and Agriculture Organization of the Unite...</td>\n",
       "      <td>ECCS</td>\n",
       "      <td>Surface Temperature Change</td>\n",
       "      <td>Environment, Climate Change, Climate Indicator...</td>\n",
       "      <td>...</td>\n",
       "      <td>0.831</td>\n",
       "      <td>1.946</td>\n",
       "      <td>1.690</td>\n",
       "      <td>1.990</td>\n",
       "      <td>1.925</td>\n",
       "      <td>1.919</td>\n",
       "      <td>1.964</td>\n",
       "      <td>2.562</td>\n",
       "      <td>1.533</td>\n",
       "      <td>3.243</td>\n",
       "    </tr>\n",
       "    <tr>\n",
       "      <th>...</th>\n",
       "      <td>...</td>\n",
       "      <td>...</td>\n",
       "      <td>...</td>\n",
       "      <td>...</td>\n",
       "      <td>...</td>\n",
       "      <td>...</td>\n",
       "      <td>...</td>\n",
       "      <td>...</td>\n",
       "      <td>...</td>\n",
       "      <td>...</td>\n",
       "      <td>...</td>\n",
       "      <td>...</td>\n",
       "      <td>...</td>\n",
       "      <td>...</td>\n",
       "      <td>...</td>\n",
       "      <td>...</td>\n",
       "      <td>...</td>\n",
       "      <td>...</td>\n",
       "      <td>...</td>\n",
       "      <td>...</td>\n",
       "      <td>...</td>\n",
       "    </tr>\n",
       "    <tr>\n",
       "      <th>220</th>\n",
       "      <td>221</td>\n",
       "      <td>Western Sahara</td>\n",
       "      <td>EH</td>\n",
       "      <td>ESH</td>\n",
       "      <td>Temperature change with respect to a baseline ...</td>\n",
       "      <td>Degree Celsius</td>\n",
       "      <td>Food and Agriculture Organization of the Unite...</td>\n",
       "      <td>ECCS</td>\n",
       "      <td>Surface Temperature Change</td>\n",
       "      <td>Environment, Climate Change, Climate Indicator...</td>\n",
       "      <td>...</td>\n",
       "      <td>1.423</td>\n",
       "      <td>1.401</td>\n",
       "      <td>1.510</td>\n",
       "      <td>1.732</td>\n",
       "      <td>2.204</td>\n",
       "      <td>0.942</td>\n",
       "      <td>1.477</td>\n",
       "      <td>2.069</td>\n",
       "      <td>1.593</td>\n",
       "      <td>1.970</td>\n",
       "    </tr>\n",
       "    <tr>\n",
       "      <th>221</th>\n",
       "      <td>222</td>\n",
       "      <td>World</td>\n",
       "      <td>NaN</td>\n",
       "      <td>WLD</td>\n",
       "      <td>Temperature change with respect to a baseline ...</td>\n",
       "      <td>Degree Celsius</td>\n",
       "      <td>Food and Agriculture Organization of the Unite...</td>\n",
       "      <td>ECCS</td>\n",
       "      <td>Surface Temperature Change</td>\n",
       "      <td>Environment, Climate Change, Climate Indicator...</td>\n",
       "      <td>...</td>\n",
       "      <td>1.016</td>\n",
       "      <td>1.053</td>\n",
       "      <td>1.412</td>\n",
       "      <td>1.660</td>\n",
       "      <td>1.429</td>\n",
       "      <td>1.290</td>\n",
       "      <td>1.444</td>\n",
       "      <td>1.711</td>\n",
       "      <td>1.447</td>\n",
       "      <td>1.394</td>\n",
       "    </tr>\n",
       "    <tr>\n",
       "      <th>222</th>\n",
       "      <td>223</td>\n",
       "      <td>Yemen, Rep. of</td>\n",
       "      <td>YE</td>\n",
       "      <td>YEM</td>\n",
       "      <td>Temperature change with respect to a baseline ...</td>\n",
       "      <td>Degree Celsius</td>\n",
       "      <td>Food and Agriculture Organization of the Unite...</td>\n",
       "      <td>ECCS</td>\n",
       "      <td>Surface Temperature Change</td>\n",
       "      <td>Environment, Climate Change, Climate Indicator...</td>\n",
       "      <td>...</td>\n",
       "      <td>NaN</td>\n",
       "      <td>NaN</td>\n",
       "      <td>NaN</td>\n",
       "      <td>NaN</td>\n",
       "      <td>NaN</td>\n",
       "      <td>NaN</td>\n",
       "      <td>NaN</td>\n",
       "      <td>NaN</td>\n",
       "      <td>NaN</td>\n",
       "      <td>NaN</td>\n",
       "    </tr>\n",
       "    <tr>\n",
       "      <th>223</th>\n",
       "      <td>224</td>\n",
       "      <td>Zambia</td>\n",
       "      <td>ZM</td>\n",
       "      <td>ZMB</td>\n",
       "      <td>Temperature change with respect to a baseline ...</td>\n",
       "      <td>Degree Celsius</td>\n",
       "      <td>Food and Agriculture Organization of the Unite...</td>\n",
       "      <td>ECCS</td>\n",
       "      <td>Surface Temperature Change</td>\n",
       "      <td>Environment, Climate Change, Climate Indicator...</td>\n",
       "      <td>...</td>\n",
       "      <td>0.790</td>\n",
       "      <td>0.917</td>\n",
       "      <td>1.450</td>\n",
       "      <td>1.401</td>\n",
       "      <td>0.105</td>\n",
       "      <td>0.648</td>\n",
       "      <td>0.855</td>\n",
       "      <td>0.891</td>\n",
       "      <td>0.822</td>\n",
       "      <td>0.686</td>\n",
       "    </tr>\n",
       "    <tr>\n",
       "      <th>224</th>\n",
       "      <td>225</td>\n",
       "      <td>Zimbabwe</td>\n",
       "      <td>ZW</td>\n",
       "      <td>ZWE</td>\n",
       "      <td>Temperature change with respect to a baseline ...</td>\n",
       "      <td>Degree Celsius</td>\n",
       "      <td>Food and Agriculture Organization of the Unite...</td>\n",
       "      <td>ECCS</td>\n",
       "      <td>Surface Temperature Change</td>\n",
       "      <td>Environment, Climate Change, Climate Indicator...</td>\n",
       "      <td>...</td>\n",
       "      <td>0.118</td>\n",
       "      <td>0.025</td>\n",
       "      <td>0.970</td>\n",
       "      <td>1.270</td>\n",
       "      <td>0.088</td>\n",
       "      <td>0.453</td>\n",
       "      <td>0.925</td>\n",
       "      <td>0.389</td>\n",
       "      <td>-0.125</td>\n",
       "      <td>-0.490</td>\n",
       "    </tr>\n",
       "  </tbody>\n",
       "</table>\n",
       "<p>225 rows × 72 columns</p>\n",
       "</div>"
      ],
      "text/plain": [
       "     ObjectId                       Country ISO2 ISO3  \\\n",
       "0           1  Afghanistan, Islamic Rep. of   AF  AFG   \n",
       "1           2                       Albania   AL  ALB   \n",
       "2           3                       Algeria   DZ  DZA   \n",
       "3           4                American Samoa   AS  ASM   \n",
       "4           5      Andorra, Principality of   AD  AND   \n",
       "..        ...                           ...  ...  ...   \n",
       "220       221                Western Sahara   EH  ESH   \n",
       "221       222                         World  NaN  WLD   \n",
       "222       223                Yemen, Rep. of   YE  YEM   \n",
       "223       224                        Zambia   ZM  ZMB   \n",
       "224       225                      Zimbabwe   ZW  ZWE   \n",
       "\n",
       "                                             Indicator            Unit  \\\n",
       "0    Temperature change with respect to a baseline ...  Degree Celsius   \n",
       "1    Temperature change with respect to a baseline ...  Degree Celsius   \n",
       "2    Temperature change with respect to a baseline ...  Degree Celsius   \n",
       "3    Temperature change with respect to a baseline ...  Degree Celsius   \n",
       "4    Temperature change with respect to a baseline ...  Degree Celsius   \n",
       "..                                                 ...             ...   \n",
       "220  Temperature change with respect to a baseline ...  Degree Celsius   \n",
       "221  Temperature change with respect to a baseline ...  Degree Celsius   \n",
       "222  Temperature change with respect to a baseline ...  Degree Celsius   \n",
       "223  Temperature change with respect to a baseline ...  Degree Celsius   \n",
       "224  Temperature change with respect to a baseline ...  Degree Celsius   \n",
       "\n",
       "                                                Source CTS_Code  \\\n",
       "0    Food and Agriculture Organization of the Unite...     ECCS   \n",
       "1    Food and Agriculture Organization of the Unite...     ECCS   \n",
       "2    Food and Agriculture Organization of the Unite...     ECCS   \n",
       "3    Food and Agriculture Organization of the Unite...     ECCS   \n",
       "4    Food and Agriculture Organization of the Unite...     ECCS   \n",
       "..                                                 ...      ...   \n",
       "220  Food and Agriculture Organization of the Unite...     ECCS   \n",
       "221  Food and Agriculture Organization of the Unite...     ECCS   \n",
       "222  Food and Agriculture Organization of the Unite...     ECCS   \n",
       "223  Food and Agriculture Organization of the Unite...     ECCS   \n",
       "224  Food and Agriculture Organization of the Unite...     ECCS   \n",
       "\n",
       "                       CTS_Name  \\\n",
       "0    Surface Temperature Change   \n",
       "1    Surface Temperature Change   \n",
       "2    Surface Temperature Change   \n",
       "3    Surface Temperature Change   \n",
       "4    Surface Temperature Change   \n",
       "..                          ...   \n",
       "220  Surface Temperature Change   \n",
       "221  Surface Temperature Change   \n",
       "222  Surface Temperature Change   \n",
       "223  Surface Temperature Change   \n",
       "224  Surface Temperature Change   \n",
       "\n",
       "                                   CTS_Full_Descriptor  ...  F2013  F2014  \\\n",
       "0    Environment, Climate Change, Climate Indicator...  ...  1.281  0.456   \n",
       "1    Environment, Climate Change, Climate Indicator...  ...  1.333  1.198   \n",
       "2    Environment, Climate Change, Climate Indicator...  ...  1.192  1.690   \n",
       "3    Environment, Climate Change, Climate Indicator...  ...  1.257  1.170   \n",
       "4    Environment, Climate Change, Climate Indicator...  ...  0.831  1.946   \n",
       "..                                                 ...  ...    ...    ...   \n",
       "220  Environment, Climate Change, Climate Indicator...  ...  1.423  1.401   \n",
       "221  Environment, Climate Change, Climate Indicator...  ...  1.016  1.053   \n",
       "222  Environment, Climate Change, Climate Indicator...  ...    NaN    NaN   \n",
       "223  Environment, Climate Change, Climate Indicator...  ...  0.790  0.917   \n",
       "224  Environment, Climate Change, Climate Indicator...  ...  0.118  0.025   \n",
       "\n",
       "     F2015  F2016  F2017  F2018  F2019  F2020  F2021  F2022  \n",
       "0    1.093  1.555  1.540  1.544  0.910  0.498  1.327  2.012  \n",
       "1    1.569  1.464  1.121  2.028  1.675  1.498  1.536  1.518  \n",
       "2    1.121  1.757  1.512  1.210  1.115  1.926  2.330  1.688  \n",
       "3    1.009  1.539  1.435  1.189  1.539  1.430  1.268  1.256  \n",
       "4    1.690  1.990  1.925  1.919  1.964  2.562  1.533  3.243  \n",
       "..     ...    ...    ...    ...    ...    ...    ...    ...  \n",
       "220  1.510  1.732  2.204  0.942  1.477  2.069  1.593  1.970  \n",
       "221  1.412  1.660  1.429  1.290  1.444  1.711  1.447  1.394  \n",
       "222    NaN    NaN    NaN    NaN    NaN    NaN    NaN    NaN  \n",
       "223  1.450  1.401  0.105  0.648  0.855  0.891  0.822  0.686  \n",
       "224  0.970  1.270  0.088  0.453  0.925  0.389 -0.125 -0.490  \n",
       "\n",
       "[225 rows x 72 columns]"
      ]
     },
     "execution_count": 103,
     "metadata": {},
     "output_type": "execute_result"
    }
   ],
   "source": [
    "#Read csv file\n",
    "temp_df = pd.read_csv('./Resources/Annual_Surface_Temperature_Change.csv')\n",
    "\n",
    "# Replace NaN values with Zeros\n",
    "# temp_df = temp_df.fillna(0)\n",
    "\n",
    "# Alternative with dropping of NaN values so they don't skew averages\n",
    "# temp_na = temp_df.dropna()\n",
    "\n",
    "temp_df"
   ]
  },
  {
   "cell_type": "code",
   "execution_count": 104,
   "metadata": {},
   "outputs": [],
   "source": [
    "# Select columns for graphs\n",
    "temps_df = pd.concat([temp_df['Country'], temp_df.loc[:, 'F1961':'F2022']], axis=1)\n",
    "temps_na =pd.concat([temp_na['Country'], temp_na.loc[:, 'F1961':'F2022']], axis=1)\n",
    "# map contients\n",
    "continent_mapping = {\n",
    "    'Afghanistan, Islamic Rep. of': 'Asia',\n",
    "    'Albania': 'Europe',\n",
    "    'Algeria': 'Africa',\n",
    "    'American Samoa': 'Oceania',\n",
    "    'Andorra, Principality of': 'Europe',\n",
    "    'Angola': 'Africa',\n",
    "    'Anguilla': 'North America',\n",
    "    'Antigua and Barbuda': 'North America',\n",
    "    'Argentina': 'South America',\n",
    "    'Armenia, Rep. of': 'Asia',\n",
    "    'Aruba, Kingdom of the Netherlands': 'North America',\n",
    "    'Australia': 'Oceania',\n",
    "    'Austria': 'Europe',\n",
    "    'Azerbaijan, Rep. of': 'Asia',\n",
    "    'Bahamas, The': 'North America',\n",
    "    'Bahrain, Kingdom of': 'Asia',\n",
    "    'Bangladesh': 'Asia',\n",
    "    'Barbados': 'North America',\n",
    "    'Belarus, Rep. of': 'Europe',\n",
    "    'Belgium': 'Europe',\n",
    "    'Belize': 'North America',\n",
    "    'Benin': 'Africa',\n",
    "    'Bhutan': 'Asia',\n",
    "    'Bolivia': 'South America',\n",
    "    'Bosnia and Herzegovina': 'Europe',\n",
    "    'Botswana': 'Africa',\n",
    "    'Brazil': 'South America',\n",
    "    'British Virgin Islands': 'North America',\n",
    "    'Brunei Darussalam': 'Asia',\n",
    "    'Bulgaria': 'Europe',\n",
    "    'Burkina Faso': 'Africa',\n",
    "    'Burundi': 'Africa',\n",
    "    'Cabo Verde': 'Africa',\n",
    "    'Cambodia': 'Asia',\n",
    "    'Cameroon': 'Africa',\n",
    "    'Canada': 'North America',\n",
    "    'Cayman Islands': 'North America',\n",
    "    'Central African Rep.': 'Africa',\n",
    "    'Chad': 'Africa',\n",
    "    'Chile': 'South America',\n",
    "    'China, P.R.: Hong Kong': 'Asia',\n",
    "    'China, P.R.: Macao': 'Asia',\n",
    "    'China, P.R.: Mainland': 'Asia',\n",
    "    'Colombia': 'South America',\n",
    "    'Comoros, Union of the': 'Africa',\n",
    "    'Congo, Dem. Rep. of the': 'Africa',\n",
    "    'Congo, Rep. of': 'Africa',\n",
    "    'Cook Islands': 'Oceania',\n",
    "    'Costa Rica': 'North America',\n",
    "    'Croatia, Rep. of': 'Europe',\n",
    "    'Cuba': 'North America',\n",
    "    'Cyprus': 'Asia',\n",
    "    'Czech Rep.': 'Europe',\n",
    "    'Denmark': 'Europe',\n",
    "    'Djibouti': 'Africa',\n",
    "    'Dominica': 'North America',\n",
    "    'Dominican Rep.': 'North America',\n",
    "    'Ecuador': 'South America',\n",
    "    'Egypt, Arab Rep. of': 'Africa',\n",
    "    'El Salvador': 'North America',\n",
    "    'Equatorial Guinea, Rep. of': 'Africa',\n",
    "    'Eritrea, The State of': 'Africa',\n",
    "    'Estonia, Rep. of': 'Europe',\n",
    "    'Eswatini, Kingdom of': 'Africa',\n",
    "    'Ethiopia, The Federal Dem. Rep. of': 'Africa',\n",
    "    'Falkland Islands (Malvinas)': 'South America',\n",
    "    'Faroe Islands': 'Europe',\n",
    "    'Fiji, Rep. of': 'Oceania',\n",
    "    'Finland': 'Europe',\n",
    "    'France': 'Europe',\n",
    "    'French Polynesia': 'Oceania',\n",
    "    'Gabon': 'Africa',\n",
    "    'Gambia, The': 'Africa',\n",
    "    'Georgia': 'Asia',\n",
    "    'Germany': 'Europe',\n",
    "    'Ghana': 'Africa',\n",
    "    'Gibraltar': 'Europe',\n",
    "    'Greece': 'Europe',\n",
    "    'Greenland': 'North America',\n",
    "    'Grenada': 'North America',\n",
    "    'Guadeloupe': 'North America',\n",
    "    'Guatemala': 'North America',\n",
    "    'Guinea': 'Africa',\n",
    "    'Guinea-Bissau': 'Africa',\n",
    "    'Guyana': 'South America',\n",
    "    'Haiti': 'North America',\n",
    "    'Holy See': 'Europe',\n",
    "    'Honduras': 'North America',\n",
    "    'Hungary': 'Europe',\n",
    "    'Iceland': 'Europe',\n",
    "    'India': 'Asia',\n",
    "    'Indonesia': 'Asia',\n",
    "    'Iran, Islamic Rep. of': 'Asia',\n",
    "    'Iraq': 'Asia',\n",
    "    'Ireland': 'Europe',\n",
    "    'Isle of Man': 'Europe',\n",
    "    'Israel': 'Asia',\n",
    "    'Italy': 'Europe',\n",
    "    'Jamaica': 'North America',\n",
    "    'Japan': 'Asia',\n",
    "    'Jordan': 'Asia',\n",
    "    'Kazakhstan, Rep. of': 'Asia',\n",
    "    'Kenya': 'Africa',\n",
    "    'Kiribati': 'Oceania',\n",
    "    'Korea, Dem. People\\'s Rep. of': 'Asia',\n",
    "    'Korea, Rep. of': 'Asia',\n",
    "    'Kuwait': 'Asia',\n",
    "    'Kyrgyz Rep.': 'Asia',\n",
    "    'Lao People\\'s Dem. Rep.': 'Asia',\n",
    "    'Latvia': 'Europe',\n",
    "    'Lebanon': 'Asia',\n",
    "    'Lesotho, Kingdom of': 'Africa',\n",
    "    'Liberia': 'Africa',\n",
    "    'Libya': 'Africa',\n",
    "    'Liechtenstein': 'Europe',\n",
    "    'Lithuania': 'Europe',\n",
    "    'Luxembourg': 'Europe',\n",
    "    'Madagascar, Rep. of': 'Africa',\n",
    "    'Malawi': 'Africa',\n",
    "    'Malaysia': 'Asia',\n",
    "    'Maldives': 'Asia',\n",
    "    'Mali': 'Africa',\n",
    "    'Malta': 'Europe',\n",
    "    'Marshall Islands, Rep. of the': 'Oceania',\n",
    "    'Martinique': 'North America',\n",
    "    'Mauritania, Islamic Rep. of': 'Africa',\n",
    "    'Mauritius': 'Africa',\n",
    "    'Mayotte': 'Africa',\n",
    "    'Mexico': 'North America',\n",
    "    'Micronesia, Federated States of': 'Oceania',\n",
    "    'Moldova, Rep. of': 'Europe',\n",
    "    'Monaco': 'Europe',\n",
    "    'Mongolia': 'Asia',\n",
    "    'Montenegro': 'Europe',\n",
    "    'Montserrat': 'North America',\n",
    "    'Morocco': 'Africa',\n",
    "    'Mozambique, Rep. of': 'Africa',\n",
    "    'Myanmar': 'Asia',\n",
    "    'Namibia': 'Africa',\n",
    "    'Nauru, Rep. of': 'Oceania',\n",
    "    'Nepal': 'Asia',\n",
    "    'Netherlands, The': 'Europe',\n",
    "    'New Caledonia': 'Oceania',\n",
    "    'New Zealand': 'Oceania',\n",
    "    'Nicaragua': 'North America',\n",
    "    'Niger': 'Africa',\n",
    "    'Nigeria': 'Africa',\n",
    "    'Niue': 'Oceania',\n",
    "    'Norfolk Island': 'Oceania',\n",
    "    'North Macedonia, Republic of': 'Europe',\n",
    "    'Norway': 'Europe',\n",
    "    'Oman': 'Asia',\n",
    "    'Pakistan': 'Asia',\n",
    "    'Palau, Rep. of': 'Oceania',\n",
    "    'Panama': 'North America',\n",
    "    'Papua New Guinea': 'Oceania',\n",
    "    'Paraguay': 'South America',\n",
    "    'Peru': 'South America',\n",
    "    'Philippines': 'Asia',\n",
    "    'Pitcairn Islands': 'Oceania',\n",
    "    'Poland, Rep. of': 'Europe',\n",
    "    'Portugal': 'Europe',\n",
    "    'Puerto Rico': 'North America',\n",
    "    'Qatar': 'Asia',\n",
    "    'Romania': 'Europe',\n",
    "    'Russian Federation': 'Europe',\n",
    "    'Rwanda': 'Africa',\n",
    "    'Saint Helena': 'Africa',\n",
    "    'Saint Pierre and Miquelon': 'North America',\n",
    "    'Samoa': 'Oceania',\n",
    "    'San Marino, Rep. of': 'Europe',\n",
    "    'São Tomé and Príncipe, Dem. Rep. of': 'Africa',\n",
    "    'Saudi Arabia': 'Asia',\n",
    "    'Senegal': 'Africa',\n",
    "    'Serbia, Rep. of': 'Europe',\n",
    "    'Seychelles': 'Africa',\n",
    "    'Sierra Leone': 'Africa',\n",
    "    'Singapore': 'Asia',\n",
    "    'Slovak Rep.': 'Europe',\n",
    "    'Slovenia, Rep. of': 'Europe',\n",
    "    'Solomon Islands': 'Oceania',\n",
    "    'Somalia': 'Africa',\n",
    "    'South Africa': 'Africa',\n",
    "    'South Sudan, Rep. of': 'Africa',\n",
    "    'Spain': 'Europe',\n",
    "    'Sri Lanka': 'Asia',\n",
    "    'St. Kitts and Nevis': 'North America',\n",
    "    'St. Lucia': 'North America',\n",
    "    'St. Vincent and the Grenadines': 'North America',\n",
    "    'Sudan': 'Africa',\n",
    "    'Suriname': 'South America',\n",
    "    'Sweden': 'Europe',\n",
    "    'Switzerland': 'Europe',\n",
    "    'Syrian Arab Rep.': 'Asia',\n",
    "    'Taiwan Province of China': 'Asia',\n",
    "    'Tajikistan, Rep. of': 'Asia',\n",
    "    'Tanzania, United Rep. of': 'Africa',\n",
    "    'Thailand': 'Asia',\n",
    "    'Timor-Leste, Dem. Rep. of': 'Asia',\n",
    "    'Togo': 'Africa',\n",
    "    'Tokelau': 'Oceania',\n",
    "    'Tonga': 'Oceania',\n",
    "    'Trinidad and Tobago': 'North America',\n",
    "    'Tunisia': 'Africa',\n",
    "    'Turkey': 'Asia',\n",
    "    'Turkmenistan': 'Asia',\n",
    "    'Turks and Caicos Islands': 'North America',\n",
    "    'Tuvalu': 'Oceania',\n",
    "    'Uganda': 'Africa',\n",
    "    'Ukraine': 'Europe',\n",
    "    'United Arab Emirates': 'Asia',\n",
    "    'United Kingdom': 'Europe',\n",
    "    'United States': 'North America',\n",
    "    'United States Virgin Islands': 'North America',\n",
    "    'Uruguay': 'South America',\n",
    "    'Uzbekistan, Rep. of': 'Asia',\n",
    "    'Vanuatu': 'Oceania',\n",
    "    'Venezuela, Rep. Bolivariana de': 'South America',\n",
    "    'Vietnam': 'Asia',\n",
    "    'Wallis and Futuna Islands': 'Oceania',\n",
    "    'West Bank and Gaza': 'Asia',\n",
    "    'Western Sahara': 'Africa',\n",
    "    'Yemen, Rep. of': 'Asia',\n",
    "    'Zambia': 'Africa',\n",
    "    'Zimbabwe': 'Africa',\n",
    "    'World':'World'\n",
    "}\n",
    "\n",
    "\n",
    "# Create a new column 'Continent' in the DataFrame\n",
    "temps_df['Continent'] = [continent_mapping.get(country, '') for country in temps_df['Country']]\n",
    "\n",
    "# Reorder the columns\n",
    "cols = temps_df.columns.tolist()\n",
    "cols = ['Continent', 'Country'] + cols[1:-1]  # Move 'Continent' to the left of 'Country'\n",
    "temps_df = temps_df[cols]\n",
    "\n",
    "# Assign Europe to North Macedonia as its not populating like the other countries\n",
    "temps_df.loc[149, 'Continent'] = 'Europe'\n",
    "\n",
    "# temps_df.to_excel('temps_df.xlsx')"
   ]
  },
  {
   "cell_type": "code",
   "execution_count": 116,
   "metadata": {},
   "outputs": [],
   "source": [
    "# Iterate over each row\n",
    "for _, row in temps_df.iterrows():\n",
    "    country = row['Country']\n",
    "    x_values = list(row.index)[2:]  # Select all columns except the 'Country' & 'Continent' columns\n",
    "    y_values = list(row.values)[1:]  # Select all values except the 'Country' values\n",
    "\n",
    "    # Create trace for the bar chart\n",
    "    trace = go.Bar(\n",
    "        x=x_values,\n",
    "        y=y_values,\n",
    "        name=country\n",
    "    )\n",
    "\n",
    "    # Create data list with the trace\n",
    "    data = [trace]\n",
    "\n",
    "    # Create layout\n",
    "    layout = go.Layout(\n",
    "        title=f'Bar Chart for {country}',\n",
    "        xaxis=dict(title='Year'),\n",
    "        yaxis=dict(title='Temperature Difference (Celsius) Year on Year')\n",
    "    )\n",
    "\n",
    "    # Create figure\n",
    "    fig = go.Figure(data=data, layout=layout)\n",
    "\n",
    "    # Display the figure\n",
    "    fig.show()"
   ]
  },
  {
   "cell_type": "code",
   "execution_count": 118,
   "metadata": {},
   "outputs": [
    {
     "data": {
      "text/html": [
       "<div>\n",
       "<style scoped>\n",
       "    .dataframe tbody tr th:only-of-type {\n",
       "        vertical-align: middle;\n",
       "    }\n",
       "\n",
       "    .dataframe tbody tr th {\n",
       "        vertical-align: top;\n",
       "    }\n",
       "\n",
       "    .dataframe thead th {\n",
       "        text-align: right;\n",
       "    }\n",
       "</style>\n",
       "<table border=\"1\" class=\"dataframe\">\n",
       "  <thead>\n",
       "    <tr style=\"text-align: right;\">\n",
       "      <th></th>\n",
       "      <th>F1961</th>\n",
       "      <th>F1962</th>\n",
       "      <th>F1963</th>\n",
       "      <th>F1964</th>\n",
       "      <th>F1965</th>\n",
       "      <th>F1966</th>\n",
       "      <th>F1967</th>\n",
       "      <th>F1968</th>\n",
       "      <th>F1969</th>\n",
       "      <th>F1970</th>\n",
       "      <th>...</th>\n",
       "      <th>F2013</th>\n",
       "      <th>F2014</th>\n",
       "      <th>F2015</th>\n",
       "      <th>F2016</th>\n",
       "      <th>F2017</th>\n",
       "      <th>F2018</th>\n",
       "      <th>F2019</th>\n",
       "      <th>F2020</th>\n",
       "      <th>F2021</th>\n",
       "      <th>F2022</th>\n",
       "    </tr>\n",
       "    <tr>\n",
       "      <th>Continent</th>\n",
       "      <th></th>\n",
       "      <th></th>\n",
       "      <th></th>\n",
       "      <th></th>\n",
       "      <th></th>\n",
       "      <th></th>\n",
       "      <th></th>\n",
       "      <th></th>\n",
       "      <th></th>\n",
       "      <th></th>\n",
       "      <th></th>\n",
       "      <th></th>\n",
       "      <th></th>\n",
       "      <th></th>\n",
       "      <th></th>\n",
       "      <th></th>\n",
       "      <th></th>\n",
       "      <th></th>\n",
       "      <th></th>\n",
       "      <th></th>\n",
       "      <th></th>\n",
       "    </tr>\n",
       "  </thead>\n",
       "  <tbody>\n",
       "    <tr>\n",
       "      <th>Africa</th>\n",
       "      <td>0.056442</td>\n",
       "      <td>-0.029423</td>\n",
       "      <td>0.029250</td>\n",
       "      <td>-0.119288</td>\n",
       "      <td>-0.242635</td>\n",
       "      <td>0.116346</td>\n",
       "      <td>-0.150673</td>\n",
       "      <td>-0.229077</td>\n",
       "      <td>0.319808</td>\n",
       "      <td>0.251212</td>\n",
       "      <td>...</td>\n",
       "      <td>0.942667</td>\n",
       "      <td>0.967259</td>\n",
       "      <td>1.196593</td>\n",
       "      <td>1.350444</td>\n",
       "      <td>1.259204</td>\n",
       "      <td>1.086889</td>\n",
       "      <td>1.357444</td>\n",
       "      <td>1.259288</td>\n",
       "      <td>1.317278</td>\n",
       "      <td>1.062611</td>\n",
       "    </tr>\n",
       "    <tr>\n",
       "      <th>Asia</th>\n",
       "      <td>-0.026575</td>\n",
       "      <td>0.144439</td>\n",
       "      <td>0.193400</td>\n",
       "      <td>-0.198561</td>\n",
       "      <td>-0.123425</td>\n",
       "      <td>0.369310</td>\n",
       "      <td>-0.300405</td>\n",
       "      <td>-0.323667</td>\n",
       "      <td>0.161238</td>\n",
       "      <td>0.154829</td>\n",
       "      <td>...</td>\n",
       "      <td>1.032265</td>\n",
       "      <td>0.905735</td>\n",
       "      <td>1.326592</td>\n",
       "      <td>1.512673</td>\n",
       "      <td>1.346224</td>\n",
       "      <td>1.470061</td>\n",
       "      <td>1.503306</td>\n",
       "      <td>1.522041</td>\n",
       "      <td>1.626286</td>\n",
       "      <td>1.563918</td>\n",
       "    </tr>\n",
       "    <tr>\n",
       "      <th>Europe</th>\n",
       "      <td>0.870900</td>\n",
       "      <td>-0.208100</td>\n",
       "      <td>-0.486267</td>\n",
       "      <td>0.039333</td>\n",
       "      <td>-0.498500</td>\n",
       "      <td>0.110333</td>\n",
       "      <td>0.353533</td>\n",
       "      <td>-0.050200</td>\n",
       "      <td>-0.230033</td>\n",
       "      <td>-0.318967</td>\n",
       "      <td>...</td>\n",
       "      <td>0.973596</td>\n",
       "      <td>1.931085</td>\n",
       "      <td>1.676085</td>\n",
       "      <td>1.789362</td>\n",
       "      <td>1.537085</td>\n",
       "      <td>1.960085</td>\n",
       "      <td>1.923787</td>\n",
       "      <td>2.248553</td>\n",
       "      <td>1.474319</td>\n",
       "      <td>2.135723</td>\n",
       "    </tr>\n",
       "    <tr>\n",
       "      <th>North America</th>\n",
       "      <td>0.014688</td>\n",
       "      <td>-0.012939</td>\n",
       "      <td>0.107485</td>\n",
       "      <td>0.038875</td>\n",
       "      <td>-0.217545</td>\n",
       "      <td>-0.020088</td>\n",
       "      <td>-0.224853</td>\n",
       "      <td>-0.191971</td>\n",
       "      <td>0.271088</td>\n",
       "      <td>0.040735</td>\n",
       "      <td>...</td>\n",
       "      <td>0.881206</td>\n",
       "      <td>0.817971</td>\n",
       "      <td>1.076059</td>\n",
       "      <td>1.257937</td>\n",
       "      <td>1.053303</td>\n",
       "      <td>0.824094</td>\n",
       "      <td>1.140091</td>\n",
       "      <td>1.363364</td>\n",
       "      <td>1.113219</td>\n",
       "      <td>0.960969</td>\n",
       "    </tr>\n",
       "    <tr>\n",
       "      <th>Oceania</th>\n",
       "      <td>0.054900</td>\n",
       "      <td>0.054316</td>\n",
       "      <td>-0.050526</td>\n",
       "      <td>0.044053</td>\n",
       "      <td>-0.373316</td>\n",
       "      <td>-0.177150</td>\n",
       "      <td>-0.158684</td>\n",
       "      <td>-0.191684</td>\n",
       "      <td>0.006889</td>\n",
       "      <td>0.192778</td>\n",
       "      <td>...</td>\n",
       "      <td>0.800632</td>\n",
       "      <td>0.679684</td>\n",
       "      <td>0.675263</td>\n",
       "      <td>1.152167</td>\n",
       "      <td>1.023333</td>\n",
       "      <td>0.883944</td>\n",
       "      <td>1.019588</td>\n",
       "      <td>1.120111</td>\n",
       "      <td>0.968000</td>\n",
       "      <td>1.045500</td>\n",
       "    </tr>\n",
       "    <tr>\n",
       "      <th>South America</th>\n",
       "      <td>0.067385</td>\n",
       "      <td>-0.103000</td>\n",
       "      <td>0.110769</td>\n",
       "      <td>-0.141692</td>\n",
       "      <td>0.043308</td>\n",
       "      <td>-0.045308</td>\n",
       "      <td>-0.042000</td>\n",
       "      <td>-0.055615</td>\n",
       "      <td>0.327615</td>\n",
       "      <td>0.202538</td>\n",
       "      <td>...</td>\n",
       "      <td>0.642167</td>\n",
       "      <td>0.970667</td>\n",
       "      <td>1.254000</td>\n",
       "      <td>1.068333</td>\n",
       "      <td>1.106250</td>\n",
       "      <td>0.910750</td>\n",
       "      <td>1.132500</td>\n",
       "      <td>1.368583</td>\n",
       "      <td>0.963667</td>\n",
       "      <td>0.752833</td>\n",
       "    </tr>\n",
       "    <tr>\n",
       "      <th>World</th>\n",
       "      <td>0.211000</td>\n",
       "      <td>0.038000</td>\n",
       "      <td>0.168000</td>\n",
       "      <td>-0.246000</td>\n",
       "      <td>-0.223000</td>\n",
       "      <td>0.201000</td>\n",
       "      <td>-0.117000</td>\n",
       "      <td>-0.126000</td>\n",
       "      <td>-0.092000</td>\n",
       "      <td>0.150000</td>\n",
       "      <td>...</td>\n",
       "      <td>1.016000</td>\n",
       "      <td>1.053000</td>\n",
       "      <td>1.412000</td>\n",
       "      <td>1.660000</td>\n",
       "      <td>1.429000</td>\n",
       "      <td>1.290000</td>\n",
       "      <td>1.444000</td>\n",
       "      <td>1.711000</td>\n",
       "      <td>1.447000</td>\n",
       "      <td>1.394000</td>\n",
       "    </tr>\n",
       "  </tbody>\n",
       "</table>\n",
       "<p>7 rows × 62 columns</p>\n",
       "</div>"
      ],
      "text/plain": [
       "                  F1961     F1962     F1963     F1964     F1965     F1966  \\\n",
       "Continent                                                                   \n",
       "Africa         0.056442 -0.029423  0.029250 -0.119288 -0.242635  0.116346   \n",
       "Asia          -0.026575  0.144439  0.193400 -0.198561 -0.123425  0.369310   \n",
       "Europe         0.870900 -0.208100 -0.486267  0.039333 -0.498500  0.110333   \n",
       "North America  0.014688 -0.012939  0.107485  0.038875 -0.217545 -0.020088   \n",
       "Oceania        0.054900  0.054316 -0.050526  0.044053 -0.373316 -0.177150   \n",
       "South America  0.067385 -0.103000  0.110769 -0.141692  0.043308 -0.045308   \n",
       "World          0.211000  0.038000  0.168000 -0.246000 -0.223000  0.201000   \n",
       "\n",
       "                  F1967     F1968     F1969     F1970  ...     F2013  \\\n",
       "Continent                                              ...             \n",
       "Africa        -0.150673 -0.229077  0.319808  0.251212  ...  0.942667   \n",
       "Asia          -0.300405 -0.323667  0.161238  0.154829  ...  1.032265   \n",
       "Europe         0.353533 -0.050200 -0.230033 -0.318967  ...  0.973596   \n",
       "North America -0.224853 -0.191971  0.271088  0.040735  ...  0.881206   \n",
       "Oceania       -0.158684 -0.191684  0.006889  0.192778  ...  0.800632   \n",
       "South America -0.042000 -0.055615  0.327615  0.202538  ...  0.642167   \n",
       "World         -0.117000 -0.126000 -0.092000  0.150000  ...  1.016000   \n",
       "\n",
       "                  F2014     F2015     F2016     F2017     F2018     F2019  \\\n",
       "Continent                                                                   \n",
       "Africa         0.967259  1.196593  1.350444  1.259204  1.086889  1.357444   \n",
       "Asia           0.905735  1.326592  1.512673  1.346224  1.470061  1.503306   \n",
       "Europe         1.931085  1.676085  1.789362  1.537085  1.960085  1.923787   \n",
       "North America  0.817971  1.076059  1.257937  1.053303  0.824094  1.140091   \n",
       "Oceania        0.679684  0.675263  1.152167  1.023333  0.883944  1.019588   \n",
       "South America  0.970667  1.254000  1.068333  1.106250  0.910750  1.132500   \n",
       "World          1.053000  1.412000  1.660000  1.429000  1.290000  1.444000   \n",
       "\n",
       "                  F2020     F2021     F2022  \n",
       "Continent                                    \n",
       "Africa         1.259288  1.317278  1.062611  \n",
       "Asia           1.522041  1.626286  1.563918  \n",
       "Europe         2.248553  1.474319  2.135723  \n",
       "North America  1.363364  1.113219  0.960969  \n",
       "Oceania        1.120111  0.968000  1.045500  \n",
       "South America  1.368583  0.963667  0.752833  \n",
       "World          1.711000  1.447000  1.394000  \n",
       "\n",
       "[7 rows x 62 columns]"
      ]
     },
     "execution_count": 118,
     "metadata": {},
     "output_type": "execute_result"
    }
   ],
   "source": [
    "# Group countries by continent and average the temperature difference\n",
    "cont_df = temps_df.groupby('Continent').mean()\n",
    "\n",
    "cont_df"
   ]
  },
  {
   "cell_type": "code",
   "execution_count": 115,
   "metadata": {},
   "outputs": [
    {
     "data": {
      "application/vnd.plotly.v1+json": {
       "config": {
        "plotlyServerURL": "https://plot.ly"
       },
       "data": [
        {
         "mode": "lines",
         "name": "Africa",
         "type": "scatter",
         "x": [
          "F1961",
          "F1962",
          "F1963",
          "F1964",
          "F1965",
          "F1966",
          "F1967",
          "F1968",
          "F1969",
          "F1970",
          "F1971",
          "F1972",
          "F1973",
          "F1974",
          "F1975",
          "F1976",
          "F1977",
          "F1978",
          "F1979",
          "F1980",
          "F1981",
          "F1982",
          "F1983",
          "F1984",
          "F1985",
          "F1986",
          "F1987",
          "F1988",
          "F1989",
          "F1990",
          "F1991",
          "F1992",
          "F1993",
          "F1994",
          "F1995",
          "F1996",
          "F1997",
          "F1998",
          "F1999",
          "F2000",
          "F2001",
          "F2002",
          "F2003",
          "F2004",
          "F2005",
          "F2006",
          "F2007",
          "F2008",
          "F2009",
          "F2010",
          "F2011",
          "F2012",
          "F2013",
          "F2014",
          "F2015",
          "F2016",
          "F2017",
          "F2018",
          "F2019",
          "F2020",
          "F2021",
          "F2022"
         ],
         "y": [
          0.0564423076923077,
          -0.029423076923076923,
          0.029249999999999998,
          -0.11928846153846154,
          -0.2426346153846154,
          0.11634615384615385,
          -0.1506730769230769,
          -0.2290769230769231,
          0.3198076923076923,
          0.2512115384615385,
          -0.20336538461538461,
          -0.01903846153846154,
          0.3863653846153846,
          -0.21351923076923077,
          -0.18346938775510205,
          -0.24124489795918366,
          0.2856666666666667,
          0.14518,
          0.39416000000000007,
          0.3811,
          0.12586,
          0.2557115384615385,
          0.5638846153846153,
          0.2979183673469388,
          0.26377551020408163,
          0.25153846153846154,
          0.7051923076923077,
          0.5661923076923077,
          0.06413461538461539,
          0.560078431372549,
          0.39230000000000004,
          0.26592307692307693,
          0.42839215686274507,
          0.43686274509803924,
          0.6212745098039215,
          0.48405882352941176,
          0.6259795918367347,
          1.000962962962963,
          0.6072692307692308,
          0.47611764705882353,
          0.6457222222222222,
          0.8664814814814815,
          0.9569444444444444,
          0.8044074074074075,
          1.0138653846153844,
          0.8566153846153846,
          0.8258888888888889,
          0.738423076923077,
          0.8859807692307692,
          1.3194509803921568,
          0.9226296296296297,
          0.7864716981132075,
          0.9426666666666667,
          0.9672592592592593,
          1.1965925925925927,
          1.3504444444444446,
          1.2592037037037036,
          1.0868888888888888,
          1.3574444444444447,
          1.2592884615384616,
          1.3172777777777778,
          1.0626111111111112
         ]
        },
        {
         "mode": "lines",
         "name": "Asia",
         "type": "scatter",
         "x": [
          "F1961",
          "F1962",
          "F1963",
          "F1964",
          "F1965",
          "F1966",
          "F1967",
          "F1968",
          "F1969",
          "F1970",
          "F1971",
          "F1972",
          "F1973",
          "F1974",
          "F1975",
          "F1976",
          "F1977",
          "F1978",
          "F1979",
          "F1980",
          "F1981",
          "F1982",
          "F1983",
          "F1984",
          "F1985",
          "F1986",
          "F1987",
          "F1988",
          "F1989",
          "F1990",
          "F1991",
          "F1992",
          "F1993",
          "F1994",
          "F1995",
          "F1996",
          "F1997",
          "F1998",
          "F1999",
          "F2000",
          "F2001",
          "F2002",
          "F2003",
          "F2004",
          "F2005",
          "F2006",
          "F2007",
          "F2008",
          "F2009",
          "F2010",
          "F2011",
          "F2012",
          "F2013",
          "F2014",
          "F2015",
          "F2016",
          "F2017",
          "F2018",
          "F2019",
          "F2020",
          "F2021",
          "F2022"
         ],
         "y": [
          -0.026574999999999998,
          0.1444390243902439,
          0.1934,
          -0.1985609756097561,
          -0.123425,
          0.3693095238095238,
          -0.30040476190476195,
          -0.32366666666666666,
          0.16123809523809524,
          0.15482926829268293,
          -0.22648780487804876,
          -0.26590243902439026,
          0.13235714285714287,
          -0.25369047619047624,
          -0.0680952380952381,
          -0.37873809523809526,
          0.13805,
          0.1376904761904762,
          0.49314285714285716,
          0.20747619047619048,
          0.16302380952380952,
          -0.04352380952380953,
          -0.13007317073170732,
          -0.09843902439024389,
          0.11278048780487804,
          0.07478571428571429,
          0.3795121951219512,
          0.3728292682926829,
          0.18132500000000001,
          0.3682439024390244,
          0.36830769230769234,
          -0.22806382978723402,
          -0.015428571428571429,
          0.5608541666666667,
          0.4463061224489796,
          0.23865306122448982,
          0.4216,
          1.0803125,
          1.0127755102040816,
          0.6365106382978724,
          0.9562127659574469,
          1.0160208333333334,
          0.6492291666666666,
          0.9343125,
          0.7459791666666667,
          1.0277708333333333,
          0.9019791666666667,
          0.7415208333333333,
          0.9045624999999999,
          1.4628979591836735,
          0.6891632653061224,
          0.7921836734693878,
          1.032265306122449,
          0.905734693877551,
          1.3265918367346938,
          1.512673469387755,
          1.3462244897959184,
          1.470061224489796,
          1.5033061224489797,
          1.5220408163265307,
          1.6262857142857143,
          1.5639183673469388
         ]
        },
        {
         "mode": "lines",
         "name": "Europe",
         "type": "scatter",
         "x": [
          "F1961",
          "F1962",
          "F1963",
          "F1964",
          "F1965",
          "F1966",
          "F1967",
          "F1968",
          "F1969",
          "F1970",
          "F1971",
          "F1972",
          "F1973",
          "F1974",
          "F1975",
          "F1976",
          "F1977",
          "F1978",
          "F1979",
          "F1980",
          "F1981",
          "F1982",
          "F1983",
          "F1984",
          "F1985",
          "F1986",
          "F1987",
          "F1988",
          "F1989",
          "F1990",
          "F1991",
          "F1992",
          "F1993",
          "F1994",
          "F1995",
          "F1996",
          "F1997",
          "F1998",
          "F1999",
          "F2000",
          "F2001",
          "F2002",
          "F2003",
          "F2004",
          "F2005",
          "F2006",
          "F2007",
          "F2008",
          "F2009",
          "F2010",
          "F2011",
          "F2012",
          "F2013",
          "F2014",
          "F2015",
          "F2016",
          "F2017",
          "F2018",
          "F2019",
          "F2020",
          "F2021",
          "F2022"
         ],
         "y": [
          0.8709,
          -0.2081,
          -0.4862666666666666,
          0.03933333333333333,
          -0.4985,
          0.11033333333333335,
          0.3535333333333333,
          -0.050199999999999995,
          -0.23003333333333334,
          -0.3189666666666667,
          -0.11473333333333334,
          0.028000000000000008,
          0.13623333333333332,
          0.10033333333333333,
          0.5056666666666667,
          -0.0779,
          0.07036666666666666,
          -0.27103333333333335,
          -0.31303333333333333,
          -0.24383333333333335,
          -0.0022,
          0.295,
          0.5285666666666666,
          -0.020700000000000003,
          -0.3316666666666667,
          0.07186666666666668,
          -0.18489999999999998,
          0.6024666666666667,
          0.9551666666666667,
          1.2048666666666668,
          0.28646666666666665,
          0.7278048780487805,
          0.2184418604651163,
          1.141767441860465,
          0.8881627906976745,
          -0.06265116279069767,
          0.6097209302325581,
          0.8681162790697674,
          0.9820697674418605,
          1.3481333333333332,
          1.3417777777777777,
          1.2012444444444443,
          1.040688888888889,
          0.8760666666666667,
          0.865,
          0.9558085106382979,
          1.756744680851064,
          1.3890212765957448,
          1.3202127659574467,
          0.6890425531914893,
          1.0987234042553191,
          1.386276595744681,
          0.9735957446808511,
          1.9310851063829786,
          1.6760851063829787,
          1.7893617021276595,
          1.5370851063829787,
          1.9600851063829787,
          1.9237872340425533,
          2.248553191489362,
          1.4743191489361704,
          2.135723404255319
         ]
        },
        {
         "mode": "lines",
         "name": "North America",
         "type": "scatter",
         "x": [
          "F1961",
          "F1962",
          "F1963",
          "F1964",
          "F1965",
          "F1966",
          "F1967",
          "F1968",
          "F1969",
          "F1970",
          "F1971",
          "F1972",
          "F1973",
          "F1974",
          "F1975",
          "F1976",
          "F1977",
          "F1978",
          "F1979",
          "F1980",
          "F1981",
          "F1982",
          "F1983",
          "F1984",
          "F1985",
          "F1986",
          "F1987",
          "F1988",
          "F1989",
          "F1990",
          "F1991",
          "F1992",
          "F1993",
          "F1994",
          "F1995",
          "F1996",
          "F1997",
          "F1998",
          "F1999",
          "F2000",
          "F2001",
          "F2002",
          "F2003",
          "F2004",
          "F2005",
          "F2006",
          "F2007",
          "F2008",
          "F2009",
          "F2010",
          "F2011",
          "F2012",
          "F2013",
          "F2014",
          "F2015",
          "F2016",
          "F2017",
          "F2018",
          "F2019",
          "F2020",
          "F2021",
          "F2022"
         ],
         "y": [
          0.014687500000000003,
          -0.012939393939393943,
          0.10748484848484849,
          0.038875,
          -0.21754545454545454,
          -0.020088235294117646,
          -0.2248529411764706,
          -0.19197058823529412,
          0.2710882352941177,
          0.04073529411764706,
          -0.24174285714285715,
          -0.08902857142857142,
          0.1478857142857143,
          -0.27777142857142856,
          -0.17377142857142858,
          -0.29665714285714284,
          0.17685294117647057,
          0.09175757575757576,
          0.17593939393939395,
          0.4989714285714285,
          0.3834857142857143,
          0.20908571428571426,
          0.44945714285714283,
          0.03294285714285714,
          -0.014771428571428574,
          0.07352941176470588,
          0.5595142857142856,
          0.4865714285714286,
          0.08437142857142858,
          0.38182857142857146,
          0.4431470588235294,
          0.3122121212121212,
          0.3540606060606061,
          0.5928823529411765,
          0.7024117647058824,
          0.35208823529411765,
          0.6417647058823529,
          1.132205882352941,
          0.6198235294117648,
          0.42572727272727273,
          0.6265999999999999,
          0.7396969696969697,
          0.9539411764705882,
          0.6263235294117647,
          0.9128000000000001,
          0.8599714285714286,
          0.8868285714285715,
          0.5055588235294117,
          0.674,
          1.1322,
          0.6551428571428571,
          0.7979999999999999,
          0.8812058823529412,
          0.8179705882352941,
          1.0760588235294117,
          1.2579375,
          1.0533030303030304,
          0.8240937500000001,
          1.140090909090909,
          1.3633636363636363,
          1.11321875,
          0.96096875
         ]
        },
        {
         "mode": "lines",
         "name": "Oceania",
         "type": "scatter",
         "x": [
          "F1961",
          "F1962",
          "F1963",
          "F1964",
          "F1965",
          "F1966",
          "F1967",
          "F1968",
          "F1969",
          "F1970",
          "F1971",
          "F1972",
          "F1973",
          "F1974",
          "F1975",
          "F1976",
          "F1977",
          "F1978",
          "F1979",
          "F1980",
          "F1981",
          "F1982",
          "F1983",
          "F1984",
          "F1985",
          "F1986",
          "F1987",
          "F1988",
          "F1989",
          "F1990",
          "F1991",
          "F1992",
          "F1993",
          "F1994",
          "F1995",
          "F1996",
          "F1997",
          "F1998",
          "F1999",
          "F2000",
          "F2001",
          "F2002",
          "F2003",
          "F2004",
          "F2005",
          "F2006",
          "F2007",
          "F2008",
          "F2009",
          "F2010",
          "F2011",
          "F2012",
          "F2013",
          "F2014",
          "F2015",
          "F2016",
          "F2017",
          "F2018",
          "F2019",
          "F2020",
          "F2021",
          "F2022"
         ],
         "y": [
          0.054900000000000004,
          0.05431578947368421,
          -0.05052631578947368,
          0.044052631578947364,
          -0.3733157894736842,
          -0.17715,
          -0.1586842105263158,
          -0.1916842105263158,
          0.006888888888888891,
          0.19277777777777777,
          -0.07436842105263158,
          -0.1397,
          0.3653,
          0.00042105263157894484,
          0.02538888888888889,
          -0.15068421052631578,
          -0.032105263157894734,
          0.13145,
          0.18605,
          0.22915000000000002,
          0.21230000000000002,
          0.10765,
          0.18926315789473686,
          0.1793,
          0.25425,
          0.23110526315789473,
          0.16447368421052633,
          0.5395263157894736,
          0.22139999999999999,
          0.3636315789473684,
          0.2791363636363636,
          0.1128181818181818,
          -0.07005,
          0.10626315789473685,
          0.41985,
          0.40195,
          0.13077777777777777,
          0.5857777777777778,
          0.3854444444444444,
          0.36025,
          0.5083157894736842,
          0.6173684210526316,
          0.4444,
          0.392,
          0.5583684210526316,
          0.4681,
          0.64595,
          0.38516666666666666,
          0.3966666666666667,
          0.7276,
          0.5714210526315789,
          0.5531052631578948,
          0.8006315789473684,
          0.6796842105263158,
          0.6752631578947369,
          1.1521666666666668,
          1.0233333333333334,
          0.8839444444444444,
          1.0195882352941175,
          1.120111111111111,
          0.968,
          1.0454999999999999
         ]
        },
        {
         "mode": "lines",
         "name": "South America",
         "type": "scatter",
         "x": [
          "F1961",
          "F1962",
          "F1963",
          "F1964",
          "F1965",
          "F1966",
          "F1967",
          "F1968",
          "F1969",
          "F1970",
          "F1971",
          "F1972",
          "F1973",
          "F1974",
          "F1975",
          "F1976",
          "F1977",
          "F1978",
          "F1979",
          "F1980",
          "F1981",
          "F1982",
          "F1983",
          "F1984",
          "F1985",
          "F1986",
          "F1987",
          "F1988",
          "F1989",
          "F1990",
          "F1991",
          "F1992",
          "F1993",
          "F1994",
          "F1995",
          "F1996",
          "F1997",
          "F1998",
          "F1999",
          "F2000",
          "F2001",
          "F2002",
          "F2003",
          "F2004",
          "F2005",
          "F2006",
          "F2007",
          "F2008",
          "F2009",
          "F2010",
          "F2011",
          "F2012",
          "F2013",
          "F2014",
          "F2015",
          "F2016",
          "F2017",
          "F2018",
          "F2019",
          "F2020",
          "F2021",
          "F2022"
         ],
         "y": [
          0.06738461538461538,
          -0.103,
          0.11076923076923079,
          -0.1416923076923077,
          0.043307692307692304,
          -0.045307692307692306,
          -0.042,
          -0.055615384615384615,
          0.32761538461538464,
          0.20253846153846153,
          -0.38676923076923075,
          0.06607692307692307,
          0.13692307692307693,
          -0.20453846153846153,
          -0.16923076923076924,
          -0.21946153846153849,
          0.28146153846153843,
          0.19930769230769232,
          0.262,
          0.3383846153846154,
          0.22584615384615384,
          0.33425,
          0.48666666666666664,
          0.02124999999999999,
          0.1055,
          0.2675,
          0.5966666666666667,
          0.20633333333333334,
          0.1430833333333333,
          0.35200000000000004,
          0.41383333333333333,
          0.27266666666666667,
          0.3354166666666667,
          0.4831666666666667,
          0.60675,
          0.3821666666666667,
          0.8171666666666666,
          0.89125,
          0.2601666666666667,
          0.26166666666666666,
          0.6125833333333334,
          0.777,
          0.73175,
          0.6930000000000001,
          0.81075,
          0.7670833333333333,
          0.5233333333333333,
          0.5875833333333333,
          0.8739166666666667,
          0.79475,
          0.6919166666666667,
          0.8006666666666667,
          0.6421666666666667,
          0.9706666666666667,
          1.254,
          1.0683333333333334,
          1.10625,
          0.9107500000000001,
          1.1325,
          1.3685833333333333,
          0.9636666666666667,
          0.7528333333333334
         ]
        },
        {
         "mode": "lines",
         "name": "World",
         "type": "scatter",
         "x": [
          "F1961",
          "F1962",
          "F1963",
          "F1964",
          "F1965",
          "F1966",
          "F1967",
          "F1968",
          "F1969",
          "F1970",
          "F1971",
          "F1972",
          "F1973",
          "F1974",
          "F1975",
          "F1976",
          "F1977",
          "F1978",
          "F1979",
          "F1980",
          "F1981",
          "F1982",
          "F1983",
          "F1984",
          "F1985",
          "F1986",
          "F1987",
          "F1988",
          "F1989",
          "F1990",
          "F1991",
          "F1992",
          "F1993",
          "F1994",
          "F1995",
          "F1996",
          "F1997",
          "F1998",
          "F1999",
          "F2000",
          "F2001",
          "F2002",
          "F2003",
          "F2004",
          "F2005",
          "F2006",
          "F2007",
          "F2008",
          "F2009",
          "F2010",
          "F2011",
          "F2012",
          "F2013",
          "F2014",
          "F2015",
          "F2016",
          "F2017",
          "F2018",
          "F2019",
          "F2020",
          "F2021",
          "F2022"
         ],
         "y": [
          0.211,
          0.038,
          0.168,
          -0.246,
          -0.223,
          0.201,
          -0.117,
          -0.126,
          -0.092,
          0.15,
          -0.093,
          -0.199,
          0.269,
          -0.181,
          0.088,
          -0.314,
          0.269,
          0.001,
          0.226,
          0.332,
          0.443,
          0.086,
          0.46,
          0.127,
          -0.031,
          0.242,
          0.403,
          0.558,
          0.331,
          0.639,
          0.468,
          0.184,
          0.348,
          0.507,
          0.835,
          0.355,
          0.656,
          0.993,
          0.783,
          0.728,
          0.834,
          1.021,
          0.893,
          0.913,
          1.095,
          0.998,
          1.195,
          0.935,
          0.957,
          1.219,
          0.921,
          1.074,
          1.016,
          1.053,
          1.412,
          1.66,
          1.429,
          1.29,
          1.444,
          1.711,
          1.447,
          1.394
         ]
        }
       ],
       "layout": {
        "template": {
         "data": {
          "bar": [
           {
            "error_x": {
             "color": "#2a3f5f"
            },
            "error_y": {
             "color": "#2a3f5f"
            },
            "marker": {
             "line": {
              "color": "#E5ECF6",
              "width": 0.5
             },
             "pattern": {
              "fillmode": "overlay",
              "size": 10,
              "solidity": 0.2
             }
            },
            "type": "bar"
           }
          ],
          "barpolar": [
           {
            "marker": {
             "line": {
              "color": "#E5ECF6",
              "width": 0.5
             },
             "pattern": {
              "fillmode": "overlay",
              "size": 10,
              "solidity": 0.2
             }
            },
            "type": "barpolar"
           }
          ],
          "carpet": [
           {
            "aaxis": {
             "endlinecolor": "#2a3f5f",
             "gridcolor": "white",
             "linecolor": "white",
             "minorgridcolor": "white",
             "startlinecolor": "#2a3f5f"
            },
            "baxis": {
             "endlinecolor": "#2a3f5f",
             "gridcolor": "white",
             "linecolor": "white",
             "minorgridcolor": "white",
             "startlinecolor": "#2a3f5f"
            },
            "type": "carpet"
           }
          ],
          "choropleth": [
           {
            "colorbar": {
             "outlinewidth": 0,
             "ticks": ""
            },
            "type": "choropleth"
           }
          ],
          "contour": [
           {
            "colorbar": {
             "outlinewidth": 0,
             "ticks": ""
            },
            "colorscale": [
             [
              0,
              "#0d0887"
             ],
             [
              0.1111111111111111,
              "#46039f"
             ],
             [
              0.2222222222222222,
              "#7201a8"
             ],
             [
              0.3333333333333333,
              "#9c179e"
             ],
             [
              0.4444444444444444,
              "#bd3786"
             ],
             [
              0.5555555555555556,
              "#d8576b"
             ],
             [
              0.6666666666666666,
              "#ed7953"
             ],
             [
              0.7777777777777778,
              "#fb9f3a"
             ],
             [
              0.8888888888888888,
              "#fdca26"
             ],
             [
              1,
              "#f0f921"
             ]
            ],
            "type": "contour"
           }
          ],
          "contourcarpet": [
           {
            "colorbar": {
             "outlinewidth": 0,
             "ticks": ""
            },
            "type": "contourcarpet"
           }
          ],
          "heatmap": [
           {
            "colorbar": {
             "outlinewidth": 0,
             "ticks": ""
            },
            "colorscale": [
             [
              0,
              "#0d0887"
             ],
             [
              0.1111111111111111,
              "#46039f"
             ],
             [
              0.2222222222222222,
              "#7201a8"
             ],
             [
              0.3333333333333333,
              "#9c179e"
             ],
             [
              0.4444444444444444,
              "#bd3786"
             ],
             [
              0.5555555555555556,
              "#d8576b"
             ],
             [
              0.6666666666666666,
              "#ed7953"
             ],
             [
              0.7777777777777778,
              "#fb9f3a"
             ],
             [
              0.8888888888888888,
              "#fdca26"
             ],
             [
              1,
              "#f0f921"
             ]
            ],
            "type": "heatmap"
           }
          ],
          "heatmapgl": [
           {
            "colorbar": {
             "outlinewidth": 0,
             "ticks": ""
            },
            "colorscale": [
             [
              0,
              "#0d0887"
             ],
             [
              0.1111111111111111,
              "#46039f"
             ],
             [
              0.2222222222222222,
              "#7201a8"
             ],
             [
              0.3333333333333333,
              "#9c179e"
             ],
             [
              0.4444444444444444,
              "#bd3786"
             ],
             [
              0.5555555555555556,
              "#d8576b"
             ],
             [
              0.6666666666666666,
              "#ed7953"
             ],
             [
              0.7777777777777778,
              "#fb9f3a"
             ],
             [
              0.8888888888888888,
              "#fdca26"
             ],
             [
              1,
              "#f0f921"
             ]
            ],
            "type": "heatmapgl"
           }
          ],
          "histogram": [
           {
            "marker": {
             "pattern": {
              "fillmode": "overlay",
              "size": 10,
              "solidity": 0.2
             }
            },
            "type": "histogram"
           }
          ],
          "histogram2d": [
           {
            "colorbar": {
             "outlinewidth": 0,
             "ticks": ""
            },
            "colorscale": [
             [
              0,
              "#0d0887"
             ],
             [
              0.1111111111111111,
              "#46039f"
             ],
             [
              0.2222222222222222,
              "#7201a8"
             ],
             [
              0.3333333333333333,
              "#9c179e"
             ],
             [
              0.4444444444444444,
              "#bd3786"
             ],
             [
              0.5555555555555556,
              "#d8576b"
             ],
             [
              0.6666666666666666,
              "#ed7953"
             ],
             [
              0.7777777777777778,
              "#fb9f3a"
             ],
             [
              0.8888888888888888,
              "#fdca26"
             ],
             [
              1,
              "#f0f921"
             ]
            ],
            "type": "histogram2d"
           }
          ],
          "histogram2dcontour": [
           {
            "colorbar": {
             "outlinewidth": 0,
             "ticks": ""
            },
            "colorscale": [
             [
              0,
              "#0d0887"
             ],
             [
              0.1111111111111111,
              "#46039f"
             ],
             [
              0.2222222222222222,
              "#7201a8"
             ],
             [
              0.3333333333333333,
              "#9c179e"
             ],
             [
              0.4444444444444444,
              "#bd3786"
             ],
             [
              0.5555555555555556,
              "#d8576b"
             ],
             [
              0.6666666666666666,
              "#ed7953"
             ],
             [
              0.7777777777777778,
              "#fb9f3a"
             ],
             [
              0.8888888888888888,
              "#fdca26"
             ],
             [
              1,
              "#f0f921"
             ]
            ],
            "type": "histogram2dcontour"
           }
          ],
          "mesh3d": [
           {
            "colorbar": {
             "outlinewidth": 0,
             "ticks": ""
            },
            "type": "mesh3d"
           }
          ],
          "parcoords": [
           {
            "line": {
             "colorbar": {
              "outlinewidth": 0,
              "ticks": ""
             }
            },
            "type": "parcoords"
           }
          ],
          "pie": [
           {
            "automargin": true,
            "type": "pie"
           }
          ],
          "scatter": [
           {
            "fillpattern": {
             "fillmode": "overlay",
             "size": 10,
             "solidity": 0.2
            },
            "type": "scatter"
           }
          ],
          "scatter3d": [
           {
            "line": {
             "colorbar": {
              "outlinewidth": 0,
              "ticks": ""
             }
            },
            "marker": {
             "colorbar": {
              "outlinewidth": 0,
              "ticks": ""
             }
            },
            "type": "scatter3d"
           }
          ],
          "scattercarpet": [
           {
            "marker": {
             "colorbar": {
              "outlinewidth": 0,
              "ticks": ""
             }
            },
            "type": "scattercarpet"
           }
          ],
          "scattergeo": [
           {
            "marker": {
             "colorbar": {
              "outlinewidth": 0,
              "ticks": ""
             }
            },
            "type": "scattergeo"
           }
          ],
          "scattergl": [
           {
            "marker": {
             "colorbar": {
              "outlinewidth": 0,
              "ticks": ""
             }
            },
            "type": "scattergl"
           }
          ],
          "scattermapbox": [
           {
            "marker": {
             "colorbar": {
              "outlinewidth": 0,
              "ticks": ""
             }
            },
            "type": "scattermapbox"
           }
          ],
          "scatterpolar": [
           {
            "marker": {
             "colorbar": {
              "outlinewidth": 0,
              "ticks": ""
             }
            },
            "type": "scatterpolar"
           }
          ],
          "scatterpolargl": [
           {
            "marker": {
             "colorbar": {
              "outlinewidth": 0,
              "ticks": ""
             }
            },
            "type": "scatterpolargl"
           }
          ],
          "scatterternary": [
           {
            "marker": {
             "colorbar": {
              "outlinewidth": 0,
              "ticks": ""
             }
            },
            "type": "scatterternary"
           }
          ],
          "surface": [
           {
            "colorbar": {
             "outlinewidth": 0,
             "ticks": ""
            },
            "colorscale": [
             [
              0,
              "#0d0887"
             ],
             [
              0.1111111111111111,
              "#46039f"
             ],
             [
              0.2222222222222222,
              "#7201a8"
             ],
             [
              0.3333333333333333,
              "#9c179e"
             ],
             [
              0.4444444444444444,
              "#bd3786"
             ],
             [
              0.5555555555555556,
              "#d8576b"
             ],
             [
              0.6666666666666666,
              "#ed7953"
             ],
             [
              0.7777777777777778,
              "#fb9f3a"
             ],
             [
              0.8888888888888888,
              "#fdca26"
             ],
             [
              1,
              "#f0f921"
             ]
            ],
            "type": "surface"
           }
          ],
          "table": [
           {
            "cells": {
             "fill": {
              "color": "#EBF0F8"
             },
             "line": {
              "color": "white"
             }
            },
            "header": {
             "fill": {
              "color": "#C8D4E3"
             },
             "line": {
              "color": "white"
             }
            },
            "type": "table"
           }
          ]
         },
         "layout": {
          "annotationdefaults": {
           "arrowcolor": "#2a3f5f",
           "arrowhead": 0,
           "arrowwidth": 1
          },
          "autotypenumbers": "strict",
          "coloraxis": {
           "colorbar": {
            "outlinewidth": 0,
            "ticks": ""
           }
          },
          "colorscale": {
           "diverging": [
            [
             0,
             "#8e0152"
            ],
            [
             0.1,
             "#c51b7d"
            ],
            [
             0.2,
             "#de77ae"
            ],
            [
             0.3,
             "#f1b6da"
            ],
            [
             0.4,
             "#fde0ef"
            ],
            [
             0.5,
             "#f7f7f7"
            ],
            [
             0.6,
             "#e6f5d0"
            ],
            [
             0.7,
             "#b8e186"
            ],
            [
             0.8,
             "#7fbc41"
            ],
            [
             0.9,
             "#4d9221"
            ],
            [
             1,
             "#276419"
            ]
           ],
           "sequential": [
            [
             0,
             "#0d0887"
            ],
            [
             0.1111111111111111,
             "#46039f"
            ],
            [
             0.2222222222222222,
             "#7201a8"
            ],
            [
             0.3333333333333333,
             "#9c179e"
            ],
            [
             0.4444444444444444,
             "#bd3786"
            ],
            [
             0.5555555555555556,
             "#d8576b"
            ],
            [
             0.6666666666666666,
             "#ed7953"
            ],
            [
             0.7777777777777778,
             "#fb9f3a"
            ],
            [
             0.8888888888888888,
             "#fdca26"
            ],
            [
             1,
             "#f0f921"
            ]
           ],
           "sequentialminus": [
            [
             0,
             "#0d0887"
            ],
            [
             0.1111111111111111,
             "#46039f"
            ],
            [
             0.2222222222222222,
             "#7201a8"
            ],
            [
             0.3333333333333333,
             "#9c179e"
            ],
            [
             0.4444444444444444,
             "#bd3786"
            ],
            [
             0.5555555555555556,
             "#d8576b"
            ],
            [
             0.6666666666666666,
             "#ed7953"
            ],
            [
             0.7777777777777778,
             "#fb9f3a"
            ],
            [
             0.8888888888888888,
             "#fdca26"
            ],
            [
             1,
             "#f0f921"
            ]
           ]
          },
          "colorway": [
           "#636efa",
           "#EF553B",
           "#00cc96",
           "#ab63fa",
           "#FFA15A",
           "#19d3f3",
           "#FF6692",
           "#B6E880",
           "#FF97FF",
           "#FECB52"
          ],
          "font": {
           "color": "#2a3f5f"
          },
          "geo": {
           "bgcolor": "white",
           "lakecolor": "white",
           "landcolor": "#E5ECF6",
           "showlakes": true,
           "showland": true,
           "subunitcolor": "white"
          },
          "hoverlabel": {
           "align": "left"
          },
          "hovermode": "closest",
          "mapbox": {
           "style": "light"
          },
          "paper_bgcolor": "white",
          "plot_bgcolor": "#E5ECF6",
          "polar": {
           "angularaxis": {
            "gridcolor": "white",
            "linecolor": "white",
            "ticks": ""
           },
           "bgcolor": "#E5ECF6",
           "radialaxis": {
            "gridcolor": "white",
            "linecolor": "white",
            "ticks": ""
           }
          },
          "scene": {
           "xaxis": {
            "backgroundcolor": "#E5ECF6",
            "gridcolor": "white",
            "gridwidth": 2,
            "linecolor": "white",
            "showbackground": true,
            "ticks": "",
            "zerolinecolor": "white"
           },
           "yaxis": {
            "backgroundcolor": "#E5ECF6",
            "gridcolor": "white",
            "gridwidth": 2,
            "linecolor": "white",
            "showbackground": true,
            "ticks": "",
            "zerolinecolor": "white"
           },
           "zaxis": {
            "backgroundcolor": "#E5ECF6",
            "gridcolor": "white",
            "gridwidth": 2,
            "linecolor": "white",
            "showbackground": true,
            "ticks": "",
            "zerolinecolor": "white"
           }
          },
          "shapedefaults": {
           "line": {
            "color": "#2a3f5f"
           }
          },
          "ternary": {
           "aaxis": {
            "gridcolor": "white",
            "linecolor": "white",
            "ticks": ""
           },
           "baxis": {
            "gridcolor": "white",
            "linecolor": "white",
            "ticks": ""
           },
           "bgcolor": "#E5ECF6",
           "caxis": {
            "gridcolor": "white",
            "linecolor": "white",
            "ticks": ""
           }
          },
          "title": {
           "x": 0.05
          },
          "xaxis": {
           "automargin": true,
           "gridcolor": "white",
           "linecolor": "white",
           "ticks": "",
           "title": {
            "standoff": 15
           },
           "zerolinecolor": "white",
           "zerolinewidth": 2
          },
          "yaxis": {
           "automargin": true,
           "gridcolor": "white",
           "linecolor": "white",
           "ticks": "",
           "title": {
            "standoff": 15
           },
           "zerolinecolor": "white",
           "zerolinewidth": 2
          }
         }
        },
        "title": {
         "text": "Line Chart for Continents"
        },
        "xaxis": {
         "title": {
          "text": "Year"
         }
        },
        "yaxis": {
         "title": {
          "text": "Temperature Difference (Celsius) Year on Year"
         }
        }
       }
      }
     },
     "metadata": {},
     "output_type": "display_data"
    }
   ],
   "source": [
    "# Create x-axis labels (years)\n",
    "x_labels = cont_df.columns\n",
    "\n",
    "# Create traces for each continent\n",
    "traces = []\n",
    "for continent, row in cont_df.iterrows():\n",
    "    y_values = row.values  # Select all values of the row\n",
    "\n",
    "    # Create trace for the line\n",
    "    trace = go.Scatter(\n",
    "        x=x_labels,\n",
    "        y=y_values,\n",
    "        mode='lines',\n",
    "        name=continent\n",
    "    )\n",
    "\n",
    "    traces.append(trace)\n",
    "\n",
    "# Create data list with all traces\n",
    "data = traces\n",
    "\n",
    "# Create layout\n",
    "layout = go.Layout(\n",
    "    title='Line Chart for Continents',\n",
    "    xaxis=dict(title='Year'),\n",
    "    yaxis=dict(title='Temperature Difference (Celsius) Year on Year')\n",
    ")\n",
    "\n",
    "# Create figure\n",
    "fig = go.Figure(data=data, layout=layout)\n",
    "\n",
    "# Display the figure\n",
    "fig.show()"
   ]
  },
  {
   "cell_type": "code",
   "execution_count": 112,
   "metadata": {},
   "outputs": [
    {
     "data": {
      "text/html": [
       "<div>\n",
       "<style scoped>\n",
       "    .dataframe tbody tr th:only-of-type {\n",
       "        vertical-align: middle;\n",
       "    }\n",
       "\n",
       "    .dataframe tbody tr th {\n",
       "        vertical-align: top;\n",
       "    }\n",
       "\n",
       "    .dataframe thead th {\n",
       "        text-align: right;\n",
       "    }\n",
       "</style>\n",
       "<table border=\"1\" class=\"dataframe\">\n",
       "  <thead>\n",
       "    <tr style=\"text-align: right;\">\n",
       "      <th></th>\n",
       "      <th>F1961</th>\n",
       "      <th>F1962</th>\n",
       "      <th>F1963</th>\n",
       "      <th>F1964</th>\n",
       "      <th>F1965</th>\n",
       "      <th>F1966</th>\n",
       "      <th>F1967</th>\n",
       "      <th>F1968</th>\n",
       "      <th>F1969</th>\n",
       "      <th>F1970</th>\n",
       "      <th>...</th>\n",
       "      <th>F2013</th>\n",
       "      <th>F2014</th>\n",
       "      <th>F2015</th>\n",
       "      <th>F2016</th>\n",
       "      <th>F2017</th>\n",
       "      <th>F2018</th>\n",
       "      <th>F2019</th>\n",
       "      <th>F2020</th>\n",
       "      <th>F2021</th>\n",
       "      <th>F2022</th>\n",
       "    </tr>\n",
       "    <tr>\n",
       "      <th>Continent</th>\n",
       "      <th></th>\n",
       "      <th></th>\n",
       "      <th></th>\n",
       "      <th></th>\n",
       "      <th></th>\n",
       "      <th></th>\n",
       "      <th></th>\n",
       "      <th></th>\n",
       "      <th></th>\n",
       "      <th></th>\n",
       "      <th></th>\n",
       "      <th></th>\n",
       "      <th></th>\n",
       "      <th></th>\n",
       "      <th></th>\n",
       "      <th></th>\n",
       "      <th></th>\n",
       "      <th></th>\n",
       "      <th></th>\n",
       "      <th></th>\n",
       "      <th></th>\n",
       "    </tr>\n",
       "  </thead>\n",
       "  <tbody>\n",
       "    <tr>\n",
       "      <th>Africa</th>\n",
       "      <td>0.056442</td>\n",
       "      <td>-0.029423</td>\n",
       "      <td>0.029250</td>\n",
       "      <td>-0.119288</td>\n",
       "      <td>-0.242635</td>\n",
       "      <td>0.116346</td>\n",
       "      <td>-0.150673</td>\n",
       "      <td>-0.229077</td>\n",
       "      <td>0.319808</td>\n",
       "      <td>0.251212</td>\n",
       "      <td>...</td>\n",
       "      <td>0.942667</td>\n",
       "      <td>0.967259</td>\n",
       "      <td>1.196593</td>\n",
       "      <td>1.350444</td>\n",
       "      <td>1.259204</td>\n",
       "      <td>1.086889</td>\n",
       "      <td>1.357444</td>\n",
       "      <td>1.259288</td>\n",
       "      <td>1.317278</td>\n",
       "      <td>1.062611</td>\n",
       "    </tr>\n",
       "    <tr>\n",
       "      <th>Asia</th>\n",
       "      <td>-0.026575</td>\n",
       "      <td>0.144439</td>\n",
       "      <td>0.193400</td>\n",
       "      <td>-0.198561</td>\n",
       "      <td>-0.123425</td>\n",
       "      <td>0.369310</td>\n",
       "      <td>-0.300405</td>\n",
       "      <td>-0.323667</td>\n",
       "      <td>0.161238</td>\n",
       "      <td>0.154829</td>\n",
       "      <td>...</td>\n",
       "      <td>1.032265</td>\n",
       "      <td>0.905735</td>\n",
       "      <td>1.326592</td>\n",
       "      <td>1.512673</td>\n",
       "      <td>1.346224</td>\n",
       "      <td>1.470061</td>\n",
       "      <td>1.503306</td>\n",
       "      <td>1.522041</td>\n",
       "      <td>1.626286</td>\n",
       "      <td>1.563918</td>\n",
       "    </tr>\n",
       "    <tr>\n",
       "      <th>Europe</th>\n",
       "      <td>0.870900</td>\n",
       "      <td>-0.208100</td>\n",
       "      <td>-0.486267</td>\n",
       "      <td>0.039333</td>\n",
       "      <td>-0.498500</td>\n",
       "      <td>0.110333</td>\n",
       "      <td>0.353533</td>\n",
       "      <td>-0.050200</td>\n",
       "      <td>-0.230033</td>\n",
       "      <td>-0.318967</td>\n",
       "      <td>...</td>\n",
       "      <td>0.973596</td>\n",
       "      <td>1.931085</td>\n",
       "      <td>1.676085</td>\n",
       "      <td>1.789362</td>\n",
       "      <td>1.537085</td>\n",
       "      <td>1.960085</td>\n",
       "      <td>1.923787</td>\n",
       "      <td>2.248553</td>\n",
       "      <td>1.474319</td>\n",
       "      <td>2.135723</td>\n",
       "    </tr>\n",
       "    <tr>\n",
       "      <th>North America</th>\n",
       "      <td>0.014688</td>\n",
       "      <td>-0.012939</td>\n",
       "      <td>0.107485</td>\n",
       "      <td>0.038875</td>\n",
       "      <td>-0.217545</td>\n",
       "      <td>-0.020088</td>\n",
       "      <td>-0.224853</td>\n",
       "      <td>-0.191971</td>\n",
       "      <td>0.271088</td>\n",
       "      <td>0.040735</td>\n",
       "      <td>...</td>\n",
       "      <td>0.881206</td>\n",
       "      <td>0.817971</td>\n",
       "      <td>1.076059</td>\n",
       "      <td>1.257937</td>\n",
       "      <td>1.053303</td>\n",
       "      <td>0.824094</td>\n",
       "      <td>1.140091</td>\n",
       "      <td>1.363364</td>\n",
       "      <td>1.113219</td>\n",
       "      <td>0.960969</td>\n",
       "    </tr>\n",
       "    <tr>\n",
       "      <th>Oceania</th>\n",
       "      <td>0.054900</td>\n",
       "      <td>0.054316</td>\n",
       "      <td>-0.050526</td>\n",
       "      <td>0.044053</td>\n",
       "      <td>-0.373316</td>\n",
       "      <td>-0.177150</td>\n",
       "      <td>-0.158684</td>\n",
       "      <td>-0.191684</td>\n",
       "      <td>0.006889</td>\n",
       "      <td>0.192778</td>\n",
       "      <td>...</td>\n",
       "      <td>0.800632</td>\n",
       "      <td>0.679684</td>\n",
       "      <td>0.675263</td>\n",
       "      <td>1.152167</td>\n",
       "      <td>1.023333</td>\n",
       "      <td>0.883944</td>\n",
       "      <td>1.019588</td>\n",
       "      <td>1.120111</td>\n",
       "      <td>0.968000</td>\n",
       "      <td>1.045500</td>\n",
       "    </tr>\n",
       "    <tr>\n",
       "      <th>South America</th>\n",
       "      <td>0.067385</td>\n",
       "      <td>-0.103000</td>\n",
       "      <td>0.110769</td>\n",
       "      <td>-0.141692</td>\n",
       "      <td>0.043308</td>\n",
       "      <td>-0.045308</td>\n",
       "      <td>-0.042000</td>\n",
       "      <td>-0.055615</td>\n",
       "      <td>0.327615</td>\n",
       "      <td>0.202538</td>\n",
       "      <td>...</td>\n",
       "      <td>0.642167</td>\n",
       "      <td>0.970667</td>\n",
       "      <td>1.254000</td>\n",
       "      <td>1.068333</td>\n",
       "      <td>1.106250</td>\n",
       "      <td>0.910750</td>\n",
       "      <td>1.132500</td>\n",
       "      <td>1.368583</td>\n",
       "      <td>0.963667</td>\n",
       "      <td>0.752833</td>\n",
       "    </tr>\n",
       "    <tr>\n",
       "      <th>World</th>\n",
       "      <td>0.211000</td>\n",
       "      <td>0.038000</td>\n",
       "      <td>0.168000</td>\n",
       "      <td>-0.246000</td>\n",
       "      <td>-0.223000</td>\n",
       "      <td>0.201000</td>\n",
       "      <td>-0.117000</td>\n",
       "      <td>-0.126000</td>\n",
       "      <td>-0.092000</td>\n",
       "      <td>0.150000</td>\n",
       "      <td>...</td>\n",
       "      <td>1.016000</td>\n",
       "      <td>1.053000</td>\n",
       "      <td>1.412000</td>\n",
       "      <td>1.660000</td>\n",
       "      <td>1.429000</td>\n",
       "      <td>1.290000</td>\n",
       "      <td>1.444000</td>\n",
       "      <td>1.711000</td>\n",
       "      <td>1.447000</td>\n",
       "      <td>1.394000</td>\n",
       "    </tr>\n",
       "    <tr>\n",
       "      <th>Continental Mean</th>\n",
       "      <td>0.172957</td>\n",
       "      <td>-0.025785</td>\n",
       "      <td>-0.015981</td>\n",
       "      <td>-0.056213</td>\n",
       "      <td>-0.235352</td>\n",
       "      <td>0.058907</td>\n",
       "      <td>-0.087180</td>\n",
       "      <td>-0.173702</td>\n",
       "      <td>0.142767</td>\n",
       "      <td>0.087188</td>\n",
       "      <td>...</td>\n",
       "      <td>0.878755</td>\n",
       "      <td>1.045400</td>\n",
       "      <td>1.200765</td>\n",
       "      <td>1.355153</td>\n",
       "      <td>1.220900</td>\n",
       "      <td>1.189304</td>\n",
       "      <td>1.346119</td>\n",
       "      <td>1.480323</td>\n",
       "      <td>1.243795</td>\n",
       "      <td>1.253592</td>\n",
       "    </tr>\n",
       "    <tr>\n",
       "      <th>Difference</th>\n",
       "      <td>-0.038043</td>\n",
       "      <td>-0.063785</td>\n",
       "      <td>-0.183981</td>\n",
       "      <td>0.189787</td>\n",
       "      <td>-0.012352</td>\n",
       "      <td>-0.142093</td>\n",
       "      <td>0.029820</td>\n",
       "      <td>-0.047702</td>\n",
       "      <td>0.234767</td>\n",
       "      <td>-0.062812</td>\n",
       "      <td>...</td>\n",
       "      <td>-0.137245</td>\n",
       "      <td>-0.007600</td>\n",
       "      <td>-0.211235</td>\n",
       "      <td>-0.304847</td>\n",
       "      <td>-0.208100</td>\n",
       "      <td>-0.100696</td>\n",
       "      <td>-0.097881</td>\n",
       "      <td>-0.230677</td>\n",
       "      <td>-0.203205</td>\n",
       "      <td>-0.140408</td>\n",
       "    </tr>\n",
       "  </tbody>\n",
       "</table>\n",
       "<p>9 rows × 62 columns</p>\n",
       "</div>"
      ],
      "text/plain": [
       "                     F1961     F1962     F1963     F1964     F1965     F1966  \\\n",
       "Continent                                                                      \n",
       "Africa            0.056442 -0.029423  0.029250 -0.119288 -0.242635  0.116346   \n",
       "Asia             -0.026575  0.144439  0.193400 -0.198561 -0.123425  0.369310   \n",
       "Europe            0.870900 -0.208100 -0.486267  0.039333 -0.498500  0.110333   \n",
       "North America     0.014688 -0.012939  0.107485  0.038875 -0.217545 -0.020088   \n",
       "Oceania           0.054900  0.054316 -0.050526  0.044053 -0.373316 -0.177150   \n",
       "South America     0.067385 -0.103000  0.110769 -0.141692  0.043308 -0.045308   \n",
       "World             0.211000  0.038000  0.168000 -0.246000 -0.223000  0.201000   \n",
       "Continental Mean  0.172957 -0.025785 -0.015981 -0.056213 -0.235352  0.058907   \n",
       "Difference       -0.038043 -0.063785 -0.183981  0.189787 -0.012352 -0.142093   \n",
       "\n",
       "                     F1967     F1968     F1969     F1970  ...     F2013  \\\n",
       "Continent                                                 ...             \n",
       "Africa           -0.150673 -0.229077  0.319808  0.251212  ...  0.942667   \n",
       "Asia             -0.300405 -0.323667  0.161238  0.154829  ...  1.032265   \n",
       "Europe            0.353533 -0.050200 -0.230033 -0.318967  ...  0.973596   \n",
       "North America    -0.224853 -0.191971  0.271088  0.040735  ...  0.881206   \n",
       "Oceania          -0.158684 -0.191684  0.006889  0.192778  ...  0.800632   \n",
       "South America    -0.042000 -0.055615  0.327615  0.202538  ...  0.642167   \n",
       "World            -0.117000 -0.126000 -0.092000  0.150000  ...  1.016000   \n",
       "Continental Mean -0.087180 -0.173702  0.142767  0.087188  ...  0.878755   \n",
       "Difference        0.029820 -0.047702  0.234767 -0.062812  ... -0.137245   \n",
       "\n",
       "                     F2014     F2015     F2016     F2017     F2018     F2019  \\\n",
       "Continent                                                                      \n",
       "Africa            0.967259  1.196593  1.350444  1.259204  1.086889  1.357444   \n",
       "Asia              0.905735  1.326592  1.512673  1.346224  1.470061  1.503306   \n",
       "Europe            1.931085  1.676085  1.789362  1.537085  1.960085  1.923787   \n",
       "North America     0.817971  1.076059  1.257937  1.053303  0.824094  1.140091   \n",
       "Oceania           0.679684  0.675263  1.152167  1.023333  0.883944  1.019588   \n",
       "South America     0.970667  1.254000  1.068333  1.106250  0.910750  1.132500   \n",
       "World             1.053000  1.412000  1.660000  1.429000  1.290000  1.444000   \n",
       "Continental Mean  1.045400  1.200765  1.355153  1.220900  1.189304  1.346119   \n",
       "Difference       -0.007600 -0.211235 -0.304847 -0.208100 -0.100696 -0.097881   \n",
       "\n",
       "                     F2020     F2021     F2022  \n",
       "Continent                                       \n",
       "Africa            1.259288  1.317278  1.062611  \n",
       "Asia              1.522041  1.626286  1.563918  \n",
       "Europe            2.248553  1.474319  2.135723  \n",
       "North America     1.363364  1.113219  0.960969  \n",
       "Oceania           1.120111  0.968000  1.045500  \n",
       "South America     1.368583  0.963667  0.752833  \n",
       "World             1.711000  1.447000  1.394000  \n",
       "Continental Mean  1.480323  1.243795  1.253592  \n",
       "Difference       -0.230677 -0.203205 -0.140408  \n",
       "\n",
       "[9 rows x 62 columns]"
      ]
     },
     "execution_count": 112,
     "metadata": {},
     "output_type": "execute_result"
    }
   ],
   "source": [
    "# Filter out the 'World' row\n",
    "continents_df = cont_df.loc[cont_df.index != 'World']\n",
    "\n",
    "# Sum the values for each column, excluding 'World'\n",
    "sum_by_column = continents_df.mean()\n",
    "\n",
    "# Create a DataFrame with the sums\n",
    "mean_df = pd.DataFrame(sum_by_column).T\n",
    "\n",
    "# Subtract the sums from the corresponding 'World' values\n",
    "# world_values = cont_df.loc[cont_df.index == 'World']#.drop(columns='Continent')\n",
    "final_df = cont_df.copy()\n",
    "# final_df.loc[cont_df.index == 'World', :] = world_values - mean_df.values\n",
    "\n",
    "# Calculate the difference row\n",
    "difference_row = cont_df.loc[cont_df.index != 'World'].mean() - cont_df.loc['World']\n",
    "\n",
    "# Calculate the sum of all continents\n",
    "continental_sum = cont_df.loc[cont_df.index != 'World'].mean()\n",
    "\n",
    "# Add the difference row and continental sum row to the final DataFrame\n",
    "final_df.loc['Continental Mean'] = continental_sum\n",
    "final_df.loc['Difference'] = difference_row\n",
    "\n",
    "\n",
    "# final_df.to_excel('final_df.xlsx')\n",
    "\n",
    "final_df"
   ]
  },
  {
   "cell_type": "code",
   "execution_count": 111,
   "metadata": {},
   "outputs": [
    {
     "data": {
      "application/vnd.plotly.v1+json": {
       "config": {
        "plotlyServerURL": "https://plot.ly"
       },
       "data": [
        {
         "mode": "lines",
         "name": "Africa",
         "type": "scatter",
         "x": [
          "F1961",
          "F1962",
          "F1963",
          "F1964",
          "F1965",
          "F1966",
          "F1967",
          "F1968",
          "F1969",
          "F1970",
          "F1971",
          "F1972",
          "F1973",
          "F1974",
          "F1975",
          "F1976",
          "F1977",
          "F1978",
          "F1979",
          "F1980",
          "F1981",
          "F1982",
          "F1983",
          "F1984",
          "F1985",
          "F1986",
          "F1987",
          "F1988",
          "F1989",
          "F1990",
          "F1991",
          "F1992",
          "F1993",
          "F1994",
          "F1995",
          "F1996",
          "F1997",
          "F1998",
          "F1999",
          "F2000",
          "F2001",
          "F2002",
          "F2003",
          "F2004",
          "F2005",
          "F2006",
          "F2007",
          "F2008",
          "F2009",
          "F2010",
          "F2011",
          "F2012",
          "F2013",
          "F2014",
          "F2015",
          "F2016",
          "F2017",
          "F2018",
          "F2019",
          "F2020",
          "F2021",
          "F2022"
         ],
         "y": [
          0.0564423076923077,
          -0.029423076923076923,
          0.029249999999999998,
          -0.11928846153846154,
          -0.2426346153846154,
          0.11634615384615385,
          -0.1506730769230769,
          -0.2290769230769231,
          0.3198076923076923,
          0.2512115384615385,
          -0.20336538461538461,
          -0.01903846153846154,
          0.3863653846153846,
          -0.21351923076923077,
          -0.18346938775510205,
          -0.24124489795918366,
          0.2856666666666667,
          0.14518,
          0.39416000000000007,
          0.3811,
          0.12586,
          0.2557115384615385,
          0.5638846153846153,
          0.2979183673469388,
          0.26377551020408163,
          0.25153846153846154,
          0.7051923076923077,
          0.5661923076923077,
          0.06413461538461539,
          0.560078431372549,
          0.39230000000000004,
          0.26592307692307693,
          0.42839215686274507,
          0.43686274509803924,
          0.6212745098039215,
          0.48405882352941176,
          0.6259795918367347,
          1.000962962962963,
          0.6072692307692308,
          0.47611764705882353,
          0.6457222222222222,
          0.8664814814814815,
          0.9569444444444444,
          0.8044074074074075,
          1.0138653846153844,
          0.8566153846153846,
          0.8258888888888889,
          0.738423076923077,
          0.8859807692307692,
          1.3194509803921568,
          0.9226296296296297,
          0.7864716981132075,
          0.9426666666666667,
          0.9672592592592593,
          1.1965925925925927,
          1.3504444444444446,
          1.2592037037037036,
          1.0868888888888888,
          1.3574444444444447,
          1.2592884615384616,
          1.3172777777777778,
          1.0626111111111112
         ]
        },
        {
         "mode": "lines",
         "name": "Asia",
         "type": "scatter",
         "x": [
          "F1961",
          "F1962",
          "F1963",
          "F1964",
          "F1965",
          "F1966",
          "F1967",
          "F1968",
          "F1969",
          "F1970",
          "F1971",
          "F1972",
          "F1973",
          "F1974",
          "F1975",
          "F1976",
          "F1977",
          "F1978",
          "F1979",
          "F1980",
          "F1981",
          "F1982",
          "F1983",
          "F1984",
          "F1985",
          "F1986",
          "F1987",
          "F1988",
          "F1989",
          "F1990",
          "F1991",
          "F1992",
          "F1993",
          "F1994",
          "F1995",
          "F1996",
          "F1997",
          "F1998",
          "F1999",
          "F2000",
          "F2001",
          "F2002",
          "F2003",
          "F2004",
          "F2005",
          "F2006",
          "F2007",
          "F2008",
          "F2009",
          "F2010",
          "F2011",
          "F2012",
          "F2013",
          "F2014",
          "F2015",
          "F2016",
          "F2017",
          "F2018",
          "F2019",
          "F2020",
          "F2021",
          "F2022"
         ],
         "y": [
          -0.026574999999999998,
          0.1444390243902439,
          0.1934,
          -0.1985609756097561,
          -0.123425,
          0.3693095238095238,
          -0.30040476190476195,
          -0.32366666666666666,
          0.16123809523809524,
          0.15482926829268293,
          -0.22648780487804876,
          -0.26590243902439026,
          0.13235714285714287,
          -0.25369047619047624,
          -0.0680952380952381,
          -0.37873809523809526,
          0.13805,
          0.1376904761904762,
          0.49314285714285716,
          0.20747619047619048,
          0.16302380952380952,
          -0.04352380952380953,
          -0.13007317073170732,
          -0.09843902439024389,
          0.11278048780487804,
          0.07478571428571429,
          0.3795121951219512,
          0.3728292682926829,
          0.18132500000000001,
          0.3682439024390244,
          0.36830769230769234,
          -0.22806382978723402,
          -0.015428571428571429,
          0.5608541666666667,
          0.4463061224489796,
          0.23865306122448982,
          0.4216,
          1.0803125,
          1.0127755102040816,
          0.6365106382978724,
          0.9562127659574469,
          1.0160208333333334,
          0.6492291666666666,
          0.9343125,
          0.7459791666666667,
          1.0277708333333333,
          0.9019791666666667,
          0.7415208333333333,
          0.9045624999999999,
          1.4628979591836735,
          0.6891632653061224,
          0.7921836734693878,
          1.032265306122449,
          0.905734693877551,
          1.3265918367346938,
          1.512673469387755,
          1.3462244897959184,
          1.470061224489796,
          1.5033061224489797,
          1.5220408163265307,
          1.6262857142857143,
          1.5639183673469388
         ]
        },
        {
         "mode": "lines",
         "name": "Europe",
         "type": "scatter",
         "x": [
          "F1961",
          "F1962",
          "F1963",
          "F1964",
          "F1965",
          "F1966",
          "F1967",
          "F1968",
          "F1969",
          "F1970",
          "F1971",
          "F1972",
          "F1973",
          "F1974",
          "F1975",
          "F1976",
          "F1977",
          "F1978",
          "F1979",
          "F1980",
          "F1981",
          "F1982",
          "F1983",
          "F1984",
          "F1985",
          "F1986",
          "F1987",
          "F1988",
          "F1989",
          "F1990",
          "F1991",
          "F1992",
          "F1993",
          "F1994",
          "F1995",
          "F1996",
          "F1997",
          "F1998",
          "F1999",
          "F2000",
          "F2001",
          "F2002",
          "F2003",
          "F2004",
          "F2005",
          "F2006",
          "F2007",
          "F2008",
          "F2009",
          "F2010",
          "F2011",
          "F2012",
          "F2013",
          "F2014",
          "F2015",
          "F2016",
          "F2017",
          "F2018",
          "F2019",
          "F2020",
          "F2021",
          "F2022"
         ],
         "y": [
          0.8709,
          -0.2081,
          -0.4862666666666666,
          0.03933333333333333,
          -0.4985,
          0.11033333333333335,
          0.3535333333333333,
          -0.050199999999999995,
          -0.23003333333333334,
          -0.3189666666666667,
          -0.11473333333333334,
          0.028000000000000008,
          0.13623333333333332,
          0.10033333333333333,
          0.5056666666666667,
          -0.0779,
          0.07036666666666666,
          -0.27103333333333335,
          -0.31303333333333333,
          -0.24383333333333335,
          -0.0022,
          0.295,
          0.5285666666666666,
          -0.020700000000000003,
          -0.3316666666666667,
          0.07186666666666668,
          -0.18489999999999998,
          0.6024666666666667,
          0.9551666666666667,
          1.2048666666666668,
          0.28646666666666665,
          0.7278048780487805,
          0.2184418604651163,
          1.141767441860465,
          0.8881627906976745,
          -0.06265116279069767,
          0.6097209302325581,
          0.8681162790697674,
          0.9820697674418605,
          1.3481333333333332,
          1.3417777777777777,
          1.2012444444444443,
          1.040688888888889,
          0.8760666666666667,
          0.865,
          0.9558085106382979,
          1.756744680851064,
          1.3890212765957448,
          1.3202127659574467,
          0.6890425531914893,
          1.0987234042553191,
          1.386276595744681,
          0.9735957446808511,
          1.9310851063829786,
          1.6760851063829787,
          1.7893617021276595,
          1.5370851063829787,
          1.9600851063829787,
          1.9237872340425533,
          2.248553191489362,
          1.4743191489361704,
          2.135723404255319
         ]
        },
        {
         "mode": "lines",
         "name": "North America",
         "type": "scatter",
         "x": [
          "F1961",
          "F1962",
          "F1963",
          "F1964",
          "F1965",
          "F1966",
          "F1967",
          "F1968",
          "F1969",
          "F1970",
          "F1971",
          "F1972",
          "F1973",
          "F1974",
          "F1975",
          "F1976",
          "F1977",
          "F1978",
          "F1979",
          "F1980",
          "F1981",
          "F1982",
          "F1983",
          "F1984",
          "F1985",
          "F1986",
          "F1987",
          "F1988",
          "F1989",
          "F1990",
          "F1991",
          "F1992",
          "F1993",
          "F1994",
          "F1995",
          "F1996",
          "F1997",
          "F1998",
          "F1999",
          "F2000",
          "F2001",
          "F2002",
          "F2003",
          "F2004",
          "F2005",
          "F2006",
          "F2007",
          "F2008",
          "F2009",
          "F2010",
          "F2011",
          "F2012",
          "F2013",
          "F2014",
          "F2015",
          "F2016",
          "F2017",
          "F2018",
          "F2019",
          "F2020",
          "F2021",
          "F2022"
         ],
         "y": [
          0.014687500000000003,
          -0.012939393939393943,
          0.10748484848484849,
          0.038875,
          -0.21754545454545454,
          -0.020088235294117646,
          -0.2248529411764706,
          -0.19197058823529412,
          0.2710882352941177,
          0.04073529411764706,
          -0.24174285714285715,
          -0.08902857142857142,
          0.1478857142857143,
          -0.27777142857142856,
          -0.17377142857142858,
          -0.29665714285714284,
          0.17685294117647057,
          0.09175757575757576,
          0.17593939393939395,
          0.4989714285714285,
          0.3834857142857143,
          0.20908571428571426,
          0.44945714285714283,
          0.03294285714285714,
          -0.014771428571428574,
          0.07352941176470588,
          0.5595142857142856,
          0.4865714285714286,
          0.08437142857142858,
          0.38182857142857146,
          0.4431470588235294,
          0.3122121212121212,
          0.3540606060606061,
          0.5928823529411765,
          0.7024117647058824,
          0.35208823529411765,
          0.6417647058823529,
          1.132205882352941,
          0.6198235294117648,
          0.42572727272727273,
          0.6265999999999999,
          0.7396969696969697,
          0.9539411764705882,
          0.6263235294117647,
          0.9128000000000001,
          0.8599714285714286,
          0.8868285714285715,
          0.5055588235294117,
          0.674,
          1.1322,
          0.6551428571428571,
          0.7979999999999999,
          0.8812058823529412,
          0.8179705882352941,
          1.0760588235294117,
          1.2579375,
          1.0533030303030304,
          0.8240937500000001,
          1.140090909090909,
          1.3633636363636363,
          1.11321875,
          0.96096875
         ]
        },
        {
         "mode": "lines",
         "name": "Oceania",
         "type": "scatter",
         "x": [
          "F1961",
          "F1962",
          "F1963",
          "F1964",
          "F1965",
          "F1966",
          "F1967",
          "F1968",
          "F1969",
          "F1970",
          "F1971",
          "F1972",
          "F1973",
          "F1974",
          "F1975",
          "F1976",
          "F1977",
          "F1978",
          "F1979",
          "F1980",
          "F1981",
          "F1982",
          "F1983",
          "F1984",
          "F1985",
          "F1986",
          "F1987",
          "F1988",
          "F1989",
          "F1990",
          "F1991",
          "F1992",
          "F1993",
          "F1994",
          "F1995",
          "F1996",
          "F1997",
          "F1998",
          "F1999",
          "F2000",
          "F2001",
          "F2002",
          "F2003",
          "F2004",
          "F2005",
          "F2006",
          "F2007",
          "F2008",
          "F2009",
          "F2010",
          "F2011",
          "F2012",
          "F2013",
          "F2014",
          "F2015",
          "F2016",
          "F2017",
          "F2018",
          "F2019",
          "F2020",
          "F2021",
          "F2022"
         ],
         "y": [
          0.054900000000000004,
          0.05431578947368421,
          -0.05052631578947368,
          0.044052631578947364,
          -0.3733157894736842,
          -0.17715,
          -0.1586842105263158,
          -0.1916842105263158,
          0.006888888888888891,
          0.19277777777777777,
          -0.07436842105263158,
          -0.1397,
          0.3653,
          0.00042105263157894484,
          0.02538888888888889,
          -0.15068421052631578,
          -0.032105263157894734,
          0.13145,
          0.18605,
          0.22915000000000002,
          0.21230000000000002,
          0.10765,
          0.18926315789473686,
          0.1793,
          0.25425,
          0.23110526315789473,
          0.16447368421052633,
          0.5395263157894736,
          0.22139999999999999,
          0.3636315789473684,
          0.2791363636363636,
          0.1128181818181818,
          -0.07005,
          0.10626315789473685,
          0.41985,
          0.40195,
          0.13077777777777777,
          0.5857777777777778,
          0.3854444444444444,
          0.36025,
          0.5083157894736842,
          0.6173684210526316,
          0.4444,
          0.392,
          0.5583684210526316,
          0.4681,
          0.64595,
          0.38516666666666666,
          0.3966666666666667,
          0.7276,
          0.5714210526315789,
          0.5531052631578948,
          0.8006315789473684,
          0.6796842105263158,
          0.6752631578947369,
          1.1521666666666668,
          1.0233333333333334,
          0.8839444444444444,
          1.0195882352941175,
          1.120111111111111,
          0.968,
          1.0454999999999999
         ]
        },
        {
         "mode": "lines",
         "name": "South America",
         "type": "scatter",
         "x": [
          "F1961",
          "F1962",
          "F1963",
          "F1964",
          "F1965",
          "F1966",
          "F1967",
          "F1968",
          "F1969",
          "F1970",
          "F1971",
          "F1972",
          "F1973",
          "F1974",
          "F1975",
          "F1976",
          "F1977",
          "F1978",
          "F1979",
          "F1980",
          "F1981",
          "F1982",
          "F1983",
          "F1984",
          "F1985",
          "F1986",
          "F1987",
          "F1988",
          "F1989",
          "F1990",
          "F1991",
          "F1992",
          "F1993",
          "F1994",
          "F1995",
          "F1996",
          "F1997",
          "F1998",
          "F1999",
          "F2000",
          "F2001",
          "F2002",
          "F2003",
          "F2004",
          "F2005",
          "F2006",
          "F2007",
          "F2008",
          "F2009",
          "F2010",
          "F2011",
          "F2012",
          "F2013",
          "F2014",
          "F2015",
          "F2016",
          "F2017",
          "F2018",
          "F2019",
          "F2020",
          "F2021",
          "F2022"
         ],
         "y": [
          0.06738461538461538,
          -0.103,
          0.11076923076923079,
          -0.1416923076923077,
          0.043307692307692304,
          -0.045307692307692306,
          -0.042,
          -0.055615384615384615,
          0.32761538461538464,
          0.20253846153846153,
          -0.38676923076923075,
          0.06607692307692307,
          0.13692307692307693,
          -0.20453846153846153,
          -0.16923076923076924,
          -0.21946153846153849,
          0.28146153846153843,
          0.19930769230769232,
          0.262,
          0.3383846153846154,
          0.22584615384615384,
          0.33425,
          0.48666666666666664,
          0.02124999999999999,
          0.1055,
          0.2675,
          0.5966666666666667,
          0.20633333333333334,
          0.1430833333333333,
          0.35200000000000004,
          0.41383333333333333,
          0.27266666666666667,
          0.3354166666666667,
          0.4831666666666667,
          0.60675,
          0.3821666666666667,
          0.8171666666666666,
          0.89125,
          0.2601666666666667,
          0.26166666666666666,
          0.6125833333333334,
          0.777,
          0.73175,
          0.6930000000000001,
          0.81075,
          0.7670833333333333,
          0.5233333333333333,
          0.5875833333333333,
          0.8739166666666667,
          0.79475,
          0.6919166666666667,
          0.8006666666666667,
          0.6421666666666667,
          0.9706666666666667,
          1.254,
          1.0683333333333334,
          1.10625,
          0.9107500000000001,
          1.1325,
          1.3685833333333333,
          0.9636666666666667,
          0.7528333333333334
         ]
        },
        {
         "mode": "lines",
         "name": "World",
         "type": "scatter",
         "x": [
          "F1961",
          "F1962",
          "F1963",
          "F1964",
          "F1965",
          "F1966",
          "F1967",
          "F1968",
          "F1969",
          "F1970",
          "F1971",
          "F1972",
          "F1973",
          "F1974",
          "F1975",
          "F1976",
          "F1977",
          "F1978",
          "F1979",
          "F1980",
          "F1981",
          "F1982",
          "F1983",
          "F1984",
          "F1985",
          "F1986",
          "F1987",
          "F1988",
          "F1989",
          "F1990",
          "F1991",
          "F1992",
          "F1993",
          "F1994",
          "F1995",
          "F1996",
          "F1997",
          "F1998",
          "F1999",
          "F2000",
          "F2001",
          "F2002",
          "F2003",
          "F2004",
          "F2005",
          "F2006",
          "F2007",
          "F2008",
          "F2009",
          "F2010",
          "F2011",
          "F2012",
          "F2013",
          "F2014",
          "F2015",
          "F2016",
          "F2017",
          "F2018",
          "F2019",
          "F2020",
          "F2021",
          "F2022"
         ],
         "y": [
          0.211,
          0.038,
          0.168,
          -0.246,
          -0.223,
          0.201,
          -0.117,
          -0.126,
          -0.092,
          0.15,
          -0.093,
          -0.199,
          0.269,
          -0.181,
          0.088,
          -0.314,
          0.269,
          0.001,
          0.226,
          0.332,
          0.443,
          0.086,
          0.46,
          0.127,
          -0.031,
          0.242,
          0.403,
          0.558,
          0.331,
          0.639,
          0.468,
          0.184,
          0.348,
          0.507,
          0.835,
          0.355,
          0.656,
          0.993,
          0.783,
          0.728,
          0.834,
          1.021,
          0.893,
          0.913,
          1.095,
          0.998,
          1.195,
          0.935,
          0.957,
          1.219,
          0.921,
          1.074,
          1.016,
          1.053,
          1.412,
          1.66,
          1.429,
          1.29,
          1.444,
          1.711,
          1.447,
          1.394
         ]
        },
        {
         "mode": "lines",
         "name": "Continental Mean",
         "type": "scatter",
         "x": [
          "F1961",
          "F1962",
          "F1963",
          "F1964",
          "F1965",
          "F1966",
          "F1967",
          "F1968",
          "F1969",
          "F1970",
          "F1971",
          "F1972",
          "F1973",
          "F1974",
          "F1975",
          "F1976",
          "F1977",
          "F1978",
          "F1979",
          "F1980",
          "F1981",
          "F1982",
          "F1983",
          "F1984",
          "F1985",
          "F1986",
          "F1987",
          "F1988",
          "F1989",
          "F1990",
          "F1991",
          "F1992",
          "F1993",
          "F1994",
          "F1995",
          "F1996",
          "F1997",
          "F1998",
          "F1999",
          "F2000",
          "F2001",
          "F2002",
          "F2003",
          "F2004",
          "F2005",
          "F2006",
          "F2007",
          "F2008",
          "F2009",
          "F2010",
          "F2011",
          "F2012",
          "F2013",
          "F2014",
          "F2015",
          "F2016",
          "F2017",
          "F2018",
          "F2019",
          "F2020",
          "F2021",
          "F2022"
         ],
         "y": [
          0.1729565705128205,
          -0.025784609499757128,
          -0.015981483867010166,
          -0.05621346332137411,
          -0.2353521945160103,
          0.05890718056453351,
          -0.08718027619954866,
          -0.1737022955200974,
          0.1427674938351409,
          0.08718761225357352,
          -0.2079111719652477,
          -0.06993209148575001,
          0.21751077533577534,
          -0.14146086851744746,
          -0.010585211349497055,
          -0.22744764750704602,
          0.1533820916355746,
          0.07239206848706849,
          0.19970981962481962,
          0.23520815018315014,
          0.1847192796092796,
          0.1930289072039072,
          0.3479608464563535,
          0.06871203334992533,
          0.06497798379514405,
          0.1617209195689072,
          0.3700765232342896,
          0.46231988672431545,
          0.27491350732600733,
          0.5384415251423634,
          0.36386518579459753,
          0.24389351581359883,
          0.20847211977109378,
          0.5536327551879585,
          0.6141258646094095,
          0.2993776039873314,
          0.5411682787326817,
          0.9264375670272416,
          0.6445915248230082,
          0.5847342596806614,
          0.7818686481274106,
          0.8696353583348101,
          0.7961589460784314,
          0.7210183505809731,
          0.8177938287224471,
          0.8225582484152962,
          0.9234541068614207,
          0.7245456683969277,
          0.8425565614202583,
          1.0209902487945532,
          0.771499479272029,
          0.8527839828586395,
          0.8787553075728237,
          1.045400087491344,
          1.2007652528557353,
          1.3551528526599765,
          1.2208999439198274,
          1.1893039023676846,
          1.346119490886834,
          1.4803234250270725,
          1.2437946762777214,
          1.253592494341117
         ]
        },
        {
         "mode": "lines",
         "name": "Difference",
         "type": "scatter",
         "x": [
          "F1961",
          "F1962",
          "F1963",
          "F1964",
          "F1965",
          "F1966",
          "F1967",
          "F1968",
          "F1969",
          "F1970",
          "F1971",
          "F1972",
          "F1973",
          "F1974",
          "F1975",
          "F1976",
          "F1977",
          "F1978",
          "F1979",
          "F1980",
          "F1981",
          "F1982",
          "F1983",
          "F1984",
          "F1985",
          "F1986",
          "F1987",
          "F1988",
          "F1989",
          "F1990",
          "F1991",
          "F1992",
          "F1993",
          "F1994",
          "F1995",
          "F1996",
          "F1997",
          "F1998",
          "F1999",
          "F2000",
          "F2001",
          "F2002",
          "F2003",
          "F2004",
          "F2005",
          "F2006",
          "F2007",
          "F2008",
          "F2009",
          "F2010",
          "F2011",
          "F2012",
          "F2013",
          "F2014",
          "F2015",
          "F2016",
          "F2017",
          "F2018",
          "F2019",
          "F2020",
          "F2021",
          "F2022"
         ],
         "y": [
          -0.03804342948717948,
          -0.06378460949975713,
          -0.1839814838670102,
          0.18978653667862588,
          -0.0123521945160103,
          -0.1420928194354665,
          0.02981972380045135,
          -0.04770229552009739,
          0.2347674938351409,
          -0.06281238774642647,
          -0.1149111719652477,
          0.12906790851424998,
          -0.051489224664224675,
          0.03953913148255253,
          -0.09858521134949705,
          0.08655235249295398,
          -0.11561790836442543,
          0.07139206848706849,
          -0.026290180375180383,
          -0.09679184981684988,
          -0.25828072039072036,
          0.1070289072039072,
          -0.11203915354364652,
          -0.05828796665007467,
          0.09597798379514405,
          -0.0802790804310928,
          -0.03292347676571045,
          -0.0956801132756846,
          -0.05608649267399268,
          -0.10055847485763658,
          -0.10413481420540249,
          0.059893515813598835,
          -0.1395278802289062,
          0.04663275518795851,
          -0.22087413539059042,
          -0.05562239601266861,
          -0.11483172126731833,
          -0.06656243297275843,
          -0.13840847517699184,
          -0.14326574031933859,
          -0.05213135187258933,
          -0.15136464166518981,
          -0.09684105392156861,
          -0.19198164941902696,
          -0.27720617127755287,
          -0.17544175158470376,
          -0.27154589313857935,
          -0.21045433160307236,
          -0.11444343857974171,
          -0.19800975120544684,
          -0.14950052072797104,
          -0.22121601714136052,
          -0.1372446924271763,
          -0.007599912508655882,
          -0.2112347471442646,
          -0.3048471473400234,
          -0.20810005608017268,
          -0.10069609763231546,
          -0.09788050911316604,
          -0.2306765749729276,
          -0.20320532372227862,
          -0.14040750565888294
         ]
        }
       ],
       "layout": {
        "template": {
         "data": {
          "bar": [
           {
            "error_x": {
             "color": "#2a3f5f"
            },
            "error_y": {
             "color": "#2a3f5f"
            },
            "marker": {
             "line": {
              "color": "#E5ECF6",
              "width": 0.5
             },
             "pattern": {
              "fillmode": "overlay",
              "size": 10,
              "solidity": 0.2
             }
            },
            "type": "bar"
           }
          ],
          "barpolar": [
           {
            "marker": {
             "line": {
              "color": "#E5ECF6",
              "width": 0.5
             },
             "pattern": {
              "fillmode": "overlay",
              "size": 10,
              "solidity": 0.2
             }
            },
            "type": "barpolar"
           }
          ],
          "carpet": [
           {
            "aaxis": {
             "endlinecolor": "#2a3f5f",
             "gridcolor": "white",
             "linecolor": "white",
             "minorgridcolor": "white",
             "startlinecolor": "#2a3f5f"
            },
            "baxis": {
             "endlinecolor": "#2a3f5f",
             "gridcolor": "white",
             "linecolor": "white",
             "minorgridcolor": "white",
             "startlinecolor": "#2a3f5f"
            },
            "type": "carpet"
           }
          ],
          "choropleth": [
           {
            "colorbar": {
             "outlinewidth": 0,
             "ticks": ""
            },
            "type": "choropleth"
           }
          ],
          "contour": [
           {
            "colorbar": {
             "outlinewidth": 0,
             "ticks": ""
            },
            "colorscale": [
             [
              0,
              "#0d0887"
             ],
             [
              0.1111111111111111,
              "#46039f"
             ],
             [
              0.2222222222222222,
              "#7201a8"
             ],
             [
              0.3333333333333333,
              "#9c179e"
             ],
             [
              0.4444444444444444,
              "#bd3786"
             ],
             [
              0.5555555555555556,
              "#d8576b"
             ],
             [
              0.6666666666666666,
              "#ed7953"
             ],
             [
              0.7777777777777778,
              "#fb9f3a"
             ],
             [
              0.8888888888888888,
              "#fdca26"
             ],
             [
              1,
              "#f0f921"
             ]
            ],
            "type": "contour"
           }
          ],
          "contourcarpet": [
           {
            "colorbar": {
             "outlinewidth": 0,
             "ticks": ""
            },
            "type": "contourcarpet"
           }
          ],
          "heatmap": [
           {
            "colorbar": {
             "outlinewidth": 0,
             "ticks": ""
            },
            "colorscale": [
             [
              0,
              "#0d0887"
             ],
             [
              0.1111111111111111,
              "#46039f"
             ],
             [
              0.2222222222222222,
              "#7201a8"
             ],
             [
              0.3333333333333333,
              "#9c179e"
             ],
             [
              0.4444444444444444,
              "#bd3786"
             ],
             [
              0.5555555555555556,
              "#d8576b"
             ],
             [
              0.6666666666666666,
              "#ed7953"
             ],
             [
              0.7777777777777778,
              "#fb9f3a"
             ],
             [
              0.8888888888888888,
              "#fdca26"
             ],
             [
              1,
              "#f0f921"
             ]
            ],
            "type": "heatmap"
           }
          ],
          "heatmapgl": [
           {
            "colorbar": {
             "outlinewidth": 0,
             "ticks": ""
            },
            "colorscale": [
             [
              0,
              "#0d0887"
             ],
             [
              0.1111111111111111,
              "#46039f"
             ],
             [
              0.2222222222222222,
              "#7201a8"
             ],
             [
              0.3333333333333333,
              "#9c179e"
             ],
             [
              0.4444444444444444,
              "#bd3786"
             ],
             [
              0.5555555555555556,
              "#d8576b"
             ],
             [
              0.6666666666666666,
              "#ed7953"
             ],
             [
              0.7777777777777778,
              "#fb9f3a"
             ],
             [
              0.8888888888888888,
              "#fdca26"
             ],
             [
              1,
              "#f0f921"
             ]
            ],
            "type": "heatmapgl"
           }
          ],
          "histogram": [
           {
            "marker": {
             "pattern": {
              "fillmode": "overlay",
              "size": 10,
              "solidity": 0.2
             }
            },
            "type": "histogram"
           }
          ],
          "histogram2d": [
           {
            "colorbar": {
             "outlinewidth": 0,
             "ticks": ""
            },
            "colorscale": [
             [
              0,
              "#0d0887"
             ],
             [
              0.1111111111111111,
              "#46039f"
             ],
             [
              0.2222222222222222,
              "#7201a8"
             ],
             [
              0.3333333333333333,
              "#9c179e"
             ],
             [
              0.4444444444444444,
              "#bd3786"
             ],
             [
              0.5555555555555556,
              "#d8576b"
             ],
             [
              0.6666666666666666,
              "#ed7953"
             ],
             [
              0.7777777777777778,
              "#fb9f3a"
             ],
             [
              0.8888888888888888,
              "#fdca26"
             ],
             [
              1,
              "#f0f921"
             ]
            ],
            "type": "histogram2d"
           }
          ],
          "histogram2dcontour": [
           {
            "colorbar": {
             "outlinewidth": 0,
             "ticks": ""
            },
            "colorscale": [
             [
              0,
              "#0d0887"
             ],
             [
              0.1111111111111111,
              "#46039f"
             ],
             [
              0.2222222222222222,
              "#7201a8"
             ],
             [
              0.3333333333333333,
              "#9c179e"
             ],
             [
              0.4444444444444444,
              "#bd3786"
             ],
             [
              0.5555555555555556,
              "#d8576b"
             ],
             [
              0.6666666666666666,
              "#ed7953"
             ],
             [
              0.7777777777777778,
              "#fb9f3a"
             ],
             [
              0.8888888888888888,
              "#fdca26"
             ],
             [
              1,
              "#f0f921"
             ]
            ],
            "type": "histogram2dcontour"
           }
          ],
          "mesh3d": [
           {
            "colorbar": {
             "outlinewidth": 0,
             "ticks": ""
            },
            "type": "mesh3d"
           }
          ],
          "parcoords": [
           {
            "line": {
             "colorbar": {
              "outlinewidth": 0,
              "ticks": ""
             }
            },
            "type": "parcoords"
           }
          ],
          "pie": [
           {
            "automargin": true,
            "type": "pie"
           }
          ],
          "scatter": [
           {
            "fillpattern": {
             "fillmode": "overlay",
             "size": 10,
             "solidity": 0.2
            },
            "type": "scatter"
           }
          ],
          "scatter3d": [
           {
            "line": {
             "colorbar": {
              "outlinewidth": 0,
              "ticks": ""
             }
            },
            "marker": {
             "colorbar": {
              "outlinewidth": 0,
              "ticks": ""
             }
            },
            "type": "scatter3d"
           }
          ],
          "scattercarpet": [
           {
            "marker": {
             "colorbar": {
              "outlinewidth": 0,
              "ticks": ""
             }
            },
            "type": "scattercarpet"
           }
          ],
          "scattergeo": [
           {
            "marker": {
             "colorbar": {
              "outlinewidth": 0,
              "ticks": ""
             }
            },
            "type": "scattergeo"
           }
          ],
          "scattergl": [
           {
            "marker": {
             "colorbar": {
              "outlinewidth": 0,
              "ticks": ""
             }
            },
            "type": "scattergl"
           }
          ],
          "scattermapbox": [
           {
            "marker": {
             "colorbar": {
              "outlinewidth": 0,
              "ticks": ""
             }
            },
            "type": "scattermapbox"
           }
          ],
          "scatterpolar": [
           {
            "marker": {
             "colorbar": {
              "outlinewidth": 0,
              "ticks": ""
             }
            },
            "type": "scatterpolar"
           }
          ],
          "scatterpolargl": [
           {
            "marker": {
             "colorbar": {
              "outlinewidth": 0,
              "ticks": ""
             }
            },
            "type": "scatterpolargl"
           }
          ],
          "scatterternary": [
           {
            "marker": {
             "colorbar": {
              "outlinewidth": 0,
              "ticks": ""
             }
            },
            "type": "scatterternary"
           }
          ],
          "surface": [
           {
            "colorbar": {
             "outlinewidth": 0,
             "ticks": ""
            },
            "colorscale": [
             [
              0,
              "#0d0887"
             ],
             [
              0.1111111111111111,
              "#46039f"
             ],
             [
              0.2222222222222222,
              "#7201a8"
             ],
             [
              0.3333333333333333,
              "#9c179e"
             ],
             [
              0.4444444444444444,
              "#bd3786"
             ],
             [
              0.5555555555555556,
              "#d8576b"
             ],
             [
              0.6666666666666666,
              "#ed7953"
             ],
             [
              0.7777777777777778,
              "#fb9f3a"
             ],
             [
              0.8888888888888888,
              "#fdca26"
             ],
             [
              1,
              "#f0f921"
             ]
            ],
            "type": "surface"
           }
          ],
          "table": [
           {
            "cells": {
             "fill": {
              "color": "#EBF0F8"
             },
             "line": {
              "color": "white"
             }
            },
            "header": {
             "fill": {
              "color": "#C8D4E3"
             },
             "line": {
              "color": "white"
             }
            },
            "type": "table"
           }
          ]
         },
         "layout": {
          "annotationdefaults": {
           "arrowcolor": "#2a3f5f",
           "arrowhead": 0,
           "arrowwidth": 1
          },
          "autotypenumbers": "strict",
          "coloraxis": {
           "colorbar": {
            "outlinewidth": 0,
            "ticks": ""
           }
          },
          "colorscale": {
           "diverging": [
            [
             0,
             "#8e0152"
            ],
            [
             0.1,
             "#c51b7d"
            ],
            [
             0.2,
             "#de77ae"
            ],
            [
             0.3,
             "#f1b6da"
            ],
            [
             0.4,
             "#fde0ef"
            ],
            [
             0.5,
             "#f7f7f7"
            ],
            [
             0.6,
             "#e6f5d0"
            ],
            [
             0.7,
             "#b8e186"
            ],
            [
             0.8,
             "#7fbc41"
            ],
            [
             0.9,
             "#4d9221"
            ],
            [
             1,
             "#276419"
            ]
           ],
           "sequential": [
            [
             0,
             "#0d0887"
            ],
            [
             0.1111111111111111,
             "#46039f"
            ],
            [
             0.2222222222222222,
             "#7201a8"
            ],
            [
             0.3333333333333333,
             "#9c179e"
            ],
            [
             0.4444444444444444,
             "#bd3786"
            ],
            [
             0.5555555555555556,
             "#d8576b"
            ],
            [
             0.6666666666666666,
             "#ed7953"
            ],
            [
             0.7777777777777778,
             "#fb9f3a"
            ],
            [
             0.8888888888888888,
             "#fdca26"
            ],
            [
             1,
             "#f0f921"
            ]
           ],
           "sequentialminus": [
            [
             0,
             "#0d0887"
            ],
            [
             0.1111111111111111,
             "#46039f"
            ],
            [
             0.2222222222222222,
             "#7201a8"
            ],
            [
             0.3333333333333333,
             "#9c179e"
            ],
            [
             0.4444444444444444,
             "#bd3786"
            ],
            [
             0.5555555555555556,
             "#d8576b"
            ],
            [
             0.6666666666666666,
             "#ed7953"
            ],
            [
             0.7777777777777778,
             "#fb9f3a"
            ],
            [
             0.8888888888888888,
             "#fdca26"
            ],
            [
             1,
             "#f0f921"
            ]
           ]
          },
          "colorway": [
           "#636efa",
           "#EF553B",
           "#00cc96",
           "#ab63fa",
           "#FFA15A",
           "#19d3f3",
           "#FF6692",
           "#B6E880",
           "#FF97FF",
           "#FECB52"
          ],
          "font": {
           "color": "#2a3f5f"
          },
          "geo": {
           "bgcolor": "white",
           "lakecolor": "white",
           "landcolor": "#E5ECF6",
           "showlakes": true,
           "showland": true,
           "subunitcolor": "white"
          },
          "hoverlabel": {
           "align": "left"
          },
          "hovermode": "closest",
          "mapbox": {
           "style": "light"
          },
          "paper_bgcolor": "white",
          "plot_bgcolor": "#E5ECF6",
          "polar": {
           "angularaxis": {
            "gridcolor": "white",
            "linecolor": "white",
            "ticks": ""
           },
           "bgcolor": "#E5ECF6",
           "radialaxis": {
            "gridcolor": "white",
            "linecolor": "white",
            "ticks": ""
           }
          },
          "scene": {
           "xaxis": {
            "backgroundcolor": "#E5ECF6",
            "gridcolor": "white",
            "gridwidth": 2,
            "linecolor": "white",
            "showbackground": true,
            "ticks": "",
            "zerolinecolor": "white"
           },
           "yaxis": {
            "backgroundcolor": "#E5ECF6",
            "gridcolor": "white",
            "gridwidth": 2,
            "linecolor": "white",
            "showbackground": true,
            "ticks": "",
            "zerolinecolor": "white"
           },
           "zaxis": {
            "backgroundcolor": "#E5ECF6",
            "gridcolor": "white",
            "gridwidth": 2,
            "linecolor": "white",
            "showbackground": true,
            "ticks": "",
            "zerolinecolor": "white"
           }
          },
          "shapedefaults": {
           "line": {
            "color": "#2a3f5f"
           }
          },
          "ternary": {
           "aaxis": {
            "gridcolor": "white",
            "linecolor": "white",
            "ticks": ""
           },
           "baxis": {
            "gridcolor": "white",
            "linecolor": "white",
            "ticks": ""
           },
           "bgcolor": "#E5ECF6",
           "caxis": {
            "gridcolor": "white",
            "linecolor": "white",
            "ticks": ""
           }
          },
          "title": {
           "x": 0.05
          },
          "xaxis": {
           "automargin": true,
           "gridcolor": "white",
           "linecolor": "white",
           "ticks": "",
           "title": {
            "standoff": 15
           },
           "zerolinecolor": "white",
           "zerolinewidth": 2
          },
          "yaxis": {
           "automargin": true,
           "gridcolor": "white",
           "linecolor": "white",
           "ticks": "",
           "title": {
            "standoff": 15
           },
           "zerolinecolor": "white",
           "zerolinewidth": 2
          }
         }
        },
        "title": {
         "text": "Line Chart for Continents"
        },
        "xaxis": {
         "title": {
          "text": "Year"
         }
        },
        "yaxis": {
         "title": {
          "text": "Value"
         }
        }
       }
      }
     },
     "metadata": {},
     "output_type": "display_data"
    }
   ],
   "source": [
    "# Create x-axis labels (years)\n",
    "x_labels = final_df.columns\n",
    "\n",
    "# Create traces for each continent\n",
    "traces = []\n",
    "for continent, row in final_df.iterrows():\n",
    "    y_values = row.values  # Select all values of the row\n",
    "\n",
    "    # Create trace for the line\n",
    "    trace = go.Scatter(\n",
    "        x=x_labels,\n",
    "        y=y_values,\n",
    "        mode='lines',\n",
    "        name=continent\n",
    "    )\n",
    "\n",
    "    traces.append(trace)\n",
    "\n",
    "# Create data list with all traces\n",
    "data = traces\n",
    "\n",
    "# Create layout\n",
    "layout = go.Layout(\n",
    "    title='Line Chart for Continents',\n",
    "    xaxis=dict(title='Year'),\n",
    "    yaxis=dict(title='Temperature Difference (Celsius) Year on Year')\n",
    ")\n",
    "\n",
    "# Create figure\n",
    "fig = go.Figure(data=data, layout=layout)\n",
    "\n",
    "# Display the figure\n",
    "fig.show()\n",
    "\n"
   ]
  },
  {
   "cell_type": "markdown",
   "metadata": {},
   "source": [
    "#### There appears to be a difference mean of the countries vs the world values used by IMF"
   ]
  }
 ],
 "metadata": {
  "kernelspec": {
   "display_name": "Python 3",
   "language": "python",
   "name": "python3"
  },
  "language_info": {
   "codemirror_mode": {
    "name": "ipython",
    "version": 3
   },
   "file_extension": ".py",
   "mimetype": "text/x-python",
   "name": "python",
   "nbconvert_exporter": "python",
   "pygments_lexer": "ipython3",
   "version": "3.7.13"
  },
  "orig_nbformat": 4
 },
 "nbformat": 4,
 "nbformat_minor": 2
}
