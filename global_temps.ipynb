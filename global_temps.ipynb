{
 "cells": [
  {
   "cell_type": "code",
   "execution_count": 11,
   "metadata": {},
   "outputs": [],
   "source": [
    "\n",
    "# Dependencies\n",
    "import numpy as np\n",
    "import pandas as pd\n",
    "import plotly.express as px\n",
    "import plotly.graph_objects as go"
   ]
  },
  {
   "cell_type": "code",
   "execution_count": 12,
   "metadata": {},
   "outputs": [
    {
     "data": {
      "text/html": [
       "<div>\n",
       "<style scoped>\n",
       "    .dataframe tbody tr th:only-of-type {\n",
       "        vertical-align: middle;\n",
       "    }\n",
       "\n",
       "    .dataframe tbody tr th {\n",
       "        vertical-align: top;\n",
       "    }\n",
       "\n",
       "    .dataframe thead th {\n",
       "        text-align: right;\n",
       "    }\n",
       "</style>\n",
       "<table border=\"1\" class=\"dataframe\">\n",
       "  <thead>\n",
       "    <tr style=\"text-align: right;\">\n",
       "      <th></th>\n",
       "      <th>ObjectId</th>\n",
       "      <th>Country</th>\n",
       "      <th>ISO2</th>\n",
       "      <th>ISO3</th>\n",
       "      <th>Indicator</th>\n",
       "      <th>Unit</th>\n",
       "      <th>Source</th>\n",
       "      <th>CTS_Code</th>\n",
       "      <th>CTS_Name</th>\n",
       "      <th>CTS_Full_Descriptor</th>\n",
       "      <th>...</th>\n",
       "      <th>F2013</th>\n",
       "      <th>F2014</th>\n",
       "      <th>F2015</th>\n",
       "      <th>F2016</th>\n",
       "      <th>F2017</th>\n",
       "      <th>F2018</th>\n",
       "      <th>F2019</th>\n",
       "      <th>F2020</th>\n",
       "      <th>F2021</th>\n",
       "      <th>F2022</th>\n",
       "    </tr>\n",
       "  </thead>\n",
       "  <tbody>\n",
       "    <tr>\n",
       "      <th>0</th>\n",
       "      <td>1</td>\n",
       "      <td>Afghanistan, Islamic Rep. of</td>\n",
       "      <td>AF</td>\n",
       "      <td>AFG</td>\n",
       "      <td>Temperature change with respect to a baseline ...</td>\n",
       "      <td>Degree Celsius</td>\n",
       "      <td>Food and Agriculture Organization of the Unite...</td>\n",
       "      <td>ECCS</td>\n",
       "      <td>Surface Temperature Change</td>\n",
       "      <td>Environment, Climate Change, Climate Indicator...</td>\n",
       "      <td>...</td>\n",
       "      <td>1.281</td>\n",
       "      <td>0.456</td>\n",
       "      <td>1.093</td>\n",
       "      <td>1.555</td>\n",
       "      <td>1.540</td>\n",
       "      <td>1.544</td>\n",
       "      <td>0.910</td>\n",
       "      <td>0.498</td>\n",
       "      <td>1.327</td>\n",
       "      <td>2.012</td>\n",
       "    </tr>\n",
       "    <tr>\n",
       "      <th>1</th>\n",
       "      <td>2</td>\n",
       "      <td>Albania</td>\n",
       "      <td>AL</td>\n",
       "      <td>ALB</td>\n",
       "      <td>Temperature change with respect to a baseline ...</td>\n",
       "      <td>Degree Celsius</td>\n",
       "      <td>Food and Agriculture Organization of the Unite...</td>\n",
       "      <td>ECCS</td>\n",
       "      <td>Surface Temperature Change</td>\n",
       "      <td>Environment, Climate Change, Climate Indicator...</td>\n",
       "      <td>...</td>\n",
       "      <td>1.333</td>\n",
       "      <td>1.198</td>\n",
       "      <td>1.569</td>\n",
       "      <td>1.464</td>\n",
       "      <td>1.121</td>\n",
       "      <td>2.028</td>\n",
       "      <td>1.675</td>\n",
       "      <td>1.498</td>\n",
       "      <td>1.536</td>\n",
       "      <td>1.518</td>\n",
       "    </tr>\n",
       "    <tr>\n",
       "      <th>2</th>\n",
       "      <td>3</td>\n",
       "      <td>Algeria</td>\n",
       "      <td>DZ</td>\n",
       "      <td>DZA</td>\n",
       "      <td>Temperature change with respect to a baseline ...</td>\n",
       "      <td>Degree Celsius</td>\n",
       "      <td>Food and Agriculture Organization of the Unite...</td>\n",
       "      <td>ECCS</td>\n",
       "      <td>Surface Temperature Change</td>\n",
       "      <td>Environment, Climate Change, Climate Indicator...</td>\n",
       "      <td>...</td>\n",
       "      <td>1.192</td>\n",
       "      <td>1.690</td>\n",
       "      <td>1.121</td>\n",
       "      <td>1.757</td>\n",
       "      <td>1.512</td>\n",
       "      <td>1.210</td>\n",
       "      <td>1.115</td>\n",
       "      <td>1.926</td>\n",
       "      <td>2.330</td>\n",
       "      <td>1.688</td>\n",
       "    </tr>\n",
       "    <tr>\n",
       "      <th>3</th>\n",
       "      <td>4</td>\n",
       "      <td>American Samoa</td>\n",
       "      <td>AS</td>\n",
       "      <td>ASM</td>\n",
       "      <td>Temperature change with respect to a baseline ...</td>\n",
       "      <td>Degree Celsius</td>\n",
       "      <td>Food and Agriculture Organization of the Unite...</td>\n",
       "      <td>ECCS</td>\n",
       "      <td>Surface Temperature Change</td>\n",
       "      <td>Environment, Climate Change, Climate Indicator...</td>\n",
       "      <td>...</td>\n",
       "      <td>1.257</td>\n",
       "      <td>1.170</td>\n",
       "      <td>1.009</td>\n",
       "      <td>1.539</td>\n",
       "      <td>1.435</td>\n",
       "      <td>1.189</td>\n",
       "      <td>1.539</td>\n",
       "      <td>1.430</td>\n",
       "      <td>1.268</td>\n",
       "      <td>1.256</td>\n",
       "    </tr>\n",
       "    <tr>\n",
       "      <th>4</th>\n",
       "      <td>5</td>\n",
       "      <td>Andorra, Principality of</td>\n",
       "      <td>AD</td>\n",
       "      <td>AND</td>\n",
       "      <td>Temperature change with respect to a baseline ...</td>\n",
       "      <td>Degree Celsius</td>\n",
       "      <td>Food and Agriculture Organization of the Unite...</td>\n",
       "      <td>ECCS</td>\n",
       "      <td>Surface Temperature Change</td>\n",
       "      <td>Environment, Climate Change, Climate Indicator...</td>\n",
       "      <td>...</td>\n",
       "      <td>0.831</td>\n",
       "      <td>1.946</td>\n",
       "      <td>1.690</td>\n",
       "      <td>1.990</td>\n",
       "      <td>1.925</td>\n",
       "      <td>1.919</td>\n",
       "      <td>1.964</td>\n",
       "      <td>2.562</td>\n",
       "      <td>1.533</td>\n",
       "      <td>3.243</td>\n",
       "    </tr>\n",
       "    <tr>\n",
       "      <th>...</th>\n",
       "      <td>...</td>\n",
       "      <td>...</td>\n",
       "      <td>...</td>\n",
       "      <td>...</td>\n",
       "      <td>...</td>\n",
       "      <td>...</td>\n",
       "      <td>...</td>\n",
       "      <td>...</td>\n",
       "      <td>...</td>\n",
       "      <td>...</td>\n",
       "      <td>...</td>\n",
       "      <td>...</td>\n",
       "      <td>...</td>\n",
       "      <td>...</td>\n",
       "      <td>...</td>\n",
       "      <td>...</td>\n",
       "      <td>...</td>\n",
       "      <td>...</td>\n",
       "      <td>...</td>\n",
       "      <td>...</td>\n",
       "      <td>...</td>\n",
       "    </tr>\n",
       "    <tr>\n",
       "      <th>220</th>\n",
       "      <td>221</td>\n",
       "      <td>Western Sahara</td>\n",
       "      <td>EH</td>\n",
       "      <td>ESH</td>\n",
       "      <td>Temperature change with respect to a baseline ...</td>\n",
       "      <td>Degree Celsius</td>\n",
       "      <td>Food and Agriculture Organization of the Unite...</td>\n",
       "      <td>ECCS</td>\n",
       "      <td>Surface Temperature Change</td>\n",
       "      <td>Environment, Climate Change, Climate Indicator...</td>\n",
       "      <td>...</td>\n",
       "      <td>1.423</td>\n",
       "      <td>1.401</td>\n",
       "      <td>1.510</td>\n",
       "      <td>1.732</td>\n",
       "      <td>2.204</td>\n",
       "      <td>0.942</td>\n",
       "      <td>1.477</td>\n",
       "      <td>2.069</td>\n",
       "      <td>1.593</td>\n",
       "      <td>1.970</td>\n",
       "    </tr>\n",
       "    <tr>\n",
       "      <th>221</th>\n",
       "      <td>222</td>\n",
       "      <td>World</td>\n",
       "      <td>0</td>\n",
       "      <td>WLD</td>\n",
       "      <td>Temperature change with respect to a baseline ...</td>\n",
       "      <td>Degree Celsius</td>\n",
       "      <td>Food and Agriculture Organization of the Unite...</td>\n",
       "      <td>ECCS</td>\n",
       "      <td>Surface Temperature Change</td>\n",
       "      <td>Environment, Climate Change, Climate Indicator...</td>\n",
       "      <td>...</td>\n",
       "      <td>1.016</td>\n",
       "      <td>1.053</td>\n",
       "      <td>1.412</td>\n",
       "      <td>1.660</td>\n",
       "      <td>1.429</td>\n",
       "      <td>1.290</td>\n",
       "      <td>1.444</td>\n",
       "      <td>1.711</td>\n",
       "      <td>1.447</td>\n",
       "      <td>1.394</td>\n",
       "    </tr>\n",
       "    <tr>\n",
       "      <th>222</th>\n",
       "      <td>223</td>\n",
       "      <td>Yemen, Rep. of</td>\n",
       "      <td>YE</td>\n",
       "      <td>YEM</td>\n",
       "      <td>Temperature change with respect to a baseline ...</td>\n",
       "      <td>Degree Celsius</td>\n",
       "      <td>Food and Agriculture Organization of the Unite...</td>\n",
       "      <td>ECCS</td>\n",
       "      <td>Surface Temperature Change</td>\n",
       "      <td>Environment, Climate Change, Climate Indicator...</td>\n",
       "      <td>...</td>\n",
       "      <td>0.000</td>\n",
       "      <td>0.000</td>\n",
       "      <td>0.000</td>\n",
       "      <td>0.000</td>\n",
       "      <td>0.000</td>\n",
       "      <td>0.000</td>\n",
       "      <td>0.000</td>\n",
       "      <td>0.000</td>\n",
       "      <td>0.000</td>\n",
       "      <td>0.000</td>\n",
       "    </tr>\n",
       "    <tr>\n",
       "      <th>223</th>\n",
       "      <td>224</td>\n",
       "      <td>Zambia</td>\n",
       "      <td>ZM</td>\n",
       "      <td>ZMB</td>\n",
       "      <td>Temperature change with respect to a baseline ...</td>\n",
       "      <td>Degree Celsius</td>\n",
       "      <td>Food and Agriculture Organization of the Unite...</td>\n",
       "      <td>ECCS</td>\n",
       "      <td>Surface Temperature Change</td>\n",
       "      <td>Environment, Climate Change, Climate Indicator...</td>\n",
       "      <td>...</td>\n",
       "      <td>0.790</td>\n",
       "      <td>0.917</td>\n",
       "      <td>1.450</td>\n",
       "      <td>1.401</td>\n",
       "      <td>0.105</td>\n",
       "      <td>0.648</td>\n",
       "      <td>0.855</td>\n",
       "      <td>0.891</td>\n",
       "      <td>0.822</td>\n",
       "      <td>0.686</td>\n",
       "    </tr>\n",
       "    <tr>\n",
       "      <th>224</th>\n",
       "      <td>225</td>\n",
       "      <td>Zimbabwe</td>\n",
       "      <td>ZW</td>\n",
       "      <td>ZWE</td>\n",
       "      <td>Temperature change with respect to a baseline ...</td>\n",
       "      <td>Degree Celsius</td>\n",
       "      <td>Food and Agriculture Organization of the Unite...</td>\n",
       "      <td>ECCS</td>\n",
       "      <td>Surface Temperature Change</td>\n",
       "      <td>Environment, Climate Change, Climate Indicator...</td>\n",
       "      <td>...</td>\n",
       "      <td>0.118</td>\n",
       "      <td>0.025</td>\n",
       "      <td>0.970</td>\n",
       "      <td>1.270</td>\n",
       "      <td>0.088</td>\n",
       "      <td>0.453</td>\n",
       "      <td>0.925</td>\n",
       "      <td>0.389</td>\n",
       "      <td>-0.125</td>\n",
       "      <td>-0.490</td>\n",
       "    </tr>\n",
       "  </tbody>\n",
       "</table>\n",
       "<p>225 rows × 72 columns</p>\n",
       "</div>"
      ],
      "text/plain": [
       "     ObjectId                       Country ISO2 ISO3  \\\n",
       "0           1  Afghanistan, Islamic Rep. of   AF  AFG   \n",
       "1           2                       Albania   AL  ALB   \n",
       "2           3                       Algeria   DZ  DZA   \n",
       "3           4                American Samoa   AS  ASM   \n",
       "4           5      Andorra, Principality of   AD  AND   \n",
       "..        ...                           ...  ...  ...   \n",
       "220       221                Western Sahara   EH  ESH   \n",
       "221       222                         World    0  WLD   \n",
       "222       223                Yemen, Rep. of   YE  YEM   \n",
       "223       224                        Zambia   ZM  ZMB   \n",
       "224       225                      Zimbabwe   ZW  ZWE   \n",
       "\n",
       "                                             Indicator            Unit  \\\n",
       "0    Temperature change with respect to a baseline ...  Degree Celsius   \n",
       "1    Temperature change with respect to a baseline ...  Degree Celsius   \n",
       "2    Temperature change with respect to a baseline ...  Degree Celsius   \n",
       "3    Temperature change with respect to a baseline ...  Degree Celsius   \n",
       "4    Temperature change with respect to a baseline ...  Degree Celsius   \n",
       "..                                                 ...             ...   \n",
       "220  Temperature change with respect to a baseline ...  Degree Celsius   \n",
       "221  Temperature change with respect to a baseline ...  Degree Celsius   \n",
       "222  Temperature change with respect to a baseline ...  Degree Celsius   \n",
       "223  Temperature change with respect to a baseline ...  Degree Celsius   \n",
       "224  Temperature change with respect to a baseline ...  Degree Celsius   \n",
       "\n",
       "                                                Source CTS_Code  \\\n",
       "0    Food and Agriculture Organization of the Unite...     ECCS   \n",
       "1    Food and Agriculture Organization of the Unite...     ECCS   \n",
       "2    Food and Agriculture Organization of the Unite...     ECCS   \n",
       "3    Food and Agriculture Organization of the Unite...     ECCS   \n",
       "4    Food and Agriculture Organization of the Unite...     ECCS   \n",
       "..                                                 ...      ...   \n",
       "220  Food and Agriculture Organization of the Unite...     ECCS   \n",
       "221  Food and Agriculture Organization of the Unite...     ECCS   \n",
       "222  Food and Agriculture Organization of the Unite...     ECCS   \n",
       "223  Food and Agriculture Organization of the Unite...     ECCS   \n",
       "224  Food and Agriculture Organization of the Unite...     ECCS   \n",
       "\n",
       "                       CTS_Name  \\\n",
       "0    Surface Temperature Change   \n",
       "1    Surface Temperature Change   \n",
       "2    Surface Temperature Change   \n",
       "3    Surface Temperature Change   \n",
       "4    Surface Temperature Change   \n",
       "..                          ...   \n",
       "220  Surface Temperature Change   \n",
       "221  Surface Temperature Change   \n",
       "222  Surface Temperature Change   \n",
       "223  Surface Temperature Change   \n",
       "224  Surface Temperature Change   \n",
       "\n",
       "                                   CTS_Full_Descriptor  ...  F2013  F2014  \\\n",
       "0    Environment, Climate Change, Climate Indicator...  ...  1.281  0.456   \n",
       "1    Environment, Climate Change, Climate Indicator...  ...  1.333  1.198   \n",
       "2    Environment, Climate Change, Climate Indicator...  ...  1.192  1.690   \n",
       "3    Environment, Climate Change, Climate Indicator...  ...  1.257  1.170   \n",
       "4    Environment, Climate Change, Climate Indicator...  ...  0.831  1.946   \n",
       "..                                                 ...  ...    ...    ...   \n",
       "220  Environment, Climate Change, Climate Indicator...  ...  1.423  1.401   \n",
       "221  Environment, Climate Change, Climate Indicator...  ...  1.016  1.053   \n",
       "222  Environment, Climate Change, Climate Indicator...  ...  0.000  0.000   \n",
       "223  Environment, Climate Change, Climate Indicator...  ...  0.790  0.917   \n",
       "224  Environment, Climate Change, Climate Indicator...  ...  0.118  0.025   \n",
       "\n",
       "     F2015  F2016  F2017  F2018  F2019  F2020  F2021  F2022  \n",
       "0    1.093  1.555  1.540  1.544  0.910  0.498  1.327  2.012  \n",
       "1    1.569  1.464  1.121  2.028  1.675  1.498  1.536  1.518  \n",
       "2    1.121  1.757  1.512  1.210  1.115  1.926  2.330  1.688  \n",
       "3    1.009  1.539  1.435  1.189  1.539  1.430  1.268  1.256  \n",
       "4    1.690  1.990  1.925  1.919  1.964  2.562  1.533  3.243  \n",
       "..     ...    ...    ...    ...    ...    ...    ...    ...  \n",
       "220  1.510  1.732  2.204  0.942  1.477  2.069  1.593  1.970  \n",
       "221  1.412  1.660  1.429  1.290  1.444  1.711  1.447  1.394  \n",
       "222  0.000  0.000  0.000  0.000  0.000  0.000  0.000  0.000  \n",
       "223  1.450  1.401  0.105  0.648  0.855  0.891  0.822  0.686  \n",
       "224  0.970  1.270  0.088  0.453  0.925  0.389 -0.125 -0.490  \n",
       "\n",
       "[225 rows x 72 columns]"
      ]
     },
     "execution_count": 12,
     "metadata": {},
     "output_type": "execute_result"
    }
   ],
   "source": [
    "#Read csv file\n",
    "temp_df = pd.read_csv('./Resources/Annual_Surface_Temperature_Change.csv')\n",
    "\n",
    "# Replace NaN values with Zeros\n",
    "temp_df = temp_df.fillna(0)\n",
    "\n",
    "# Alternative with dropping of NaN values so they don't skew averages\n",
    "temp_na = temp_df.dropna()\n",
    "\n",
    "temp_df"
   ]
  },
  {
   "cell_type": "code",
   "execution_count": 19,
   "metadata": {},
   "outputs": [
    {
     "data": {
      "text/html": [
       "<div>\n",
       "<style scoped>\n",
       "    .dataframe tbody tr th:only-of-type {\n",
       "        vertical-align: middle;\n",
       "    }\n",
       "\n",
       "    .dataframe tbody tr th {\n",
       "        vertical-align: top;\n",
       "    }\n",
       "\n",
       "    .dataframe thead th {\n",
       "        text-align: right;\n",
       "    }\n",
       "</style>\n",
       "<table border=\"1\" class=\"dataframe\">\n",
       "  <thead>\n",
       "    <tr style=\"text-align: right;\">\n",
       "      <th></th>\n",
       "      <th>Continent</th>\n",
       "      <th>Country</th>\n",
       "      <th>F1961</th>\n",
       "      <th>F1962</th>\n",
       "      <th>F1963</th>\n",
       "      <th>F1964</th>\n",
       "      <th>F1965</th>\n",
       "      <th>F1966</th>\n",
       "      <th>F1967</th>\n",
       "      <th>F1968</th>\n",
       "      <th>...</th>\n",
       "      <th>F2013</th>\n",
       "      <th>F2014</th>\n",
       "      <th>F2015</th>\n",
       "      <th>F2016</th>\n",
       "      <th>F2017</th>\n",
       "      <th>F2018</th>\n",
       "      <th>F2019</th>\n",
       "      <th>F2020</th>\n",
       "      <th>F2021</th>\n",
       "      <th>F2022</th>\n",
       "    </tr>\n",
       "  </thead>\n",
       "  <tbody>\n",
       "    <tr>\n",
       "      <th>0</th>\n",
       "      <td>Asia</td>\n",
       "      <td>Afghanistan, Islamic Rep. of</td>\n",
       "      <td>-0.113</td>\n",
       "      <td>-0.164</td>\n",
       "      <td>0.847</td>\n",
       "      <td>-0.764</td>\n",
       "      <td>-0.244</td>\n",
       "      <td>0.226</td>\n",
       "      <td>-0.371</td>\n",
       "      <td>-0.423</td>\n",
       "      <td>...</td>\n",
       "      <td>1.281</td>\n",
       "      <td>0.456</td>\n",
       "      <td>1.093</td>\n",
       "      <td>1.555</td>\n",
       "      <td>1.540</td>\n",
       "      <td>1.544</td>\n",
       "      <td>0.910</td>\n",
       "      <td>0.498</td>\n",
       "      <td>1.327</td>\n",
       "      <td>2.012</td>\n",
       "    </tr>\n",
       "    <tr>\n",
       "      <th>1</th>\n",
       "      <td>Europe</td>\n",
       "      <td>Albania</td>\n",
       "      <td>0.627</td>\n",
       "      <td>0.326</td>\n",
       "      <td>0.075</td>\n",
       "      <td>-0.166</td>\n",
       "      <td>-0.388</td>\n",
       "      <td>0.559</td>\n",
       "      <td>-0.074</td>\n",
       "      <td>0.081</td>\n",
       "      <td>...</td>\n",
       "      <td>1.333</td>\n",
       "      <td>1.198</td>\n",
       "      <td>1.569</td>\n",
       "      <td>1.464</td>\n",
       "      <td>1.121</td>\n",
       "      <td>2.028</td>\n",
       "      <td>1.675</td>\n",
       "      <td>1.498</td>\n",
       "      <td>1.536</td>\n",
       "      <td>1.518</td>\n",
       "    </tr>\n",
       "    <tr>\n",
       "      <th>2</th>\n",
       "      <td>Africa</td>\n",
       "      <td>Algeria</td>\n",
       "      <td>0.164</td>\n",
       "      <td>0.114</td>\n",
       "      <td>0.077</td>\n",
       "      <td>0.250</td>\n",
       "      <td>-0.100</td>\n",
       "      <td>0.433</td>\n",
       "      <td>-0.026</td>\n",
       "      <td>-0.067</td>\n",
       "      <td>...</td>\n",
       "      <td>1.192</td>\n",
       "      <td>1.690</td>\n",
       "      <td>1.121</td>\n",
       "      <td>1.757</td>\n",
       "      <td>1.512</td>\n",
       "      <td>1.210</td>\n",
       "      <td>1.115</td>\n",
       "      <td>1.926</td>\n",
       "      <td>2.330</td>\n",
       "      <td>1.688</td>\n",
       "    </tr>\n",
       "    <tr>\n",
       "      <th>3</th>\n",
       "      <td>Oceania</td>\n",
       "      <td>American Samoa</td>\n",
       "      <td>0.079</td>\n",
       "      <td>-0.042</td>\n",
       "      <td>0.169</td>\n",
       "      <td>-0.140</td>\n",
       "      <td>-0.562</td>\n",
       "      <td>0.181</td>\n",
       "      <td>-0.368</td>\n",
       "      <td>-0.187</td>\n",
       "      <td>...</td>\n",
       "      <td>1.257</td>\n",
       "      <td>1.170</td>\n",
       "      <td>1.009</td>\n",
       "      <td>1.539</td>\n",
       "      <td>1.435</td>\n",
       "      <td>1.189</td>\n",
       "      <td>1.539</td>\n",
       "      <td>1.430</td>\n",
       "      <td>1.268</td>\n",
       "      <td>1.256</td>\n",
       "    </tr>\n",
       "    <tr>\n",
       "      <th>4</th>\n",
       "      <td>Europe</td>\n",
       "      <td>Andorra, Principality of</td>\n",
       "      <td>0.736</td>\n",
       "      <td>0.112</td>\n",
       "      <td>-0.752</td>\n",
       "      <td>0.308</td>\n",
       "      <td>-0.490</td>\n",
       "      <td>0.415</td>\n",
       "      <td>0.637</td>\n",
       "      <td>0.018</td>\n",
       "      <td>...</td>\n",
       "      <td>0.831</td>\n",
       "      <td>1.946</td>\n",
       "      <td>1.690</td>\n",
       "      <td>1.990</td>\n",
       "      <td>1.925</td>\n",
       "      <td>1.919</td>\n",
       "      <td>1.964</td>\n",
       "      <td>2.562</td>\n",
       "      <td>1.533</td>\n",
       "      <td>3.243</td>\n",
       "    </tr>\n",
       "    <tr>\n",
       "      <th>...</th>\n",
       "      <td>...</td>\n",
       "      <td>...</td>\n",
       "      <td>...</td>\n",
       "      <td>...</td>\n",
       "      <td>...</td>\n",
       "      <td>...</td>\n",
       "      <td>...</td>\n",
       "      <td>...</td>\n",
       "      <td>...</td>\n",
       "      <td>...</td>\n",
       "      <td>...</td>\n",
       "      <td>...</td>\n",
       "      <td>...</td>\n",
       "      <td>...</td>\n",
       "      <td>...</td>\n",
       "      <td>...</td>\n",
       "      <td>...</td>\n",
       "      <td>...</td>\n",
       "      <td>...</td>\n",
       "      <td>...</td>\n",
       "      <td>...</td>\n",
       "    </tr>\n",
       "    <tr>\n",
       "      <th>220</th>\n",
       "      <td>Africa</td>\n",
       "      <td>Western Sahara</td>\n",
       "      <td>0.632</td>\n",
       "      <td>0.576</td>\n",
       "      <td>0.333</td>\n",
       "      <td>0.819</td>\n",
       "      <td>-0.337</td>\n",
       "      <td>0.284</td>\n",
       "      <td>-0.026</td>\n",
       "      <td>-0.368</td>\n",
       "      <td>...</td>\n",
       "      <td>1.423</td>\n",
       "      <td>1.401</td>\n",
       "      <td>1.510</td>\n",
       "      <td>1.732</td>\n",
       "      <td>2.204</td>\n",
       "      <td>0.942</td>\n",
       "      <td>1.477</td>\n",
       "      <td>2.069</td>\n",
       "      <td>1.593</td>\n",
       "      <td>1.970</td>\n",
       "    </tr>\n",
       "    <tr>\n",
       "      <th>221</th>\n",
       "      <td>World</td>\n",
       "      <td>World</td>\n",
       "      <td>0.211</td>\n",
       "      <td>0.038</td>\n",
       "      <td>0.168</td>\n",
       "      <td>-0.246</td>\n",
       "      <td>-0.223</td>\n",
       "      <td>0.201</td>\n",
       "      <td>-0.117</td>\n",
       "      <td>-0.126</td>\n",
       "      <td>...</td>\n",
       "      <td>1.016</td>\n",
       "      <td>1.053</td>\n",
       "      <td>1.412</td>\n",
       "      <td>1.660</td>\n",
       "      <td>1.429</td>\n",
       "      <td>1.290</td>\n",
       "      <td>1.444</td>\n",
       "      <td>1.711</td>\n",
       "      <td>1.447</td>\n",
       "      <td>1.394</td>\n",
       "    </tr>\n",
       "    <tr>\n",
       "      <th>222</th>\n",
       "      <td>Asia</td>\n",
       "      <td>Yemen, Rep. of</td>\n",
       "      <td>0.029</td>\n",
       "      <td>-0.009</td>\n",
       "      <td>0.169</td>\n",
       "      <td>-0.251</td>\n",
       "      <td>-0.623</td>\n",
       "      <td>0.089</td>\n",
       "      <td>-0.257</td>\n",
       "      <td>-0.252</td>\n",
       "      <td>...</td>\n",
       "      <td>0.000</td>\n",
       "      <td>0.000</td>\n",
       "      <td>0.000</td>\n",
       "      <td>0.000</td>\n",
       "      <td>0.000</td>\n",
       "      <td>0.000</td>\n",
       "      <td>0.000</td>\n",
       "      <td>0.000</td>\n",
       "      <td>0.000</td>\n",
       "      <td>0.000</td>\n",
       "    </tr>\n",
       "    <tr>\n",
       "      <th>223</th>\n",
       "      <td>Africa</td>\n",
       "      <td>Zambia</td>\n",
       "      <td>0.228</td>\n",
       "      <td>-0.168</td>\n",
       "      <td>-0.390</td>\n",
       "      <td>-0.279</td>\n",
       "      <td>-0.418</td>\n",
       "      <td>0.300</td>\n",
       "      <td>-0.014</td>\n",
       "      <td>-0.130</td>\n",
       "      <td>...</td>\n",
       "      <td>0.790</td>\n",
       "      <td>0.917</td>\n",
       "      <td>1.450</td>\n",
       "      <td>1.401</td>\n",
       "      <td>0.105</td>\n",
       "      <td>0.648</td>\n",
       "      <td>0.855</td>\n",
       "      <td>0.891</td>\n",
       "      <td>0.822</td>\n",
       "      <td>0.686</td>\n",
       "    </tr>\n",
       "    <tr>\n",
       "      <th>224</th>\n",
       "      <td>Africa</td>\n",
       "      <td>Zimbabwe</td>\n",
       "      <td>0.267</td>\n",
       "      <td>0.237</td>\n",
       "      <td>-0.458</td>\n",
       "      <td>-0.097</td>\n",
       "      <td>-0.480</td>\n",
       "      <td>0.215</td>\n",
       "      <td>-0.043</td>\n",
       "      <td>0.093</td>\n",
       "      <td>...</td>\n",
       "      <td>0.118</td>\n",
       "      <td>0.025</td>\n",
       "      <td>0.970</td>\n",
       "      <td>1.270</td>\n",
       "      <td>0.088</td>\n",
       "      <td>0.453</td>\n",
       "      <td>0.925</td>\n",
       "      <td>0.389</td>\n",
       "      <td>-0.125</td>\n",
       "      <td>-0.490</td>\n",
       "    </tr>\n",
       "  </tbody>\n",
       "</table>\n",
       "<p>225 rows × 64 columns</p>\n",
       "</div>"
      ],
      "text/plain": [
       "    Continent                       Country  F1961  F1962  F1963  F1964  \\\n",
       "0        Asia  Afghanistan, Islamic Rep. of -0.113 -0.164  0.847 -0.764   \n",
       "1      Europe                       Albania  0.627  0.326  0.075 -0.166   \n",
       "2      Africa                       Algeria  0.164  0.114  0.077  0.250   \n",
       "3     Oceania                American Samoa  0.079 -0.042  0.169 -0.140   \n",
       "4      Europe      Andorra, Principality of  0.736  0.112 -0.752  0.308   \n",
       "..        ...                           ...    ...    ...    ...    ...   \n",
       "220    Africa                Western Sahara  0.632  0.576  0.333  0.819   \n",
       "221     World                         World  0.211  0.038  0.168 -0.246   \n",
       "222      Asia                Yemen, Rep. of  0.029 -0.009  0.169 -0.251   \n",
       "223    Africa                        Zambia  0.228 -0.168 -0.390 -0.279   \n",
       "224    Africa                      Zimbabwe  0.267  0.237 -0.458 -0.097   \n",
       "\n",
       "     F1965  F1966  F1967  F1968  ...  F2013  F2014  F2015  F2016  F2017  \\\n",
       "0   -0.244  0.226 -0.371 -0.423  ...  1.281  0.456  1.093  1.555  1.540   \n",
       "1   -0.388  0.559 -0.074  0.081  ...  1.333  1.198  1.569  1.464  1.121   \n",
       "2   -0.100  0.433 -0.026 -0.067  ...  1.192  1.690  1.121  1.757  1.512   \n",
       "3   -0.562  0.181 -0.368 -0.187  ...  1.257  1.170  1.009  1.539  1.435   \n",
       "4   -0.490  0.415  0.637  0.018  ...  0.831  1.946  1.690  1.990  1.925   \n",
       "..     ...    ...    ...    ...  ...    ...    ...    ...    ...    ...   \n",
       "220 -0.337  0.284 -0.026 -0.368  ...  1.423  1.401  1.510  1.732  2.204   \n",
       "221 -0.223  0.201 -0.117 -0.126  ...  1.016  1.053  1.412  1.660  1.429   \n",
       "222 -0.623  0.089 -0.257 -0.252  ...  0.000  0.000  0.000  0.000  0.000   \n",
       "223 -0.418  0.300 -0.014 -0.130  ...  0.790  0.917  1.450  1.401  0.105   \n",
       "224 -0.480  0.215 -0.043  0.093  ...  0.118  0.025  0.970  1.270  0.088   \n",
       "\n",
       "     F2018  F2019  F2020  F2021  F2022  \n",
       "0    1.544  0.910  0.498  1.327  2.012  \n",
       "1    2.028  1.675  1.498  1.536  1.518  \n",
       "2    1.210  1.115  1.926  2.330  1.688  \n",
       "3    1.189  1.539  1.430  1.268  1.256  \n",
       "4    1.919  1.964  2.562  1.533  3.243  \n",
       "..     ...    ...    ...    ...    ...  \n",
       "220  0.942  1.477  2.069  1.593  1.970  \n",
       "221  1.290  1.444  1.711  1.447  1.394  \n",
       "222  0.000  0.000  0.000  0.000  0.000  \n",
       "223  0.648  0.855  0.891  0.822  0.686  \n",
       "224  0.453  0.925  0.389 -0.125 -0.490  \n",
       "\n",
       "[225 rows x 64 columns]"
      ]
     },
     "execution_count": 19,
     "metadata": {},
     "output_type": "execute_result"
    }
   ],
   "source": [
    "# Select columns for graphs\n",
    "temps_df = pd.concat([temp_df['Country'], temp_df.loc[:, 'F1961':'F2022']], axis=1)\n",
    "temps_na =pd.concat([temp_na['Country'], temp_na.loc[:, 'F1961':'F2022']], axis=1)\n",
    "# map contients\n",
    "continent_mapping = {\n",
    "    'Afghanistan, Islamic Rep. of': 'Asia',\n",
    "    'Albania': 'Europe',\n",
    "    'Algeria': 'Africa',\n",
    "    'American Samoa': 'Oceania',\n",
    "    'Andorra, Principality of': 'Europe',\n",
    "    'Angola': 'Africa',\n",
    "    'Anguilla': 'North America',\n",
    "    'Antigua and Barbuda': 'North America',\n",
    "    'Argentina': 'South America',\n",
    "    'Armenia, Rep. of': 'Asia',\n",
    "    'Aruba, Kingdom of the Netherlands': 'North America',\n",
    "    'Australia': 'Oceania',\n",
    "    'Austria': 'Europe',\n",
    "    'Azerbaijan, Rep. of': 'Asia',\n",
    "    'Bahamas, The': 'North America',\n",
    "    'Bahrain, Kingdom of': 'Asia',\n",
    "    'Bangladesh': 'Asia',\n",
    "    'Barbados': 'North America',\n",
    "    'Belarus, Rep. of': 'Europe',\n",
    "    'Belgium': 'Europe',\n",
    "    'Belize': 'North America',\n",
    "    'Benin': 'Africa',\n",
    "    'Bhutan': 'Asia',\n",
    "    'Bolivia': 'South America',\n",
    "    'Bosnia and Herzegovina': 'Europe',\n",
    "    'Botswana': 'Africa',\n",
    "    'Brazil': 'South America',\n",
    "    'British Virgin Islands': 'North America',\n",
    "    'Brunei Darussalam': 'Asia',\n",
    "    'Bulgaria': 'Europe',\n",
    "    'Burkina Faso': 'Africa',\n",
    "    'Burundi': 'Africa',\n",
    "    'Cabo Verde': 'Africa',\n",
    "    'Cambodia': 'Asia',\n",
    "    'Cameroon': 'Africa',\n",
    "    'Canada': 'North America',\n",
    "    'Cayman Islands': 'North America',\n",
    "    'Central African Rep.': 'Africa',\n",
    "    'Chad': 'Africa',\n",
    "    'Chile': 'South America',\n",
    "    'China, P.R.: Hong Kong': 'Asia',\n",
    "    'China, P.R.: Macao': 'Asia',\n",
    "    'China, P.R.: Mainland': 'Asia',\n",
    "    'Colombia': 'South America',\n",
    "    'Comoros, Union of the': 'Africa',\n",
    "    'Congo, Dem. Rep. of the': 'Africa',\n",
    "    'Congo, Rep. of': 'Africa',\n",
    "    'Cook Islands': 'Oceania',\n",
    "    'Costa Rica': 'North America',\n",
    "    'Croatia, Rep. of': 'Europe',\n",
    "    'Cuba': 'North America',\n",
    "    'Cyprus': 'Asia',\n",
    "    'Czech Rep.': 'Europe',\n",
    "    'Denmark': 'Europe',\n",
    "    'Djibouti': 'Africa',\n",
    "    'Dominica': 'North America',\n",
    "    'Dominican Rep.': 'North America',\n",
    "    'Ecuador': 'South America',\n",
    "    'Egypt, Arab Rep. of': 'Africa',\n",
    "    'El Salvador': 'North America',\n",
    "    'Equatorial Guinea, Rep. of': 'Africa',\n",
    "    'Eritrea, The State of': 'Africa',\n",
    "    'Estonia, Rep. of': 'Europe',\n",
    "    'Eswatini, Kingdom of': 'Africa',\n",
    "    'Ethiopia, The Federal Dem. Rep. of': 'Africa',\n",
    "    'Falkland Islands (Malvinas)': 'South America',\n",
    "    'Faroe Islands': 'Europe',\n",
    "    'Fiji, Rep. of': 'Oceania',\n",
    "    'Finland': 'Europe',\n",
    "    'France': 'Europe',\n",
    "    'French Polynesia': 'Oceania',\n",
    "    'Gabon': 'Africa',\n",
    "    'Gambia, The': 'Africa',\n",
    "    'Georgia': 'Asia',\n",
    "    'Germany': 'Europe',\n",
    "    'Ghana': 'Africa',\n",
    "    'Gibraltar': 'Europe',\n",
    "    'Greece': 'Europe',\n",
    "    'Greenland': 'North America',\n",
    "    'Grenada': 'North America',\n",
    "    'Guadeloupe': 'North America',\n",
    "    'Guatemala': 'North America',\n",
    "    'Guinea': 'Africa',\n",
    "    'Guinea-Bissau': 'Africa',\n",
    "    'Guyana': 'South America',\n",
    "    'Haiti': 'North America',\n",
    "    'Holy See': 'Europe',\n",
    "    'Honduras': 'North America',\n",
    "    'Hungary': 'Europe',\n",
    "    'Iceland': 'Europe',\n",
    "    'India': 'Asia',\n",
    "    'Indonesia': 'Asia',\n",
    "    'Iran, Islamic Rep. of': 'Asia',\n",
    "    'Iraq': 'Asia',\n",
    "    'Ireland': 'Europe',\n",
    "    'Isle of Man': 'Europe',\n",
    "    'Israel': 'Asia',\n",
    "    'Italy': 'Europe',\n",
    "    'Jamaica': 'North America',\n",
    "    'Japan': 'Asia',\n",
    "    'Jordan': 'Asia',\n",
    "    'Kazakhstan, Rep. of': 'Asia',\n",
    "    'Kenya': 'Africa',\n",
    "    'Kiribati': 'Oceania',\n",
    "    'Korea, Dem. People\\'s Rep. of': 'Asia',\n",
    "    'Korea, Rep. of': 'Asia',\n",
    "    'Kuwait': 'Asia',\n",
    "    'Kyrgyz Rep.': 'Asia',\n",
    "    'Lao People\\'s Dem. Rep.': 'Asia',\n",
    "    'Latvia': 'Europe',\n",
    "    'Lebanon': 'Asia',\n",
    "    'Lesotho, Kingdom of': 'Africa',\n",
    "    'Liberia': 'Africa',\n",
    "    'Libya': 'Africa',\n",
    "    'Liechtenstein': 'Europe',\n",
    "    'Lithuania': 'Europe',\n",
    "    'Luxembourg': 'Europe',\n",
    "    'Madagascar, Rep. of': 'Africa',\n",
    "    'Malawi': 'Africa',\n",
    "    'Malaysia': 'Asia',\n",
    "    'Maldives': 'Asia',\n",
    "    'Mali': 'Africa',\n",
    "    'Malta': 'Europe',\n",
    "    'Marshall Islands, Rep. of the': 'Oceania',\n",
    "    'Martinique': 'North America',\n",
    "    'Mauritania, Islamic Rep. of': 'Africa',\n",
    "    'Mauritius': 'Africa',\n",
    "    'Mayotte': 'Africa',\n",
    "    'Mexico': 'North America',\n",
    "    'Micronesia, Federated States of': 'Oceania',\n",
    "    'Moldova, Rep. of': 'Europe',\n",
    "    'Monaco': 'Europe',\n",
    "    'Mongolia': 'Asia',\n",
    "    'Montenegro': 'Europe',\n",
    "    'Montserrat': 'North America',\n",
    "    'Morocco': 'Africa',\n",
    "    'Mozambique, Rep. of': 'Africa',\n",
    "    'Myanmar': 'Asia',\n",
    "    'Namibia': 'Africa',\n",
    "    'Nauru, Rep. of': 'Oceania',\n",
    "    'Nepal': 'Asia',\n",
    "    'Netherlands, The': 'Europe',\n",
    "    'New Caledonia': 'Oceania',\n",
    "    'New Zealand': 'Oceania',\n",
    "    'Nicaragua': 'North America',\n",
    "    'Niger': 'Africa',\n",
    "    'Nigeria': 'Africa',\n",
    "    'Niue': 'Oceania',\n",
    "    'Norfolk Island': 'Oceania',\n",
    "    'North Macedonia, Republic of': 'Europe',\n",
    "    'Norway': 'Europe',\n",
    "    'Oman': 'Asia',\n",
    "    'Pakistan': 'Asia',\n",
    "    'Palau, Rep. of': 'Oceania',\n",
    "    'Panama': 'North America',\n",
    "    'Papua New Guinea': 'Oceania',\n",
    "    'Paraguay': 'South America',\n",
    "    'Peru': 'South America',\n",
    "    'Philippines': 'Asia',\n",
    "    'Pitcairn Islands': 'Oceania',\n",
    "    'Poland, Rep. of': 'Europe',\n",
    "    'Portugal': 'Europe',\n",
    "    'Puerto Rico': 'North America',\n",
    "    'Qatar': 'Asia',\n",
    "    'Romania': 'Europe',\n",
    "    'Russian Federation': 'Europe',\n",
    "    'Rwanda': 'Africa',\n",
    "    'Saint Helena': 'Africa',\n",
    "    'Saint Pierre and Miquelon': 'North America',\n",
    "    'Samoa': 'Oceania',\n",
    "    'San Marino, Rep. of': 'Europe',\n",
    "    'São Tomé and Príncipe, Dem. Rep. of': 'Africa',\n",
    "    'Saudi Arabia': 'Asia',\n",
    "    'Senegal': 'Africa',\n",
    "    'Serbia, Rep. of': 'Europe',\n",
    "    'Seychelles': 'Africa',\n",
    "    'Sierra Leone': 'Africa',\n",
    "    'Singapore': 'Asia',\n",
    "    'Slovak Rep.': 'Europe',\n",
    "    'Slovenia, Rep. of': 'Europe',\n",
    "    'Solomon Islands': 'Oceania',\n",
    "    'Somalia': 'Africa',\n",
    "    'South Africa': 'Africa',\n",
    "    'South Sudan, Rep. of': 'Africa',\n",
    "    'Spain': 'Europe',\n",
    "    'Sri Lanka': 'Asia',\n",
    "    'St. Kitts and Nevis': 'North America',\n",
    "    'St. Lucia': 'North America',\n",
    "    'St. Vincent and the Grenadines': 'North America',\n",
    "    'Sudan': 'Africa',\n",
    "    'Suriname': 'South America',\n",
    "    'Sweden': 'Europe',\n",
    "    'Switzerland': 'Europe',\n",
    "    'Syrian Arab Rep.': 'Asia',\n",
    "    'Taiwan Province of China': 'Asia',\n",
    "    'Tajikistan, Rep. of': 'Asia',\n",
    "    'Tanzania, United Rep. of': 'Africa',\n",
    "    'Thailand': 'Asia',\n",
    "    'Timor-Leste, Dem. Rep. of': 'Asia',\n",
    "    'Togo': 'Africa',\n",
    "    'Tokelau': 'Oceania',\n",
    "    'Tonga': 'Oceania',\n",
    "    'Trinidad and Tobago': 'North America',\n",
    "    'Tunisia': 'Africa',\n",
    "    'Turkey': 'Asia',\n",
    "    'Turkmenistan': 'Asia',\n",
    "    'Turks and Caicos Islands': 'North America',\n",
    "    'Tuvalu': 'Oceania',\n",
    "    'Uganda': 'Africa',\n",
    "    'Ukraine': 'Europe',\n",
    "    'United Arab Emirates': 'Asia',\n",
    "    'United Kingdom': 'Europe',\n",
    "    'United States': 'North America',\n",
    "    'United States Virgin Islands': 'North America',\n",
    "    'Uruguay': 'South America',\n",
    "    'Uzbekistan, Rep. of': 'Asia',\n",
    "    'Vanuatu': 'Oceania',\n",
    "    'Venezuela, Rep. Bolivariana de': 'South America',\n",
    "    'Vietnam': 'Asia',\n",
    "    'Wallis and Futuna Islands': 'Oceania',\n",
    "    'West Bank and Gaza': 'Asia',\n",
    "    'Western Sahara': 'Africa',\n",
    "    'Yemen, Rep. of': 'Asia',\n",
    "    'Zambia': 'Africa',\n",
    "    'Zimbabwe': 'Africa',\n",
    "    'World':'World'\n",
    "}\n",
    "\n",
    "\n",
    "# Create a new column 'Continent' in the DataFrame\n",
    "temps_df['Continent'] = [continent_mapping.get(country, '') for country in temps_df['Country']]\n",
    "temps_na['Continent'] = [continent_mapping.get(country, '') for country in temps_na['Country']]\n",
    "# Reorder the columns\n",
    "cols = temps_df.columns.tolist()\n",
    "cols = temps_na.columns.tolist()\n",
    "cols = ['Continent', 'Country'] + cols[1:-1]  # Move 'Continent' to the left of 'Country'\n",
    "temps_df = temps_df[cols]\n",
    "temps_na = temps_na[cols]\n",
    "\n",
    "\n",
    "# Assign Europe to North Macedonia as its not populating like the other countries\n",
    "temps_df.loc[149, 'Continent'] = 'Europe'\n",
    "temps_na.loc[149, 'Continent'] = 'Europe'\n",
    "temps_na"
   ]
  },
  {
   "cell_type": "code",
   "execution_count": 20,
   "metadata": {},
   "outputs": [],
   "source": [
    "# Iterate over each row\n",
    "for _, row in temps_df.iterrows():\n",
    "    country = row['Country']\n",
    "    x_values = list(row.index)[2:]  # Select all columns except the 'Country' & 'Continent' columns\n",
    "    y_values = list(row.values)[1:]  # Select all values except the 'Country' values\n",
    "\n",
    "    # Create trace for the bar chart\n",
    "    trace = go.Bar(\n",
    "        x=x_values,\n",
    "        y=y_values,\n",
    "        name=country\n",
    "    )\n",
    "\n",
    "    # Create data list with the trace\n",
    "    data = [trace]\n",
    "\n",
    "    # Create layout\n",
    "    layout = go.Layout(\n",
    "        title=f'Bar Chart for {country}',\n",
    "        xaxis=dict(title='Year'),\n",
    "        yaxis=dict(title='Temperature change year on year in Celsius')\n",
    "    )\n",
    "\n",
    "    # Create figure\n",
    "    fig = go.Figure(data=data, layout=layout)\n",
    "\n",
    "    # Display the figure\n",
    "    # fig.show()"
   ]
  },
  {
   "cell_type": "code",
   "execution_count": 21,
   "metadata": {},
   "outputs": [
    {
     "data": {
      "text/html": [
       "<div>\n",
       "<style scoped>\n",
       "    .dataframe tbody tr th:only-of-type {\n",
       "        vertical-align: middle;\n",
       "    }\n",
       "\n",
       "    .dataframe tbody tr th {\n",
       "        vertical-align: top;\n",
       "    }\n",
       "\n",
       "    .dataframe thead th {\n",
       "        text-align: right;\n",
       "    }\n",
       "</style>\n",
       "<table border=\"1\" class=\"dataframe\">\n",
       "  <thead>\n",
       "    <tr style=\"text-align: right;\">\n",
       "      <th></th>\n",
       "      <th>F1961</th>\n",
       "      <th>F1962</th>\n",
       "      <th>F1963</th>\n",
       "      <th>F1964</th>\n",
       "      <th>F1965</th>\n",
       "      <th>F1966</th>\n",
       "      <th>F1967</th>\n",
       "      <th>F1968</th>\n",
       "      <th>F1969</th>\n",
       "      <th>F1970</th>\n",
       "      <th>...</th>\n",
       "      <th>F2013</th>\n",
       "      <th>F2014</th>\n",
       "      <th>F2015</th>\n",
       "      <th>F2016</th>\n",
       "      <th>F2017</th>\n",
       "      <th>F2018</th>\n",
       "      <th>F2019</th>\n",
       "      <th>F2020</th>\n",
       "      <th>F2021</th>\n",
       "      <th>F2022</th>\n",
       "    </tr>\n",
       "    <tr>\n",
       "      <th>Continent</th>\n",
       "      <th></th>\n",
       "      <th></th>\n",
       "      <th></th>\n",
       "      <th></th>\n",
       "      <th></th>\n",
       "      <th></th>\n",
       "      <th></th>\n",
       "      <th></th>\n",
       "      <th></th>\n",
       "      <th></th>\n",
       "      <th></th>\n",
       "      <th></th>\n",
       "      <th></th>\n",
       "      <th></th>\n",
       "      <th></th>\n",
       "      <th></th>\n",
       "      <th></th>\n",
       "      <th></th>\n",
       "      <th></th>\n",
       "      <th></th>\n",
       "      <th></th>\n",
       "    </tr>\n",
       "  </thead>\n",
       "  <tbody>\n",
       "    <tr>\n",
       "      <th>Africa</th>\n",
       "      <td>0.052411</td>\n",
       "      <td>-0.027321</td>\n",
       "      <td>0.027161</td>\n",
       "      <td>-0.110768</td>\n",
       "      <td>-0.225304</td>\n",
       "      <td>0.108036</td>\n",
       "      <td>-0.139911</td>\n",
       "      <td>-0.212714</td>\n",
       "      <td>0.296964</td>\n",
       "      <td>0.233268</td>\n",
       "      <td>...</td>\n",
       "      <td>0.909000</td>\n",
       "      <td>0.932714</td>\n",
       "      <td>1.153857</td>\n",
       "      <td>1.302214</td>\n",
       "      <td>1.214232</td>\n",
       "      <td>1.048071</td>\n",
       "      <td>1.308964</td>\n",
       "      <td>1.169339</td>\n",
       "      <td>1.270232</td>\n",
       "      <td>1.024661</td>\n",
       "    </tr>\n",
       "    <tr>\n",
       "      <th>Asia</th>\n",
       "      <td>-0.021260</td>\n",
       "      <td>0.118440</td>\n",
       "      <td>0.154720</td>\n",
       "      <td>-0.162820</td>\n",
       "      <td>-0.098740</td>\n",
       "      <td>0.310220</td>\n",
       "      <td>-0.252340</td>\n",
       "      <td>-0.271880</td>\n",
       "      <td>0.135440</td>\n",
       "      <td>0.126960</td>\n",
       "      <td>...</td>\n",
       "      <td>1.011620</td>\n",
       "      <td>0.887620</td>\n",
       "      <td>1.300060</td>\n",
       "      <td>1.482420</td>\n",
       "      <td>1.319300</td>\n",
       "      <td>1.440660</td>\n",
       "      <td>1.473240</td>\n",
       "      <td>1.491600</td>\n",
       "      <td>1.593760</td>\n",
       "      <td>1.532640</td>\n",
       "    </tr>\n",
       "    <tr>\n",
       "      <th>Europe</th>\n",
       "      <td>0.555894</td>\n",
       "      <td>-0.132830</td>\n",
       "      <td>-0.310383</td>\n",
       "      <td>0.025106</td>\n",
       "      <td>-0.318191</td>\n",
       "      <td>0.070426</td>\n",
       "      <td>0.225660</td>\n",
       "      <td>-0.032043</td>\n",
       "      <td>-0.146830</td>\n",
       "      <td>-0.203596</td>\n",
       "      <td>...</td>\n",
       "      <td>0.973596</td>\n",
       "      <td>1.931085</td>\n",
       "      <td>1.676085</td>\n",
       "      <td>1.789362</td>\n",
       "      <td>1.537085</td>\n",
       "      <td>1.960085</td>\n",
       "      <td>1.923787</td>\n",
       "      <td>2.248553</td>\n",
       "      <td>1.474319</td>\n",
       "      <td>2.135723</td>\n",
       "    </tr>\n",
       "    <tr>\n",
       "      <th>North America</th>\n",
       "      <td>0.013429</td>\n",
       "      <td>-0.012200</td>\n",
       "      <td>0.101343</td>\n",
       "      <td>0.035543</td>\n",
       "      <td>-0.205114</td>\n",
       "      <td>-0.019514</td>\n",
       "      <td>-0.218429</td>\n",
       "      <td>-0.186486</td>\n",
       "      <td>0.263343</td>\n",
       "      <td>0.039571</td>\n",
       "      <td>...</td>\n",
       "      <td>0.856029</td>\n",
       "      <td>0.794600</td>\n",
       "      <td>1.045314</td>\n",
       "      <td>1.150114</td>\n",
       "      <td>0.993114</td>\n",
       "      <td>0.753457</td>\n",
       "      <td>1.074943</td>\n",
       "      <td>1.285457</td>\n",
       "      <td>1.017800</td>\n",
       "      <td>0.878600</td>\n",
       "    </tr>\n",
       "    <tr>\n",
       "      <th>Oceania</th>\n",
       "      <td>0.047739</td>\n",
       "      <td>0.044870</td>\n",
       "      <td>-0.041739</td>\n",
       "      <td>0.036391</td>\n",
       "      <td>-0.308391</td>\n",
       "      <td>-0.154043</td>\n",
       "      <td>-0.131087</td>\n",
       "      <td>-0.158348</td>\n",
       "      <td>0.005391</td>\n",
       "      <td>0.150870</td>\n",
       "      <td>...</td>\n",
       "      <td>0.661391</td>\n",
       "      <td>0.561478</td>\n",
       "      <td>0.557826</td>\n",
       "      <td>0.901696</td>\n",
       "      <td>0.800870</td>\n",
       "      <td>0.691783</td>\n",
       "      <td>0.753609</td>\n",
       "      <td>0.876609</td>\n",
       "      <td>0.757565</td>\n",
       "      <td>0.818217</td>\n",
       "    </tr>\n",
       "    <tr>\n",
       "      <th>South America</th>\n",
       "      <td>0.067385</td>\n",
       "      <td>-0.103000</td>\n",
       "      <td>0.110769</td>\n",
       "      <td>-0.141692</td>\n",
       "      <td>0.043308</td>\n",
       "      <td>-0.045308</td>\n",
       "      <td>-0.042000</td>\n",
       "      <td>-0.055615</td>\n",
       "      <td>0.327615</td>\n",
       "      <td>0.202538</td>\n",
       "      <td>...</td>\n",
       "      <td>0.592769</td>\n",
       "      <td>0.896000</td>\n",
       "      <td>1.157538</td>\n",
       "      <td>0.986154</td>\n",
       "      <td>1.021154</td>\n",
       "      <td>0.840692</td>\n",
       "      <td>1.045385</td>\n",
       "      <td>1.263308</td>\n",
       "      <td>0.889538</td>\n",
       "      <td>0.694923</td>\n",
       "    </tr>\n",
       "    <tr>\n",
       "      <th>World</th>\n",
       "      <td>0.211000</td>\n",
       "      <td>0.038000</td>\n",
       "      <td>0.168000</td>\n",
       "      <td>-0.246000</td>\n",
       "      <td>-0.223000</td>\n",
       "      <td>0.201000</td>\n",
       "      <td>-0.117000</td>\n",
       "      <td>-0.126000</td>\n",
       "      <td>-0.092000</td>\n",
       "      <td>0.150000</td>\n",
       "      <td>...</td>\n",
       "      <td>1.016000</td>\n",
       "      <td>1.053000</td>\n",
       "      <td>1.412000</td>\n",
       "      <td>1.660000</td>\n",
       "      <td>1.429000</td>\n",
       "      <td>1.290000</td>\n",
       "      <td>1.444000</td>\n",
       "      <td>1.711000</td>\n",
       "      <td>1.447000</td>\n",
       "      <td>1.394000</td>\n",
       "    </tr>\n",
       "  </tbody>\n",
       "</table>\n",
       "<p>7 rows × 62 columns</p>\n",
       "</div>"
      ],
      "text/plain": [
       "                  F1961     F1962     F1963     F1964     F1965     F1966  \\\n",
       "Continent                                                                   \n",
       "Africa         0.052411 -0.027321  0.027161 -0.110768 -0.225304  0.108036   \n",
       "Asia          -0.021260  0.118440  0.154720 -0.162820 -0.098740  0.310220   \n",
       "Europe         0.555894 -0.132830 -0.310383  0.025106 -0.318191  0.070426   \n",
       "North America  0.013429 -0.012200  0.101343  0.035543 -0.205114 -0.019514   \n",
       "Oceania        0.047739  0.044870 -0.041739  0.036391 -0.308391 -0.154043   \n",
       "South America  0.067385 -0.103000  0.110769 -0.141692  0.043308 -0.045308   \n",
       "World          0.211000  0.038000  0.168000 -0.246000 -0.223000  0.201000   \n",
       "\n",
       "                  F1967     F1968     F1969     F1970  ...     F2013  \\\n",
       "Continent                                              ...             \n",
       "Africa        -0.139911 -0.212714  0.296964  0.233268  ...  0.909000   \n",
       "Asia          -0.252340 -0.271880  0.135440  0.126960  ...  1.011620   \n",
       "Europe         0.225660 -0.032043 -0.146830 -0.203596  ...  0.973596   \n",
       "North America -0.218429 -0.186486  0.263343  0.039571  ...  0.856029   \n",
       "Oceania       -0.131087 -0.158348  0.005391  0.150870  ...  0.661391   \n",
       "South America -0.042000 -0.055615  0.327615  0.202538  ...  0.592769   \n",
       "World         -0.117000 -0.126000 -0.092000  0.150000  ...  1.016000   \n",
       "\n",
       "                  F2014     F2015     F2016     F2017     F2018     F2019  \\\n",
       "Continent                                                                   \n",
       "Africa         0.932714  1.153857  1.302214  1.214232  1.048071  1.308964   \n",
       "Asia           0.887620  1.300060  1.482420  1.319300  1.440660  1.473240   \n",
       "Europe         1.931085  1.676085  1.789362  1.537085  1.960085  1.923787   \n",
       "North America  0.794600  1.045314  1.150114  0.993114  0.753457  1.074943   \n",
       "Oceania        0.561478  0.557826  0.901696  0.800870  0.691783  0.753609   \n",
       "South America  0.896000  1.157538  0.986154  1.021154  0.840692  1.045385   \n",
       "World          1.053000  1.412000  1.660000  1.429000  1.290000  1.444000   \n",
       "\n",
       "                  F2020     F2021     F2022  \n",
       "Continent                                    \n",
       "Africa         1.169339  1.270232  1.024661  \n",
       "Asia           1.491600  1.593760  1.532640  \n",
       "Europe         2.248553  1.474319  2.135723  \n",
       "North America  1.285457  1.017800  0.878600  \n",
       "Oceania        0.876609  0.757565  0.818217  \n",
       "South America  1.263308  0.889538  0.694923  \n",
       "World          1.711000  1.447000  1.394000  \n",
       "\n",
       "[7 rows x 62 columns]"
      ]
     },
     "execution_count": 21,
     "metadata": {},
     "output_type": "execute_result"
    }
   ],
   "source": [
    "cont_df = temps_df.groupby('Continent').mean()\n",
    "cont_na = temps_na.groupby('Continent').mean()\n",
    "cont_na"
   ]
  },
  {
   "cell_type": "code",
   "execution_count": 16,
   "metadata": {},
   "outputs": [
    {
     "data": {
      "application/vnd.plotly.v1+json": {
       "config": {
        "plotlyServerURL": "https://plot.ly"
       },
       "data": [
        {
         "mode": "lines",
         "name": "Africa",
         "type": "scatter",
         "x": [
          "F1961",
          "F1962",
          "F1963",
          "F1964",
          "F1965",
          "F1966",
          "F1967",
          "F1968",
          "F1969",
          "F1970",
          "F1971",
          "F1972",
          "F1973",
          "F1974",
          "F1975",
          "F1976",
          "F1977",
          "F1978",
          "F1979",
          "F1980",
          "F1981",
          "F1982",
          "F1983",
          "F1984",
          "F1985",
          "F1986",
          "F1987",
          "F1988",
          "F1989",
          "F1990",
          "F1991",
          "F1992",
          "F1993",
          "F1994",
          "F1995",
          "F1996",
          "F1997",
          "F1998",
          "F1999",
          "F2000",
          "F2001",
          "F2002",
          "F2003",
          "F2004",
          "F2005",
          "F2006",
          "F2007",
          "F2008",
          "F2009",
          "F2010",
          "F2011",
          "F2012",
          "F2013",
          "F2014",
          "F2015",
          "F2016",
          "F2017",
          "F2018",
          "F2019",
          "F2020",
          "F2021",
          "F2022"
         ],
         "y": [
          0.0524107142857143,
          -0.027321428571428573,
          0.027160714285714285,
          -0.11076785714285715,
          -0.22530357142857144,
          0.10803571428571428,
          -0.13991071428571428,
          -0.21271428571428572,
          0.2969642857142857,
          0.23326785714285717,
          -0.1888392857142857,
          -0.01767857142857143,
          0.35876785714285714,
          -0.19826785714285713,
          -0.16053571428571428,
          -0.2110892857142857,
          0.24485714285714286,
          0.12962500000000002,
          0.3519285714285715,
          0.3402678571428571,
          0.112375,
          0.23744642857142859,
          0.5236071428571428,
          0.2606785714285714,
          0.23080357142857144,
          0.23357142857142857,
          0.6548214285714286,
          0.52575,
          0.05955357142857143,
          0.5100714285714286,
          0.3502678571428572,
          0.24692857142857141,
          0.3901428571428571,
          0.39785714285714285,
          0.5658035714285714,
          0.4408392857142857,
          0.5477321428571428,
          0.9652142857142857,
          0.5638928571428571,
          0.43360714285714286,
          0.6226607142857142,
          0.8355357142857143,
          0.9227678571428571,
          0.7756785714285714,
          0.9414464285714285,
          0.7954285714285714,
          0.7963928571428571,
          0.6856785714285715,
          0.8226964285714286,
          1.2016428571428572,
          0.8896785714285714,
          0.7443392857142858,
          0.9089999999999999,
          0.9327142857142857,
          1.153857142857143,
          1.3022142857142858,
          1.2142321428571428,
          1.0480714285714285,
          1.3089642857142858,
          1.1693392857142857,
          1.2702321428571428,
          1.0246607142857143
         ]
        },
        {
         "mode": "lines",
         "name": "Asia",
         "type": "scatter",
         "x": [
          "F1961",
          "F1962",
          "F1963",
          "F1964",
          "F1965",
          "F1966",
          "F1967",
          "F1968",
          "F1969",
          "F1970",
          "F1971",
          "F1972",
          "F1973",
          "F1974",
          "F1975",
          "F1976",
          "F1977",
          "F1978",
          "F1979",
          "F1980",
          "F1981",
          "F1982",
          "F1983",
          "F1984",
          "F1985",
          "F1986",
          "F1987",
          "F1988",
          "F1989",
          "F1990",
          "F1991",
          "F1992",
          "F1993",
          "F1994",
          "F1995",
          "F1996",
          "F1997",
          "F1998",
          "F1999",
          "F2000",
          "F2001",
          "F2002",
          "F2003",
          "F2004",
          "F2005",
          "F2006",
          "F2007",
          "F2008",
          "F2009",
          "F2010",
          "F2011",
          "F2012",
          "F2013",
          "F2014",
          "F2015",
          "F2016",
          "F2017",
          "F2018",
          "F2019",
          "F2020",
          "F2021",
          "F2022"
         ],
         "y": [
          -0.021259999999999998,
          0.11843999999999999,
          0.15472,
          -0.16282,
          -0.09874000000000001,
          0.31022,
          -0.25234,
          -0.27188,
          0.13544,
          0.12696,
          -0.18572,
          -0.21804,
          0.11118,
          -0.2131,
          -0.0572,
          -0.31814,
          0.11044000000000001,
          0.11566000000000001,
          0.41424,
          0.17428000000000002,
          0.13693999999999998,
          -0.03656,
          -0.10666,
          -0.08071999999999999,
          0.09247999999999999,
          0.06282,
          0.31120000000000003,
          0.30572,
          0.14506,
          0.30196,
          0.28728000000000004,
          -0.21438,
          -0.01512,
          0.53842,
          0.43738,
          0.23388,
          0.4216,
          1.0371,
          0.99252,
          0.59832,
          0.89884,
          0.9753799999999999,
          0.62326,
          0.8969400000000001,
          0.71614,
          0.98666,
          0.8659,
          0.7118599999999999,
          0.8683799999999999,
          1.43364,
          0.67538,
          0.77634,
          1.01162,
          0.88762,
          1.30006,
          1.4824199999999998,
          1.3193000000000001,
          1.44066,
          1.47324,
          1.4916,
          1.59376,
          1.53264
         ]
        },
        {
         "mode": "lines",
         "name": "Europe",
         "type": "scatter",
         "x": [
          "F1961",
          "F1962",
          "F1963",
          "F1964",
          "F1965",
          "F1966",
          "F1967",
          "F1968",
          "F1969",
          "F1970",
          "F1971",
          "F1972",
          "F1973",
          "F1974",
          "F1975",
          "F1976",
          "F1977",
          "F1978",
          "F1979",
          "F1980",
          "F1981",
          "F1982",
          "F1983",
          "F1984",
          "F1985",
          "F1986",
          "F1987",
          "F1988",
          "F1989",
          "F1990",
          "F1991",
          "F1992",
          "F1993",
          "F1994",
          "F1995",
          "F1996",
          "F1997",
          "F1998",
          "F1999",
          "F2000",
          "F2001",
          "F2002",
          "F2003",
          "F2004",
          "F2005",
          "F2006",
          "F2007",
          "F2008",
          "F2009",
          "F2010",
          "F2011",
          "F2012",
          "F2013",
          "F2014",
          "F2015",
          "F2016",
          "F2017",
          "F2018",
          "F2019",
          "F2020",
          "F2021",
          "F2022"
         ],
         "y": [
          0.5558936170212766,
          -0.13282978723404257,
          -0.31038297872340426,
          0.025106382978723404,
          -0.3181914893617021,
          0.07042553191489363,
          0.2256595744680851,
          -0.03204255319148936,
          -0.14682978723404255,
          -0.2035957446808511,
          -0.07323404255319149,
          0.01787234042553192,
          0.08695744680851063,
          0.06404255319148935,
          0.3227659574468085,
          -0.04972340425531915,
          0.04491489361702127,
          -0.17300000000000001,
          -0.19980851063829788,
          -0.15563829787234043,
          -0.0014042553191489363,
          0.18829787234042553,
          0.3373829787234042,
          -0.01321276595744681,
          -0.2117021276595745,
          0.04587234042553192,
          -0.11802127659574467,
          0.38455319148936173,
          0.6096808510638299,
          0.7690638297872341,
          0.18285106382978722,
          0.6348936170212766,
          0.19985106382978726,
          1.044595744680851,
          0.8125744680851065,
          -0.05731914893617021,
          0.5578297872340425,
          0.7942340425531915,
          0.8984893617021277,
          1.2907659574468084,
          1.28468085106383,
          1.150127659574468,
          0.996404255319149,
          0.8387872340425532,
          0.8281914893617021,
          0.9558085106382979,
          1.756744680851064,
          1.3890212765957448,
          1.3202127659574467,
          0.6890425531914893,
          1.0987234042553191,
          1.386276595744681,
          0.9735957446808511,
          1.9310851063829786,
          1.6760851063829787,
          1.7893617021276595,
          1.5370851063829787,
          1.9600851063829787,
          1.9237872340425533,
          2.248553191489362,
          1.4743191489361704,
          2.135723404255319
         ]
        },
        {
         "mode": "lines",
         "name": "North America",
         "type": "scatter",
         "x": [
          "F1961",
          "F1962",
          "F1963",
          "F1964",
          "F1965",
          "F1966",
          "F1967",
          "F1968",
          "F1969",
          "F1970",
          "F1971",
          "F1972",
          "F1973",
          "F1974",
          "F1975",
          "F1976",
          "F1977",
          "F1978",
          "F1979",
          "F1980",
          "F1981",
          "F1982",
          "F1983",
          "F1984",
          "F1985",
          "F1986",
          "F1987",
          "F1988",
          "F1989",
          "F1990",
          "F1991",
          "F1992",
          "F1993",
          "F1994",
          "F1995",
          "F1996",
          "F1997",
          "F1998",
          "F1999",
          "F2000",
          "F2001",
          "F2002",
          "F2003",
          "F2004",
          "F2005",
          "F2006",
          "F2007",
          "F2008",
          "F2009",
          "F2010",
          "F2011",
          "F2012",
          "F2013",
          "F2014",
          "F2015",
          "F2016",
          "F2017",
          "F2018",
          "F2019",
          "F2020",
          "F2021",
          "F2022"
         ],
         "y": [
          0.01342857142857143,
          -0.012200000000000003,
          0.10134285714285715,
          0.03554285714285714,
          -0.20511428571428572,
          -0.019514285714285713,
          -0.21842857142857142,
          -0.18648571428571428,
          0.26334285714285716,
          0.03957142857142857,
          -0.24174285714285715,
          -0.08902857142857142,
          0.1478857142857143,
          -0.27777142857142856,
          -0.17377142857142858,
          -0.29665714285714284,
          0.1718,
          0.08651428571428571,
          0.16588571428571428,
          0.4989714285714285,
          0.3834857142857143,
          0.20908571428571426,
          0.44945714285714283,
          0.03294285714285714,
          -0.014771428571428574,
          0.07142857142857142,
          0.5595142857142856,
          0.4865714285714286,
          0.08437142857142858,
          0.38182857142857146,
          0.4304857142857143,
          0.2943714285714286,
          0.3338285714285715,
          0.5759428571428572,
          0.6823428571428571,
          0.3420285714285714,
          0.6234285714285714,
          1.0998571428571429,
          0.6021142857142857,
          0.4014,
          0.5370857142857143,
          0.6974285714285714,
          0.9266857142857142,
          0.6084285714285714,
          0.9128000000000001,
          0.8599714285714286,
          0.8868285714285715,
          0.4911142857142857,
          0.6547428571428572,
          1.1322,
          0.6551428571428571,
          0.7751999999999999,
          0.8560285714285714,
          0.7946,
          1.0453142857142856,
          1.1501142857142856,
          0.9931142857142857,
          0.7534571428571429,
          1.074942857142857,
          1.2854571428571429,
          1.0178,
          0.8786
         ]
        },
        {
         "mode": "lines",
         "name": "Oceania",
         "type": "scatter",
         "x": [
          "F1961",
          "F1962",
          "F1963",
          "F1964",
          "F1965",
          "F1966",
          "F1967",
          "F1968",
          "F1969",
          "F1970",
          "F1971",
          "F1972",
          "F1973",
          "F1974",
          "F1975",
          "F1976",
          "F1977",
          "F1978",
          "F1979",
          "F1980",
          "F1981",
          "F1982",
          "F1983",
          "F1984",
          "F1985",
          "F1986",
          "F1987",
          "F1988",
          "F1989",
          "F1990",
          "F1991",
          "F1992",
          "F1993",
          "F1994",
          "F1995",
          "F1996",
          "F1997",
          "F1998",
          "F1999",
          "F2000",
          "F2001",
          "F2002",
          "F2003",
          "F2004",
          "F2005",
          "F2006",
          "F2007",
          "F2008",
          "F2009",
          "F2010",
          "F2011",
          "F2012",
          "F2013",
          "F2014",
          "F2015",
          "F2016",
          "F2017",
          "F2018",
          "F2019",
          "F2020",
          "F2021",
          "F2022"
         ],
         "y": [
          0.04773913043478261,
          0.044869565217391306,
          -0.041739130434782605,
          0.03639130434782609,
          -0.3083913043478261,
          -0.15404347826086956,
          -0.13108695652173913,
          -0.15834782608695652,
          0.005391304347826088,
          0.15086956521739128,
          -0.06143478260869566,
          -0.12147826086956522,
          0.31765217391304346,
          0.00034782608695651965,
          0.019869565217391305,
          -0.12447826086956522,
          -0.026521739130434784,
          0.11430434782608696,
          0.16178260869565217,
          0.1992608695652174,
          0.18460869565217394,
          0.09360869565217392,
          0.15634782608695652,
          0.15591304347826088,
          0.22108695652173913,
          0.19091304347826088,
          0.1358695652173913,
          0.445695652173913,
          0.19252173913043477,
          0.30039130434782607,
          0.267,
          0.10791304347826086,
          -0.06091304347826087,
          0.08778260869565217,
          0.3650869565217391,
          0.34952173913043477,
          0.10234782608695653,
          0.4584347826086957,
          0.30165217391304344,
          0.31326086956521737,
          0.41991304347826086,
          0.51,
          0.3864347826086956,
          0.32382608695652176,
          0.4612608695652174,
          0.40704347826086956,
          0.561695652173913,
          0.30143478260869566,
          0.31043478260869567,
          0.632695652173913,
          0.4720434782608695,
          0.4569130434782609,
          0.6613913043478261,
          0.5614782608695652,
          0.5578260869565217,
          0.9016956521739131,
          0.8008695652173914,
          0.6917826086956521,
          0.7536086956521738,
          0.8766086956521739,
          0.7575652173913043,
          0.8182173913043478
         ]
        },
        {
         "mode": "lines",
         "name": "South America",
         "type": "scatter",
         "x": [
          "F1961",
          "F1962",
          "F1963",
          "F1964",
          "F1965",
          "F1966",
          "F1967",
          "F1968",
          "F1969",
          "F1970",
          "F1971",
          "F1972",
          "F1973",
          "F1974",
          "F1975",
          "F1976",
          "F1977",
          "F1978",
          "F1979",
          "F1980",
          "F1981",
          "F1982",
          "F1983",
          "F1984",
          "F1985",
          "F1986",
          "F1987",
          "F1988",
          "F1989",
          "F1990",
          "F1991",
          "F1992",
          "F1993",
          "F1994",
          "F1995",
          "F1996",
          "F1997",
          "F1998",
          "F1999",
          "F2000",
          "F2001",
          "F2002",
          "F2003",
          "F2004",
          "F2005",
          "F2006",
          "F2007",
          "F2008",
          "F2009",
          "F2010",
          "F2011",
          "F2012",
          "F2013",
          "F2014",
          "F2015",
          "F2016",
          "F2017",
          "F2018",
          "F2019",
          "F2020",
          "F2021",
          "F2022"
         ],
         "y": [
          0.06738461538461538,
          -0.103,
          0.11076923076923079,
          -0.1416923076923077,
          0.043307692307692304,
          -0.045307692307692306,
          -0.042,
          -0.055615384615384615,
          0.32761538461538464,
          0.20253846153846153,
          -0.38676923076923075,
          0.06607692307692307,
          0.13692307692307693,
          -0.20453846153846153,
          -0.16923076923076924,
          -0.21946153846153849,
          0.28146153846153843,
          0.19930769230769232,
          0.262,
          0.3383846153846154,
          0.22584615384615384,
          0.30853846153846154,
          0.4492307692307692,
          0.019615384615384607,
          0.09738461538461539,
          0.2469230769230769,
          0.5507692307692308,
          0.19046153846153846,
          0.13207692307692306,
          0.3249230769230769,
          0.382,
          0.25169230769230766,
          0.3096153846153846,
          0.446,
          0.5600769230769231,
          0.3527692307692308,
          0.7543076923076922,
          0.8226923076923077,
          0.2401538461538462,
          0.24153846153846154,
          0.5654615384615385,
          0.7172307692307692,
          0.6754615384615386,
          0.6396923076923078,
          0.7483846153846153,
          0.708076923076923,
          0.48307692307692307,
          0.5423846153846154,
          0.8066923076923077,
          0.7336153846153846,
          0.6386923076923078,
          0.7390769230769231,
          0.5927692307692308,
          0.896,
          1.1575384615384616,
          0.9861538461538462,
          1.021153846153846,
          0.8406923076923077,
          1.0453846153846154,
          1.2633076923076922,
          0.8895384615384615,
          0.694923076923077
         ]
        },
        {
         "mode": "lines",
         "name": "World",
         "type": "scatter",
         "x": [
          "F1961",
          "F1962",
          "F1963",
          "F1964",
          "F1965",
          "F1966",
          "F1967",
          "F1968",
          "F1969",
          "F1970",
          "F1971",
          "F1972",
          "F1973",
          "F1974",
          "F1975",
          "F1976",
          "F1977",
          "F1978",
          "F1979",
          "F1980",
          "F1981",
          "F1982",
          "F1983",
          "F1984",
          "F1985",
          "F1986",
          "F1987",
          "F1988",
          "F1989",
          "F1990",
          "F1991",
          "F1992",
          "F1993",
          "F1994",
          "F1995",
          "F1996",
          "F1997",
          "F1998",
          "F1999",
          "F2000",
          "F2001",
          "F2002",
          "F2003",
          "F2004",
          "F2005",
          "F2006",
          "F2007",
          "F2008",
          "F2009",
          "F2010",
          "F2011",
          "F2012",
          "F2013",
          "F2014",
          "F2015",
          "F2016",
          "F2017",
          "F2018",
          "F2019",
          "F2020",
          "F2021",
          "F2022"
         ],
         "y": [
          0.211,
          0.038,
          0.168,
          -0.246,
          -0.223,
          0.201,
          -0.117,
          -0.126,
          -0.092,
          0.15,
          -0.093,
          -0.199,
          0.269,
          -0.181,
          0.088,
          -0.314,
          0.269,
          0.001,
          0.226,
          0.332,
          0.443,
          0.086,
          0.46,
          0.127,
          -0.031,
          0.242,
          0.403,
          0.558,
          0.331,
          0.639,
          0.468,
          0.184,
          0.348,
          0.507,
          0.835,
          0.355,
          0.656,
          0.993,
          0.783,
          0.728,
          0.834,
          1.021,
          0.893,
          0.913,
          1.095,
          0.998,
          1.195,
          0.935,
          0.957,
          1.219,
          0.921,
          1.074,
          1.016,
          1.053,
          1.412,
          1.66,
          1.429,
          1.29,
          1.444,
          1.711,
          1.447,
          1.394
         ]
        }
       ],
       "layout": {
        "template": {
         "data": {
          "bar": [
           {
            "error_x": {
             "color": "#2a3f5f"
            },
            "error_y": {
             "color": "#2a3f5f"
            },
            "marker": {
             "line": {
              "color": "#E5ECF6",
              "width": 0.5
             },
             "pattern": {
              "fillmode": "overlay",
              "size": 10,
              "solidity": 0.2
             }
            },
            "type": "bar"
           }
          ],
          "barpolar": [
           {
            "marker": {
             "line": {
              "color": "#E5ECF6",
              "width": 0.5
             },
             "pattern": {
              "fillmode": "overlay",
              "size": 10,
              "solidity": 0.2
             }
            },
            "type": "barpolar"
           }
          ],
          "carpet": [
           {
            "aaxis": {
             "endlinecolor": "#2a3f5f",
             "gridcolor": "white",
             "linecolor": "white",
             "minorgridcolor": "white",
             "startlinecolor": "#2a3f5f"
            },
            "baxis": {
             "endlinecolor": "#2a3f5f",
             "gridcolor": "white",
             "linecolor": "white",
             "minorgridcolor": "white",
             "startlinecolor": "#2a3f5f"
            },
            "type": "carpet"
           }
          ],
          "choropleth": [
           {
            "colorbar": {
             "outlinewidth": 0,
             "ticks": ""
            },
            "type": "choropleth"
           }
          ],
          "contour": [
           {
            "colorbar": {
             "outlinewidth": 0,
             "ticks": ""
            },
            "colorscale": [
             [
              0,
              "#0d0887"
             ],
             [
              0.1111111111111111,
              "#46039f"
             ],
             [
              0.2222222222222222,
              "#7201a8"
             ],
             [
              0.3333333333333333,
              "#9c179e"
             ],
             [
              0.4444444444444444,
              "#bd3786"
             ],
             [
              0.5555555555555556,
              "#d8576b"
             ],
             [
              0.6666666666666666,
              "#ed7953"
             ],
             [
              0.7777777777777778,
              "#fb9f3a"
             ],
             [
              0.8888888888888888,
              "#fdca26"
             ],
             [
              1,
              "#f0f921"
             ]
            ],
            "type": "contour"
           }
          ],
          "contourcarpet": [
           {
            "colorbar": {
             "outlinewidth": 0,
             "ticks": ""
            },
            "type": "contourcarpet"
           }
          ],
          "heatmap": [
           {
            "colorbar": {
             "outlinewidth": 0,
             "ticks": ""
            },
            "colorscale": [
             [
              0,
              "#0d0887"
             ],
             [
              0.1111111111111111,
              "#46039f"
             ],
             [
              0.2222222222222222,
              "#7201a8"
             ],
             [
              0.3333333333333333,
              "#9c179e"
             ],
             [
              0.4444444444444444,
              "#bd3786"
             ],
             [
              0.5555555555555556,
              "#d8576b"
             ],
             [
              0.6666666666666666,
              "#ed7953"
             ],
             [
              0.7777777777777778,
              "#fb9f3a"
             ],
             [
              0.8888888888888888,
              "#fdca26"
             ],
             [
              1,
              "#f0f921"
             ]
            ],
            "type": "heatmap"
           }
          ],
          "heatmapgl": [
           {
            "colorbar": {
             "outlinewidth": 0,
             "ticks": ""
            },
            "colorscale": [
             [
              0,
              "#0d0887"
             ],
             [
              0.1111111111111111,
              "#46039f"
             ],
             [
              0.2222222222222222,
              "#7201a8"
             ],
             [
              0.3333333333333333,
              "#9c179e"
             ],
             [
              0.4444444444444444,
              "#bd3786"
             ],
             [
              0.5555555555555556,
              "#d8576b"
             ],
             [
              0.6666666666666666,
              "#ed7953"
             ],
             [
              0.7777777777777778,
              "#fb9f3a"
             ],
             [
              0.8888888888888888,
              "#fdca26"
             ],
             [
              1,
              "#f0f921"
             ]
            ],
            "type": "heatmapgl"
           }
          ],
          "histogram": [
           {
            "marker": {
             "pattern": {
              "fillmode": "overlay",
              "size": 10,
              "solidity": 0.2
             }
            },
            "type": "histogram"
           }
          ],
          "histogram2d": [
           {
            "colorbar": {
             "outlinewidth": 0,
             "ticks": ""
            },
            "colorscale": [
             [
              0,
              "#0d0887"
             ],
             [
              0.1111111111111111,
              "#46039f"
             ],
             [
              0.2222222222222222,
              "#7201a8"
             ],
             [
              0.3333333333333333,
              "#9c179e"
             ],
             [
              0.4444444444444444,
              "#bd3786"
             ],
             [
              0.5555555555555556,
              "#d8576b"
             ],
             [
              0.6666666666666666,
              "#ed7953"
             ],
             [
              0.7777777777777778,
              "#fb9f3a"
             ],
             [
              0.8888888888888888,
              "#fdca26"
             ],
             [
              1,
              "#f0f921"
             ]
            ],
            "type": "histogram2d"
           }
          ],
          "histogram2dcontour": [
           {
            "colorbar": {
             "outlinewidth": 0,
             "ticks": ""
            },
            "colorscale": [
             [
              0,
              "#0d0887"
             ],
             [
              0.1111111111111111,
              "#46039f"
             ],
             [
              0.2222222222222222,
              "#7201a8"
             ],
             [
              0.3333333333333333,
              "#9c179e"
             ],
             [
              0.4444444444444444,
              "#bd3786"
             ],
             [
              0.5555555555555556,
              "#d8576b"
             ],
             [
              0.6666666666666666,
              "#ed7953"
             ],
             [
              0.7777777777777778,
              "#fb9f3a"
             ],
             [
              0.8888888888888888,
              "#fdca26"
             ],
             [
              1,
              "#f0f921"
             ]
            ],
            "type": "histogram2dcontour"
           }
          ],
          "mesh3d": [
           {
            "colorbar": {
             "outlinewidth": 0,
             "ticks": ""
            },
            "type": "mesh3d"
           }
          ],
          "parcoords": [
           {
            "line": {
             "colorbar": {
              "outlinewidth": 0,
              "ticks": ""
             }
            },
            "type": "parcoords"
           }
          ],
          "pie": [
           {
            "automargin": true,
            "type": "pie"
           }
          ],
          "scatter": [
           {
            "fillpattern": {
             "fillmode": "overlay",
             "size": 10,
             "solidity": 0.2
            },
            "type": "scatter"
           }
          ],
          "scatter3d": [
           {
            "line": {
             "colorbar": {
              "outlinewidth": 0,
              "ticks": ""
             }
            },
            "marker": {
             "colorbar": {
              "outlinewidth": 0,
              "ticks": ""
             }
            },
            "type": "scatter3d"
           }
          ],
          "scattercarpet": [
           {
            "marker": {
             "colorbar": {
              "outlinewidth": 0,
              "ticks": ""
             }
            },
            "type": "scattercarpet"
           }
          ],
          "scattergeo": [
           {
            "marker": {
             "colorbar": {
              "outlinewidth": 0,
              "ticks": ""
             }
            },
            "type": "scattergeo"
           }
          ],
          "scattergl": [
           {
            "marker": {
             "colorbar": {
              "outlinewidth": 0,
              "ticks": ""
             }
            },
            "type": "scattergl"
           }
          ],
          "scattermapbox": [
           {
            "marker": {
             "colorbar": {
              "outlinewidth": 0,
              "ticks": ""
             }
            },
            "type": "scattermapbox"
           }
          ],
          "scatterpolar": [
           {
            "marker": {
             "colorbar": {
              "outlinewidth": 0,
              "ticks": ""
             }
            },
            "type": "scatterpolar"
           }
          ],
          "scatterpolargl": [
           {
            "marker": {
             "colorbar": {
              "outlinewidth": 0,
              "ticks": ""
             }
            },
            "type": "scatterpolargl"
           }
          ],
          "scatterternary": [
           {
            "marker": {
             "colorbar": {
              "outlinewidth": 0,
              "ticks": ""
             }
            },
            "type": "scatterternary"
           }
          ],
          "surface": [
           {
            "colorbar": {
             "outlinewidth": 0,
             "ticks": ""
            },
            "colorscale": [
             [
              0,
              "#0d0887"
             ],
             [
              0.1111111111111111,
              "#46039f"
             ],
             [
              0.2222222222222222,
              "#7201a8"
             ],
             [
              0.3333333333333333,
              "#9c179e"
             ],
             [
              0.4444444444444444,
              "#bd3786"
             ],
             [
              0.5555555555555556,
              "#d8576b"
             ],
             [
              0.6666666666666666,
              "#ed7953"
             ],
             [
              0.7777777777777778,
              "#fb9f3a"
             ],
             [
              0.8888888888888888,
              "#fdca26"
             ],
             [
              1,
              "#f0f921"
             ]
            ],
            "type": "surface"
           }
          ],
          "table": [
           {
            "cells": {
             "fill": {
              "color": "#EBF0F8"
             },
             "line": {
              "color": "white"
             }
            },
            "header": {
             "fill": {
              "color": "#C8D4E3"
             },
             "line": {
              "color": "white"
             }
            },
            "type": "table"
           }
          ]
         },
         "layout": {
          "annotationdefaults": {
           "arrowcolor": "#2a3f5f",
           "arrowhead": 0,
           "arrowwidth": 1
          },
          "autotypenumbers": "strict",
          "coloraxis": {
           "colorbar": {
            "outlinewidth": 0,
            "ticks": ""
           }
          },
          "colorscale": {
           "diverging": [
            [
             0,
             "#8e0152"
            ],
            [
             0.1,
             "#c51b7d"
            ],
            [
             0.2,
             "#de77ae"
            ],
            [
             0.3,
             "#f1b6da"
            ],
            [
             0.4,
             "#fde0ef"
            ],
            [
             0.5,
             "#f7f7f7"
            ],
            [
             0.6,
             "#e6f5d0"
            ],
            [
             0.7,
             "#b8e186"
            ],
            [
             0.8,
             "#7fbc41"
            ],
            [
             0.9,
             "#4d9221"
            ],
            [
             1,
             "#276419"
            ]
           ],
           "sequential": [
            [
             0,
             "#0d0887"
            ],
            [
             0.1111111111111111,
             "#46039f"
            ],
            [
             0.2222222222222222,
             "#7201a8"
            ],
            [
             0.3333333333333333,
             "#9c179e"
            ],
            [
             0.4444444444444444,
             "#bd3786"
            ],
            [
             0.5555555555555556,
             "#d8576b"
            ],
            [
             0.6666666666666666,
             "#ed7953"
            ],
            [
             0.7777777777777778,
             "#fb9f3a"
            ],
            [
             0.8888888888888888,
             "#fdca26"
            ],
            [
             1,
             "#f0f921"
            ]
           ],
           "sequentialminus": [
            [
             0,
             "#0d0887"
            ],
            [
             0.1111111111111111,
             "#46039f"
            ],
            [
             0.2222222222222222,
             "#7201a8"
            ],
            [
             0.3333333333333333,
             "#9c179e"
            ],
            [
             0.4444444444444444,
             "#bd3786"
            ],
            [
             0.5555555555555556,
             "#d8576b"
            ],
            [
             0.6666666666666666,
             "#ed7953"
            ],
            [
             0.7777777777777778,
             "#fb9f3a"
            ],
            [
             0.8888888888888888,
             "#fdca26"
            ],
            [
             1,
             "#f0f921"
            ]
           ]
          },
          "colorway": [
           "#636efa",
           "#EF553B",
           "#00cc96",
           "#ab63fa",
           "#FFA15A",
           "#19d3f3",
           "#FF6692",
           "#B6E880",
           "#FF97FF",
           "#FECB52"
          ],
          "font": {
           "color": "#2a3f5f"
          },
          "geo": {
           "bgcolor": "white",
           "lakecolor": "white",
           "landcolor": "#E5ECF6",
           "showlakes": true,
           "showland": true,
           "subunitcolor": "white"
          },
          "hoverlabel": {
           "align": "left"
          },
          "hovermode": "closest",
          "mapbox": {
           "style": "light"
          },
          "paper_bgcolor": "white",
          "plot_bgcolor": "#E5ECF6",
          "polar": {
           "angularaxis": {
            "gridcolor": "white",
            "linecolor": "white",
            "ticks": ""
           },
           "bgcolor": "#E5ECF6",
           "radialaxis": {
            "gridcolor": "white",
            "linecolor": "white",
            "ticks": ""
           }
          },
          "scene": {
           "xaxis": {
            "backgroundcolor": "#E5ECF6",
            "gridcolor": "white",
            "gridwidth": 2,
            "linecolor": "white",
            "showbackground": true,
            "ticks": "",
            "zerolinecolor": "white"
           },
           "yaxis": {
            "backgroundcolor": "#E5ECF6",
            "gridcolor": "white",
            "gridwidth": 2,
            "linecolor": "white",
            "showbackground": true,
            "ticks": "",
            "zerolinecolor": "white"
           },
           "zaxis": {
            "backgroundcolor": "#E5ECF6",
            "gridcolor": "white",
            "gridwidth": 2,
            "linecolor": "white",
            "showbackground": true,
            "ticks": "",
            "zerolinecolor": "white"
           }
          },
          "shapedefaults": {
           "line": {
            "color": "#2a3f5f"
           }
          },
          "ternary": {
           "aaxis": {
            "gridcolor": "white",
            "linecolor": "white",
            "ticks": ""
           },
           "baxis": {
            "gridcolor": "white",
            "linecolor": "white",
            "ticks": ""
           },
           "bgcolor": "#E5ECF6",
           "caxis": {
            "gridcolor": "white",
            "linecolor": "white",
            "ticks": ""
           }
          },
          "title": {
           "x": 0.05
          },
          "xaxis": {
           "automargin": true,
           "gridcolor": "white",
           "linecolor": "white",
           "ticks": "",
           "title": {
            "standoff": 15
           },
           "zerolinecolor": "white",
           "zerolinewidth": 2
          },
          "yaxis": {
           "automargin": true,
           "gridcolor": "white",
           "linecolor": "white",
           "ticks": "",
           "title": {
            "standoff": 15
           },
           "zerolinecolor": "white",
           "zerolinewidth": 2
          }
         }
        },
        "title": {
         "text": "Line Chart for Continents"
        },
        "xaxis": {
         "title": {
          "text": "Year"
         }
        },
        "yaxis": {
         "title": {
          "text": "Value"
         }
        }
       }
      }
     },
     "metadata": {},
     "output_type": "display_data"
    }
   ],
   "source": [
    "# Create x-axis labels (years)\n",
    "x_labels = cont_df.columns\n",
    "\n",
    "# Create traces for each continent\n",
    "traces = []\n",
    "for continent, row in cont_df.iterrows():\n",
    "    y_values = row.values  # Select all values of the row\n",
    "\n",
    "    # Create trace for the line\n",
    "    trace = go.Scatter(\n",
    "        x=x_labels,\n",
    "        y=y_values,\n",
    "        mode='lines',\n",
    "        name=continent\n",
    "    )\n",
    "\n",
    "    traces.append(trace)\n",
    "\n",
    "# Create data list with all traces\n",
    "data = traces\n",
    "\n",
    "# Create layout\n",
    "layout = go.Layout(\n",
    "    title='Line Chart for Continents',\n",
    "    xaxis=dict(title='Year'),\n",
    "    yaxis=dict(title='Value')\n",
    ")\n",
    "\n",
    "# Create figure\n",
    "fig = go.Figure(data=data, layout=layout)\n",
    "\n",
    "# Display the figure\n",
    "fig.show()"
   ]
  },
  {
   "cell_type": "code",
   "execution_count": 22,
   "metadata": {},
   "outputs": [
    {
     "data": {
      "application/vnd.plotly.v1+json": {
       "config": {
        "plotlyServerURL": "https://plot.ly"
       },
       "data": [
        {
         "mode": "lines",
         "name": "Africa",
         "type": "scatter",
         "x": [
          "F1961",
          "F1962",
          "F1963",
          "F1964",
          "F1965",
          "F1966",
          "F1967",
          "F1968",
          "F1969",
          "F1970",
          "F1971",
          "F1972",
          "F1973",
          "F1974",
          "F1975",
          "F1976",
          "F1977",
          "F1978",
          "F1979",
          "F1980",
          "F1981",
          "F1982",
          "F1983",
          "F1984",
          "F1985",
          "F1986",
          "F1987",
          "F1988",
          "F1989",
          "F1990",
          "F1991",
          "F1992",
          "F1993",
          "F1994",
          "F1995",
          "F1996",
          "F1997",
          "F1998",
          "F1999",
          "F2000",
          "F2001",
          "F2002",
          "F2003",
          "F2004",
          "F2005",
          "F2006",
          "F2007",
          "F2008",
          "F2009",
          "F2010",
          "F2011",
          "F2012",
          "F2013",
          "F2014",
          "F2015",
          "F2016",
          "F2017",
          "F2018",
          "F2019",
          "F2020",
          "F2021",
          "F2022"
         ],
         "y": [
          0.0524107142857143,
          -0.027321428571428573,
          0.027160714285714285,
          -0.11076785714285715,
          -0.22530357142857144,
          0.10803571428571428,
          -0.13991071428571428,
          -0.21271428571428572,
          0.2969642857142857,
          0.23326785714285717,
          -0.1888392857142857,
          -0.01767857142857143,
          0.35876785714285714,
          -0.19826785714285713,
          -0.16053571428571428,
          -0.2110892857142857,
          0.24485714285714286,
          0.12962500000000002,
          0.3519285714285715,
          0.3402678571428571,
          0.112375,
          0.23744642857142859,
          0.5236071428571428,
          0.2606785714285714,
          0.23080357142857144,
          0.23357142857142857,
          0.6548214285714286,
          0.52575,
          0.05955357142857143,
          0.5100714285714286,
          0.3502678571428572,
          0.24692857142857141,
          0.3901428571428571,
          0.39785714285714285,
          0.5658035714285714,
          0.4408392857142857,
          0.5477321428571428,
          0.9652142857142857,
          0.5638928571428571,
          0.43360714285714286,
          0.6226607142857142,
          0.8355357142857143,
          0.9227678571428571,
          0.7756785714285714,
          0.9414464285714285,
          0.7954285714285714,
          0.7963928571428571,
          0.6856785714285715,
          0.8226964285714286,
          1.2016428571428572,
          0.8896785714285714,
          0.7443392857142858,
          0.9089999999999999,
          0.9327142857142857,
          1.153857142857143,
          1.3022142857142858,
          1.2142321428571428,
          1.0480714285714285,
          1.3089642857142858,
          1.1693392857142857,
          1.2702321428571428,
          1.0246607142857143
         ]
        },
        {
         "mode": "lines",
         "name": "Asia",
         "type": "scatter",
         "x": [
          "F1961",
          "F1962",
          "F1963",
          "F1964",
          "F1965",
          "F1966",
          "F1967",
          "F1968",
          "F1969",
          "F1970",
          "F1971",
          "F1972",
          "F1973",
          "F1974",
          "F1975",
          "F1976",
          "F1977",
          "F1978",
          "F1979",
          "F1980",
          "F1981",
          "F1982",
          "F1983",
          "F1984",
          "F1985",
          "F1986",
          "F1987",
          "F1988",
          "F1989",
          "F1990",
          "F1991",
          "F1992",
          "F1993",
          "F1994",
          "F1995",
          "F1996",
          "F1997",
          "F1998",
          "F1999",
          "F2000",
          "F2001",
          "F2002",
          "F2003",
          "F2004",
          "F2005",
          "F2006",
          "F2007",
          "F2008",
          "F2009",
          "F2010",
          "F2011",
          "F2012",
          "F2013",
          "F2014",
          "F2015",
          "F2016",
          "F2017",
          "F2018",
          "F2019",
          "F2020",
          "F2021",
          "F2022"
         ],
         "y": [
          -0.021259999999999998,
          0.11843999999999999,
          0.15472,
          -0.16282,
          -0.09874000000000001,
          0.31022,
          -0.25234,
          -0.27188,
          0.13544,
          0.12696,
          -0.18572,
          -0.21804,
          0.11118,
          -0.2131,
          -0.0572,
          -0.31814,
          0.11044000000000001,
          0.11566000000000001,
          0.41424,
          0.17428000000000002,
          0.13693999999999998,
          -0.03656,
          -0.10666,
          -0.08071999999999999,
          0.09247999999999999,
          0.06282,
          0.31120000000000003,
          0.30572,
          0.14506,
          0.30196,
          0.28728000000000004,
          -0.21438,
          -0.01512,
          0.53842,
          0.43738,
          0.23388,
          0.4216,
          1.0371,
          0.99252,
          0.59832,
          0.89884,
          0.9753799999999999,
          0.62326,
          0.8969400000000001,
          0.71614,
          0.98666,
          0.8659,
          0.7118599999999999,
          0.8683799999999999,
          1.43364,
          0.67538,
          0.77634,
          1.01162,
          0.88762,
          1.30006,
          1.4824199999999998,
          1.3193000000000001,
          1.44066,
          1.47324,
          1.4916,
          1.59376,
          1.53264
         ]
        },
        {
         "mode": "lines",
         "name": "Europe",
         "type": "scatter",
         "x": [
          "F1961",
          "F1962",
          "F1963",
          "F1964",
          "F1965",
          "F1966",
          "F1967",
          "F1968",
          "F1969",
          "F1970",
          "F1971",
          "F1972",
          "F1973",
          "F1974",
          "F1975",
          "F1976",
          "F1977",
          "F1978",
          "F1979",
          "F1980",
          "F1981",
          "F1982",
          "F1983",
          "F1984",
          "F1985",
          "F1986",
          "F1987",
          "F1988",
          "F1989",
          "F1990",
          "F1991",
          "F1992",
          "F1993",
          "F1994",
          "F1995",
          "F1996",
          "F1997",
          "F1998",
          "F1999",
          "F2000",
          "F2001",
          "F2002",
          "F2003",
          "F2004",
          "F2005",
          "F2006",
          "F2007",
          "F2008",
          "F2009",
          "F2010",
          "F2011",
          "F2012",
          "F2013",
          "F2014",
          "F2015",
          "F2016",
          "F2017",
          "F2018",
          "F2019",
          "F2020",
          "F2021",
          "F2022"
         ],
         "y": [
          0.5558936170212766,
          -0.13282978723404257,
          -0.31038297872340426,
          0.025106382978723404,
          -0.3181914893617021,
          0.07042553191489363,
          0.2256595744680851,
          -0.03204255319148936,
          -0.14682978723404255,
          -0.2035957446808511,
          -0.07323404255319149,
          0.01787234042553192,
          0.08695744680851063,
          0.06404255319148935,
          0.3227659574468085,
          -0.04972340425531915,
          0.04491489361702127,
          -0.17300000000000001,
          -0.19980851063829788,
          -0.15563829787234043,
          -0.0014042553191489363,
          0.18829787234042553,
          0.3373829787234042,
          -0.01321276595744681,
          -0.2117021276595745,
          0.04587234042553192,
          -0.11802127659574467,
          0.38455319148936173,
          0.6096808510638299,
          0.7690638297872341,
          0.18285106382978722,
          0.6348936170212766,
          0.19985106382978726,
          1.044595744680851,
          0.8125744680851065,
          -0.05731914893617021,
          0.5578297872340425,
          0.7942340425531915,
          0.8984893617021277,
          1.2907659574468084,
          1.28468085106383,
          1.150127659574468,
          0.996404255319149,
          0.8387872340425532,
          0.8281914893617021,
          0.9558085106382979,
          1.756744680851064,
          1.3890212765957448,
          1.3202127659574467,
          0.6890425531914893,
          1.0987234042553191,
          1.386276595744681,
          0.9735957446808511,
          1.9310851063829786,
          1.6760851063829787,
          1.7893617021276595,
          1.5370851063829787,
          1.9600851063829787,
          1.9237872340425533,
          2.248553191489362,
          1.4743191489361704,
          2.135723404255319
         ]
        },
        {
         "mode": "lines",
         "name": "North America",
         "type": "scatter",
         "x": [
          "F1961",
          "F1962",
          "F1963",
          "F1964",
          "F1965",
          "F1966",
          "F1967",
          "F1968",
          "F1969",
          "F1970",
          "F1971",
          "F1972",
          "F1973",
          "F1974",
          "F1975",
          "F1976",
          "F1977",
          "F1978",
          "F1979",
          "F1980",
          "F1981",
          "F1982",
          "F1983",
          "F1984",
          "F1985",
          "F1986",
          "F1987",
          "F1988",
          "F1989",
          "F1990",
          "F1991",
          "F1992",
          "F1993",
          "F1994",
          "F1995",
          "F1996",
          "F1997",
          "F1998",
          "F1999",
          "F2000",
          "F2001",
          "F2002",
          "F2003",
          "F2004",
          "F2005",
          "F2006",
          "F2007",
          "F2008",
          "F2009",
          "F2010",
          "F2011",
          "F2012",
          "F2013",
          "F2014",
          "F2015",
          "F2016",
          "F2017",
          "F2018",
          "F2019",
          "F2020",
          "F2021",
          "F2022"
         ],
         "y": [
          0.01342857142857143,
          -0.012200000000000003,
          0.10134285714285715,
          0.03554285714285714,
          -0.20511428571428572,
          -0.019514285714285713,
          -0.21842857142857142,
          -0.18648571428571428,
          0.26334285714285716,
          0.03957142857142857,
          -0.24174285714285715,
          -0.08902857142857142,
          0.1478857142857143,
          -0.27777142857142856,
          -0.17377142857142858,
          -0.29665714285714284,
          0.1718,
          0.08651428571428571,
          0.16588571428571428,
          0.4989714285714285,
          0.3834857142857143,
          0.20908571428571426,
          0.44945714285714283,
          0.03294285714285714,
          -0.014771428571428574,
          0.07142857142857142,
          0.5595142857142856,
          0.4865714285714286,
          0.08437142857142858,
          0.38182857142857146,
          0.4304857142857143,
          0.2943714285714286,
          0.3338285714285715,
          0.5759428571428572,
          0.6823428571428571,
          0.3420285714285714,
          0.6234285714285714,
          1.0998571428571429,
          0.6021142857142857,
          0.4014,
          0.5370857142857143,
          0.6974285714285714,
          0.9266857142857142,
          0.6084285714285714,
          0.9128000000000001,
          0.8599714285714286,
          0.8868285714285715,
          0.4911142857142857,
          0.6547428571428572,
          1.1322,
          0.6551428571428571,
          0.7751999999999999,
          0.8560285714285714,
          0.7946,
          1.0453142857142856,
          1.1501142857142856,
          0.9931142857142857,
          0.7534571428571429,
          1.074942857142857,
          1.2854571428571429,
          1.0178,
          0.8786
         ]
        },
        {
         "mode": "lines",
         "name": "Oceania",
         "type": "scatter",
         "x": [
          "F1961",
          "F1962",
          "F1963",
          "F1964",
          "F1965",
          "F1966",
          "F1967",
          "F1968",
          "F1969",
          "F1970",
          "F1971",
          "F1972",
          "F1973",
          "F1974",
          "F1975",
          "F1976",
          "F1977",
          "F1978",
          "F1979",
          "F1980",
          "F1981",
          "F1982",
          "F1983",
          "F1984",
          "F1985",
          "F1986",
          "F1987",
          "F1988",
          "F1989",
          "F1990",
          "F1991",
          "F1992",
          "F1993",
          "F1994",
          "F1995",
          "F1996",
          "F1997",
          "F1998",
          "F1999",
          "F2000",
          "F2001",
          "F2002",
          "F2003",
          "F2004",
          "F2005",
          "F2006",
          "F2007",
          "F2008",
          "F2009",
          "F2010",
          "F2011",
          "F2012",
          "F2013",
          "F2014",
          "F2015",
          "F2016",
          "F2017",
          "F2018",
          "F2019",
          "F2020",
          "F2021",
          "F2022"
         ],
         "y": [
          0.04773913043478261,
          0.044869565217391306,
          -0.041739130434782605,
          0.03639130434782609,
          -0.3083913043478261,
          -0.15404347826086956,
          -0.13108695652173913,
          -0.15834782608695652,
          0.005391304347826088,
          0.15086956521739128,
          -0.06143478260869566,
          -0.12147826086956522,
          0.31765217391304346,
          0.00034782608695651965,
          0.019869565217391305,
          -0.12447826086956522,
          -0.026521739130434784,
          0.11430434782608696,
          0.16178260869565217,
          0.1992608695652174,
          0.18460869565217394,
          0.09360869565217392,
          0.15634782608695652,
          0.15591304347826088,
          0.22108695652173913,
          0.19091304347826088,
          0.1358695652173913,
          0.445695652173913,
          0.19252173913043477,
          0.30039130434782607,
          0.267,
          0.10791304347826086,
          -0.06091304347826087,
          0.08778260869565217,
          0.3650869565217391,
          0.34952173913043477,
          0.10234782608695653,
          0.4584347826086957,
          0.30165217391304344,
          0.31326086956521737,
          0.41991304347826086,
          0.51,
          0.3864347826086956,
          0.32382608695652176,
          0.4612608695652174,
          0.40704347826086956,
          0.561695652173913,
          0.30143478260869566,
          0.31043478260869567,
          0.632695652173913,
          0.4720434782608695,
          0.4569130434782609,
          0.6613913043478261,
          0.5614782608695652,
          0.5578260869565217,
          0.9016956521739131,
          0.8008695652173914,
          0.6917826086956521,
          0.7536086956521738,
          0.8766086956521739,
          0.7575652173913043,
          0.8182173913043478
         ]
        },
        {
         "mode": "lines",
         "name": "South America",
         "type": "scatter",
         "x": [
          "F1961",
          "F1962",
          "F1963",
          "F1964",
          "F1965",
          "F1966",
          "F1967",
          "F1968",
          "F1969",
          "F1970",
          "F1971",
          "F1972",
          "F1973",
          "F1974",
          "F1975",
          "F1976",
          "F1977",
          "F1978",
          "F1979",
          "F1980",
          "F1981",
          "F1982",
          "F1983",
          "F1984",
          "F1985",
          "F1986",
          "F1987",
          "F1988",
          "F1989",
          "F1990",
          "F1991",
          "F1992",
          "F1993",
          "F1994",
          "F1995",
          "F1996",
          "F1997",
          "F1998",
          "F1999",
          "F2000",
          "F2001",
          "F2002",
          "F2003",
          "F2004",
          "F2005",
          "F2006",
          "F2007",
          "F2008",
          "F2009",
          "F2010",
          "F2011",
          "F2012",
          "F2013",
          "F2014",
          "F2015",
          "F2016",
          "F2017",
          "F2018",
          "F2019",
          "F2020",
          "F2021",
          "F2022"
         ],
         "y": [
          0.06738461538461538,
          -0.103,
          0.11076923076923079,
          -0.1416923076923077,
          0.043307692307692304,
          -0.045307692307692306,
          -0.042,
          -0.055615384615384615,
          0.32761538461538464,
          0.20253846153846153,
          -0.38676923076923075,
          0.06607692307692307,
          0.13692307692307693,
          -0.20453846153846153,
          -0.16923076923076924,
          -0.21946153846153849,
          0.28146153846153843,
          0.19930769230769232,
          0.262,
          0.3383846153846154,
          0.22584615384615384,
          0.30853846153846154,
          0.4492307692307692,
          0.019615384615384607,
          0.09738461538461539,
          0.2469230769230769,
          0.5507692307692308,
          0.19046153846153846,
          0.13207692307692306,
          0.3249230769230769,
          0.382,
          0.25169230769230766,
          0.3096153846153846,
          0.446,
          0.5600769230769231,
          0.3527692307692308,
          0.7543076923076922,
          0.8226923076923077,
          0.2401538461538462,
          0.24153846153846154,
          0.5654615384615385,
          0.7172307692307692,
          0.6754615384615386,
          0.6396923076923078,
          0.7483846153846153,
          0.708076923076923,
          0.48307692307692307,
          0.5423846153846154,
          0.8066923076923077,
          0.7336153846153846,
          0.6386923076923078,
          0.7390769230769231,
          0.5927692307692308,
          0.896,
          1.1575384615384616,
          0.9861538461538462,
          1.021153846153846,
          0.8406923076923077,
          1.0453846153846154,
          1.2633076923076922,
          0.8895384615384615,
          0.694923076923077
         ]
        },
        {
         "mode": "lines",
         "name": "World",
         "type": "scatter",
         "x": [
          "F1961",
          "F1962",
          "F1963",
          "F1964",
          "F1965",
          "F1966",
          "F1967",
          "F1968",
          "F1969",
          "F1970",
          "F1971",
          "F1972",
          "F1973",
          "F1974",
          "F1975",
          "F1976",
          "F1977",
          "F1978",
          "F1979",
          "F1980",
          "F1981",
          "F1982",
          "F1983",
          "F1984",
          "F1985",
          "F1986",
          "F1987",
          "F1988",
          "F1989",
          "F1990",
          "F1991",
          "F1992",
          "F1993",
          "F1994",
          "F1995",
          "F1996",
          "F1997",
          "F1998",
          "F1999",
          "F2000",
          "F2001",
          "F2002",
          "F2003",
          "F2004",
          "F2005",
          "F2006",
          "F2007",
          "F2008",
          "F2009",
          "F2010",
          "F2011",
          "F2012",
          "F2013",
          "F2014",
          "F2015",
          "F2016",
          "F2017",
          "F2018",
          "F2019",
          "F2020",
          "F2021",
          "F2022"
         ],
         "y": [
          0.211,
          0.038,
          0.168,
          -0.246,
          -0.223,
          0.201,
          -0.117,
          -0.126,
          -0.092,
          0.15,
          -0.093,
          -0.199,
          0.269,
          -0.181,
          0.088,
          -0.314,
          0.269,
          0.001,
          0.226,
          0.332,
          0.443,
          0.086,
          0.46,
          0.127,
          -0.031,
          0.242,
          0.403,
          0.558,
          0.331,
          0.639,
          0.468,
          0.184,
          0.348,
          0.507,
          0.835,
          0.355,
          0.656,
          0.993,
          0.783,
          0.728,
          0.834,
          1.021,
          0.893,
          0.913,
          1.095,
          0.998,
          1.195,
          0.935,
          0.957,
          1.219,
          0.921,
          1.074,
          1.016,
          1.053,
          1.412,
          1.66,
          1.429,
          1.29,
          1.444,
          1.711,
          1.447,
          1.394
         ]
        }
       ],
       "layout": {
        "template": {
         "data": {
          "bar": [
           {
            "error_x": {
             "color": "#2a3f5f"
            },
            "error_y": {
             "color": "#2a3f5f"
            },
            "marker": {
             "line": {
              "color": "#E5ECF6",
              "width": 0.5
             },
             "pattern": {
              "fillmode": "overlay",
              "size": 10,
              "solidity": 0.2
             }
            },
            "type": "bar"
           }
          ],
          "barpolar": [
           {
            "marker": {
             "line": {
              "color": "#E5ECF6",
              "width": 0.5
             },
             "pattern": {
              "fillmode": "overlay",
              "size": 10,
              "solidity": 0.2
             }
            },
            "type": "barpolar"
           }
          ],
          "carpet": [
           {
            "aaxis": {
             "endlinecolor": "#2a3f5f",
             "gridcolor": "white",
             "linecolor": "white",
             "minorgridcolor": "white",
             "startlinecolor": "#2a3f5f"
            },
            "baxis": {
             "endlinecolor": "#2a3f5f",
             "gridcolor": "white",
             "linecolor": "white",
             "minorgridcolor": "white",
             "startlinecolor": "#2a3f5f"
            },
            "type": "carpet"
           }
          ],
          "choropleth": [
           {
            "colorbar": {
             "outlinewidth": 0,
             "ticks": ""
            },
            "type": "choropleth"
           }
          ],
          "contour": [
           {
            "colorbar": {
             "outlinewidth": 0,
             "ticks": ""
            },
            "colorscale": [
             [
              0,
              "#0d0887"
             ],
             [
              0.1111111111111111,
              "#46039f"
             ],
             [
              0.2222222222222222,
              "#7201a8"
             ],
             [
              0.3333333333333333,
              "#9c179e"
             ],
             [
              0.4444444444444444,
              "#bd3786"
             ],
             [
              0.5555555555555556,
              "#d8576b"
             ],
             [
              0.6666666666666666,
              "#ed7953"
             ],
             [
              0.7777777777777778,
              "#fb9f3a"
             ],
             [
              0.8888888888888888,
              "#fdca26"
             ],
             [
              1,
              "#f0f921"
             ]
            ],
            "type": "contour"
           }
          ],
          "contourcarpet": [
           {
            "colorbar": {
             "outlinewidth": 0,
             "ticks": ""
            },
            "type": "contourcarpet"
           }
          ],
          "heatmap": [
           {
            "colorbar": {
             "outlinewidth": 0,
             "ticks": ""
            },
            "colorscale": [
             [
              0,
              "#0d0887"
             ],
             [
              0.1111111111111111,
              "#46039f"
             ],
             [
              0.2222222222222222,
              "#7201a8"
             ],
             [
              0.3333333333333333,
              "#9c179e"
             ],
             [
              0.4444444444444444,
              "#bd3786"
             ],
             [
              0.5555555555555556,
              "#d8576b"
             ],
             [
              0.6666666666666666,
              "#ed7953"
             ],
             [
              0.7777777777777778,
              "#fb9f3a"
             ],
             [
              0.8888888888888888,
              "#fdca26"
             ],
             [
              1,
              "#f0f921"
             ]
            ],
            "type": "heatmap"
           }
          ],
          "heatmapgl": [
           {
            "colorbar": {
             "outlinewidth": 0,
             "ticks": ""
            },
            "colorscale": [
             [
              0,
              "#0d0887"
             ],
             [
              0.1111111111111111,
              "#46039f"
             ],
             [
              0.2222222222222222,
              "#7201a8"
             ],
             [
              0.3333333333333333,
              "#9c179e"
             ],
             [
              0.4444444444444444,
              "#bd3786"
             ],
             [
              0.5555555555555556,
              "#d8576b"
             ],
             [
              0.6666666666666666,
              "#ed7953"
             ],
             [
              0.7777777777777778,
              "#fb9f3a"
             ],
             [
              0.8888888888888888,
              "#fdca26"
             ],
             [
              1,
              "#f0f921"
             ]
            ],
            "type": "heatmapgl"
           }
          ],
          "histogram": [
           {
            "marker": {
             "pattern": {
              "fillmode": "overlay",
              "size": 10,
              "solidity": 0.2
             }
            },
            "type": "histogram"
           }
          ],
          "histogram2d": [
           {
            "colorbar": {
             "outlinewidth": 0,
             "ticks": ""
            },
            "colorscale": [
             [
              0,
              "#0d0887"
             ],
             [
              0.1111111111111111,
              "#46039f"
             ],
             [
              0.2222222222222222,
              "#7201a8"
             ],
             [
              0.3333333333333333,
              "#9c179e"
             ],
             [
              0.4444444444444444,
              "#bd3786"
             ],
             [
              0.5555555555555556,
              "#d8576b"
             ],
             [
              0.6666666666666666,
              "#ed7953"
             ],
             [
              0.7777777777777778,
              "#fb9f3a"
             ],
             [
              0.8888888888888888,
              "#fdca26"
             ],
             [
              1,
              "#f0f921"
             ]
            ],
            "type": "histogram2d"
           }
          ],
          "histogram2dcontour": [
           {
            "colorbar": {
             "outlinewidth": 0,
             "ticks": ""
            },
            "colorscale": [
             [
              0,
              "#0d0887"
             ],
             [
              0.1111111111111111,
              "#46039f"
             ],
             [
              0.2222222222222222,
              "#7201a8"
             ],
             [
              0.3333333333333333,
              "#9c179e"
             ],
             [
              0.4444444444444444,
              "#bd3786"
             ],
             [
              0.5555555555555556,
              "#d8576b"
             ],
             [
              0.6666666666666666,
              "#ed7953"
             ],
             [
              0.7777777777777778,
              "#fb9f3a"
             ],
             [
              0.8888888888888888,
              "#fdca26"
             ],
             [
              1,
              "#f0f921"
             ]
            ],
            "type": "histogram2dcontour"
           }
          ],
          "mesh3d": [
           {
            "colorbar": {
             "outlinewidth": 0,
             "ticks": ""
            },
            "type": "mesh3d"
           }
          ],
          "parcoords": [
           {
            "line": {
             "colorbar": {
              "outlinewidth": 0,
              "ticks": ""
             }
            },
            "type": "parcoords"
           }
          ],
          "pie": [
           {
            "automargin": true,
            "type": "pie"
           }
          ],
          "scatter": [
           {
            "fillpattern": {
             "fillmode": "overlay",
             "size": 10,
             "solidity": 0.2
            },
            "type": "scatter"
           }
          ],
          "scatter3d": [
           {
            "line": {
             "colorbar": {
              "outlinewidth": 0,
              "ticks": ""
             }
            },
            "marker": {
             "colorbar": {
              "outlinewidth": 0,
              "ticks": ""
             }
            },
            "type": "scatter3d"
           }
          ],
          "scattercarpet": [
           {
            "marker": {
             "colorbar": {
              "outlinewidth": 0,
              "ticks": ""
             }
            },
            "type": "scattercarpet"
           }
          ],
          "scattergeo": [
           {
            "marker": {
             "colorbar": {
              "outlinewidth": 0,
              "ticks": ""
             }
            },
            "type": "scattergeo"
           }
          ],
          "scattergl": [
           {
            "marker": {
             "colorbar": {
              "outlinewidth": 0,
              "ticks": ""
             }
            },
            "type": "scattergl"
           }
          ],
          "scattermapbox": [
           {
            "marker": {
             "colorbar": {
              "outlinewidth": 0,
              "ticks": ""
             }
            },
            "type": "scattermapbox"
           }
          ],
          "scatterpolar": [
           {
            "marker": {
             "colorbar": {
              "outlinewidth": 0,
              "ticks": ""
             }
            },
            "type": "scatterpolar"
           }
          ],
          "scatterpolargl": [
           {
            "marker": {
             "colorbar": {
              "outlinewidth": 0,
              "ticks": ""
             }
            },
            "type": "scatterpolargl"
           }
          ],
          "scatterternary": [
           {
            "marker": {
             "colorbar": {
              "outlinewidth": 0,
              "ticks": ""
             }
            },
            "type": "scatterternary"
           }
          ],
          "surface": [
           {
            "colorbar": {
             "outlinewidth": 0,
             "ticks": ""
            },
            "colorscale": [
             [
              0,
              "#0d0887"
             ],
             [
              0.1111111111111111,
              "#46039f"
             ],
             [
              0.2222222222222222,
              "#7201a8"
             ],
             [
              0.3333333333333333,
              "#9c179e"
             ],
             [
              0.4444444444444444,
              "#bd3786"
             ],
             [
              0.5555555555555556,
              "#d8576b"
             ],
             [
              0.6666666666666666,
              "#ed7953"
             ],
             [
              0.7777777777777778,
              "#fb9f3a"
             ],
             [
              0.8888888888888888,
              "#fdca26"
             ],
             [
              1,
              "#f0f921"
             ]
            ],
            "type": "surface"
           }
          ],
          "table": [
           {
            "cells": {
             "fill": {
              "color": "#EBF0F8"
             },
             "line": {
              "color": "white"
             }
            },
            "header": {
             "fill": {
              "color": "#C8D4E3"
             },
             "line": {
              "color": "white"
             }
            },
            "type": "table"
           }
          ]
         },
         "layout": {
          "annotationdefaults": {
           "arrowcolor": "#2a3f5f",
           "arrowhead": 0,
           "arrowwidth": 1
          },
          "autotypenumbers": "strict",
          "coloraxis": {
           "colorbar": {
            "outlinewidth": 0,
            "ticks": ""
           }
          },
          "colorscale": {
           "diverging": [
            [
             0,
             "#8e0152"
            ],
            [
             0.1,
             "#c51b7d"
            ],
            [
             0.2,
             "#de77ae"
            ],
            [
             0.3,
             "#f1b6da"
            ],
            [
             0.4,
             "#fde0ef"
            ],
            [
             0.5,
             "#f7f7f7"
            ],
            [
             0.6,
             "#e6f5d0"
            ],
            [
             0.7,
             "#b8e186"
            ],
            [
             0.8,
             "#7fbc41"
            ],
            [
             0.9,
             "#4d9221"
            ],
            [
             1,
             "#276419"
            ]
           ],
           "sequential": [
            [
             0,
             "#0d0887"
            ],
            [
             0.1111111111111111,
             "#46039f"
            ],
            [
             0.2222222222222222,
             "#7201a8"
            ],
            [
             0.3333333333333333,
             "#9c179e"
            ],
            [
             0.4444444444444444,
             "#bd3786"
            ],
            [
             0.5555555555555556,
             "#d8576b"
            ],
            [
             0.6666666666666666,
             "#ed7953"
            ],
            [
             0.7777777777777778,
             "#fb9f3a"
            ],
            [
             0.8888888888888888,
             "#fdca26"
            ],
            [
             1,
             "#f0f921"
            ]
           ],
           "sequentialminus": [
            [
             0,
             "#0d0887"
            ],
            [
             0.1111111111111111,
             "#46039f"
            ],
            [
             0.2222222222222222,
             "#7201a8"
            ],
            [
             0.3333333333333333,
             "#9c179e"
            ],
            [
             0.4444444444444444,
             "#bd3786"
            ],
            [
             0.5555555555555556,
             "#d8576b"
            ],
            [
             0.6666666666666666,
             "#ed7953"
            ],
            [
             0.7777777777777778,
             "#fb9f3a"
            ],
            [
             0.8888888888888888,
             "#fdca26"
            ],
            [
             1,
             "#f0f921"
            ]
           ]
          },
          "colorway": [
           "#636efa",
           "#EF553B",
           "#00cc96",
           "#ab63fa",
           "#FFA15A",
           "#19d3f3",
           "#FF6692",
           "#B6E880",
           "#FF97FF",
           "#FECB52"
          ],
          "font": {
           "color": "#2a3f5f"
          },
          "geo": {
           "bgcolor": "white",
           "lakecolor": "white",
           "landcolor": "#E5ECF6",
           "showlakes": true,
           "showland": true,
           "subunitcolor": "white"
          },
          "hoverlabel": {
           "align": "left"
          },
          "hovermode": "closest",
          "mapbox": {
           "style": "light"
          },
          "paper_bgcolor": "white",
          "plot_bgcolor": "#E5ECF6",
          "polar": {
           "angularaxis": {
            "gridcolor": "white",
            "linecolor": "white",
            "ticks": ""
           },
           "bgcolor": "#E5ECF6",
           "radialaxis": {
            "gridcolor": "white",
            "linecolor": "white",
            "ticks": ""
           }
          },
          "scene": {
           "xaxis": {
            "backgroundcolor": "#E5ECF6",
            "gridcolor": "white",
            "gridwidth": 2,
            "linecolor": "white",
            "showbackground": true,
            "ticks": "",
            "zerolinecolor": "white"
           },
           "yaxis": {
            "backgroundcolor": "#E5ECF6",
            "gridcolor": "white",
            "gridwidth": 2,
            "linecolor": "white",
            "showbackground": true,
            "ticks": "",
            "zerolinecolor": "white"
           },
           "zaxis": {
            "backgroundcolor": "#E5ECF6",
            "gridcolor": "white",
            "gridwidth": 2,
            "linecolor": "white",
            "showbackground": true,
            "ticks": "",
            "zerolinecolor": "white"
           }
          },
          "shapedefaults": {
           "line": {
            "color": "#2a3f5f"
           }
          },
          "ternary": {
           "aaxis": {
            "gridcolor": "white",
            "linecolor": "white",
            "ticks": ""
           },
           "baxis": {
            "gridcolor": "white",
            "linecolor": "white",
            "ticks": ""
           },
           "bgcolor": "#E5ECF6",
           "caxis": {
            "gridcolor": "white",
            "linecolor": "white",
            "ticks": ""
           }
          },
          "title": {
           "x": 0.05
          },
          "xaxis": {
           "automargin": true,
           "gridcolor": "white",
           "linecolor": "white",
           "ticks": "",
           "title": {
            "standoff": 15
           },
           "zerolinecolor": "white",
           "zerolinewidth": 2
          },
          "yaxis": {
           "automargin": true,
           "gridcolor": "white",
           "linecolor": "white",
           "ticks": "",
           "title": {
            "standoff": 15
           },
           "zerolinecolor": "white",
           "zerolinewidth": 2
          }
         }
        },
        "title": {
         "text": "Line Chart for Continents"
        },
        "xaxis": {
         "title": {
          "text": "Year"
         }
        },
        "yaxis": {
         "title": {
          "text": "Value"
         }
        }
       }
      }
     },
     "metadata": {},
     "output_type": "display_data"
    }
   ],
   "source": [
    "# remove all zero values and compare again\n",
    "\n",
    "# Create x-axis labels (years)\n",
    "x_labels = cont_na.columns\n",
    "\n",
    "# Create traces for each continent\n",
    "traces = []\n",
    "for continent, row in cont_na.iterrows():\n",
    "    y_values = row.values  # Select all values of the row\n",
    "\n",
    "    # Create trace for the line\n",
    "    trace = go.Scatter(\n",
    "        x=x_labels,\n",
    "        y=y_values,\n",
    "        mode='lines',\n",
    "        name=continent\n",
    "    )\n",
    "\n",
    "    traces.append(trace)\n",
    "\n",
    "# Create data list with all traces\n",
    "data = traces\n",
    "\n",
    "# Create layout\n",
    "layout = go.Layout(\n",
    "    title='Line Chart for Continents',\n",
    "    xaxis=dict(title='Year'),\n",
    "    yaxis=dict(title='Value')\n",
    ")\n",
    "\n",
    "# Create figure\n",
    "fig = go.Figure(data=data, layout=layout)\n",
    "\n",
    "# Display the figure\n",
    "fig.show()"
   ]
  }
 ],
 "metadata": {
  "kernelspec": {
   "display_name": "Python 3",
   "language": "python",
   "name": "python3"
  },
  "language_info": {
   "codemirror_mode": {
    "name": "ipython",
    "version": 3
   },
   "file_extension": ".py",
   "mimetype": "text/x-python",
   "name": "python",
   "nbconvert_exporter": "python",
   "pygments_lexer": "ipython3",
   "version": "3.7.13"
  },
  "orig_nbformat": 4
 },
 "nbformat": 4,
 "nbformat_minor": 2
}
